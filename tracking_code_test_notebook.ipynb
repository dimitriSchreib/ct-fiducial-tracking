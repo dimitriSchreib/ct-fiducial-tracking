{
 "cells": [
  {
   "cell_type": "code",
   "execution_count": 1,
   "id": "64fa00ae",
   "metadata": {},
   "outputs": [
    {
     "name": "stdout",
     "output_type": "stream",
     "text": [
      "Jupyter environment detected. Enabling Open3D WebVisualizer.\n",
      "[Open3D INFO] WebRTC GUI backend enabled.\n",
      "[Open3D INFO] WebRTCWindowSystem: HTTP handshake server disabled.\n"
     ]
    }
   ],
   "source": [
    "#Test notebook for tracking rigid body  marker consisting of multiple fiducials within a CT scan volume\n",
    "\n",
    "#3D data processing\n",
    "import open3d as o3d\n",
    "import ct_tracking_library # our helper functions\n",
    "import SimpleITK as sitk\n",
    "import numpy as np\n",
    "import matplotlib.pyplot as plt\n",
    "import os\n",
    "#our processing code\n",
    "from ct_tracking_library.ct_tracking_functions import *\n",
    "from ct_tracking_library.ct_processing_functions import *\n",
    "from ct_tracking_library.ct_display_functions import *"
   ]
  },
  {
   "cell_type": "code",
   "execution_count": null,
   "id": "e9829aa1",
   "metadata": {},
   "outputs": [],
   "source": [
    "#DICOM folder\n",
    "scan_file = './test_data/90FA4003/1F59163E'\n",
    "\n",
    "#choose target marker\n",
    "name = input('Enter the targert marker postion, please enter 1 or 2: ')\n",
    "if int(name) == 1:\n",
    "    target_marker = 'marker1'\n",
    "elif int(name) == 2:\n",
    "    target_marker = 'marker2'\n",
    "print(\"You have choose the target marker: \",target_marker)\n",
    "\n",
    "#Convert DICOM to MHA for tracking\n",
    "convert_scan_to_mesh_mha(scan_file, threshold_value = 2000, debug=True)"
   ]
  },
  {
   "cell_type": "code",
   "execution_count": null,
   "id": "702eee46",
   "metadata": {},
   "outputs": [],
   "source": []
  }
 ],
 "metadata": {
  "kernelspec": {
   "display_name": "Python 3 (ipykernel)",
   "language": "python",
   "name": "python3"
  },
  "language_info": {
   "codemirror_mode": {
    "name": "ipython",
    "version": 3
   },
   "file_extension": ".py",
   "mimetype": "text/x-python",
   "name": "python",
   "nbconvert_exporter": "python",
   "pygments_lexer": "ipython3",
   "version": "3.9.7"
  }
 },
 "nbformat": 4,
 "nbformat_minor": 5
}
