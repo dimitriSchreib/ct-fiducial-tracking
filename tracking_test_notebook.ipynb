{
 "cells": [
  {
   "cell_type": "code",
   "execution_count": 3,
   "metadata": {},
   "outputs": [],
   "source": [
    "#Test notebook for tracking rigid body  marker consisting of multiple fiducials within a CT scan volume\n",
    "\n",
    "#3D data processing\n",
    "import numpy as np\n",
    "import open3d as o3d\n",
    "\n",
    "#our processing code\n",
    "from ct_tracking_library.ct_tracking_functions import *\n",
    "from ct_tracking_library.ct_processing_functions import *"
   ]
  },
  {
   "cell_type": "code",
   "execution_count": 4,
   "metadata": {},
   "outputs": [
    {
     "name": "stdout",
     "output_type": "stream",
     "text": [
      "[Open3D DEBUG] Precompute neighbors.\n",
      "[Open3D DEBUG] Done Precompute neighbors.\n",
      "[Open3D DEBUG] Compute Clusters\n",
      "[Open3D DEBUG] Done Compute Clusters: 118\n"
     ]
    },
    {
     "name": "stderr",
     "output_type": "stream",
     "text": [
      "  0%|          | 0/118 [00:00<?, ?it/s]c:\\Users\\snowl\\Documents\\GitHub\\ct-fiducial-tracking\\ct_tracking_library\\ct_tracking_functions.py:376: FutureWarning: `rcond` parameter will change to the default of machine precision times ``max(M, N)`` where M and N are the input matrix dimensions.\n",
      "To use the future default and silence this warning we advise to pass `rcond=None`, to keep using the old, explicitly pass `rcond=-1`.\n",
      "  C, residules, rank, singval = np.linalg.lstsq(A,f)\n",
      "100%|██████████| 118/118 [00:00<00:00, 401.57it/s]\n"
     ]
    },
    {
     "name": "stdout",
     "output_type": "stream",
     "text": [
      "[Open3D DEBUG] Precompute neighbors.\n",
      "[Open3D DEBUG] Done Precompute neighbors.\n",
      "[Open3D DEBUG] Compute Clusters\n",
      "[Open3D DEBUG] Done Compute Clusters: 2\n",
      "point cloud has 2 clusters\n",
      "[0 1 2 3 4]\n",
      "[5]\n",
      "Multiple good clusters/centroids found\n",
      "Multiple good clusters/centroids found\n",
      "marker centroid coordinates from design: [[  0.           0.           0.        ]\n",
      " [ -5.3257001    8.86418433   5.04704152]\n",
      " [-13.51012247  20.35648747  13.41037419]\n",
      " [ 11.34994372  29.71443298  11.71348397]\n",
      " [ 16.07976587  10.72837663   0.39595237]]\n",
      "found centroid coordinates: [ 19.10814563 326.31997382  62.7215358 ]\n",
      "Everything looks good!\n",
      "the final error is:  0.05897534358364172\n"
     ]
    }
   ],
   "source": [
    "#choose target marker\n",
    "target_marker = 'marker2'\n",
    "\n",
    "#convert scan to mesh for finding markers via thresholding\n",
    "convert_scan_to_mesh(scan_file='./test_data/bb_marker3.pkl')\n",
    "\n",
    "#find candidate fiducials within the scanner returning clustered centroids that could be rigid body markers\n",
    "marker, marker_centroid_coordinates, pcd_selected, mesh, coordinate_frame, good_centroid_clusters = find_candidate_centroids(target_marker = target_marker)\n",
    "\n",
    "#display candidate fiducials\n",
    "o3d.visualization.draw_geometries([pcd_selected, mesh])\n",
    "print('marker centroid coordinates from design: {}'.format(marker))\n",
    "print('found centroid coordinates: {}'.format(marker_centroid_coordinates))\n",
    "\n",
    "#find best transform and marker from candidate fiducials\n",
    "final_R, final_t, permuted_centroids, min_error = find_best_transform_from_candidate_marker_clusters(marker, good_centroid_clusters)"
   ]
  },
  {
   "cell_type": "code",
   "execution_count": 5,
   "metadata": {},
   "outputs": [
    {
     "name": "stdout",
     "output_type": "stream",
     "text": [
      "[[ 0.05 -0.01 -0.01]\n",
      " [ 0.05 -0.03 -0.  ]\n",
      " [-0.04  0.03  0.06]\n",
      " [-0.02 -0.03 -0.01]\n",
      " [-0.04  0.03 -0.04]]\n",
      "0.13187287724942895\n"
     ]
    }
   ],
   "source": [
    "#display tracked  markers and coordinate frames\n",
    "marker = np.load('./test_data/'+target_marker+'.npy')\n",
    "marker_3d_base, marker_3d_transformed, err = visualize_tracked_marker(marker, final_R, final_t, permuted_centroids)\n",
    "o3d.visualization.draw_geometries(marker_3d_base+marker_3d_transformed)\n",
    "\n",
    "#tracking error from final transform\n",
    "np.set_printoptions(2)\n",
    "print(err)\n",
    "print(np.linalg.norm(err))\n",
    "\n",
    "#visualize everything at once\n",
    "visualization_list = [pcd_selected, mesh]+marker_3d_base+marker_3d_transformed\n",
    "o3d.visualization.draw_geometries(visualization_list)"
   ]
  },
  {
   "cell_type": "code",
   "execution_count": null,
   "metadata": {},
   "outputs": [],
   "source": []
  }
 ],
 "metadata": {
  "kernelspec": {
   "display_name": "Python 3.9.7 ('base')",
   "language": "python",
   "name": "python3"
  },
  "language_info": {
   "codemirror_mode": {
    "name": "ipython",
    "version": 3
   },
   "file_extension": ".py",
   "mimetype": "text/x-python",
   "name": "python",
   "nbconvert_exporter": "python",
   "pygments_lexer": "ipython3",
   "version": "3.9.7"
  },
  "vscode": {
   "interpreter": {
    "hash": "0d8f9822538f916fd3882b0229ca50b27681e14c7239e8291fa4436f36316800"
   }
  }
 },
 "nbformat": 4,
 "nbformat_minor": 2
}
