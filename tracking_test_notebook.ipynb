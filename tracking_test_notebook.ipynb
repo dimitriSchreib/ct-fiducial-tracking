{
 "cells": [
  {
   "cell_type": "code",
   "execution_count": 1,
   "metadata": {},
   "outputs": [
    {
     "name": "stdout",
     "output_type": "stream",
     "text": [
      "Jupyter environment detected. Enabling Open3D WebVisualizer.\n",
      "[Open3D INFO] WebRTC GUI backend enabled.\n",
      "[Open3D INFO] WebRTCWindowSystem: HTTP handshake server disabled.\n"
     ]
    },
    {
     "name": "stderr",
     "output_type": "stream",
     "text": [
      "c:\\Users\\snowl\\anaconda3\\lib\\site-packages\\scipy\\__init__.py:146: UserWarning: A NumPy version >=1.16.5 and <1.23.0 is required for this version of SciPy (detected version 1.23.1\n",
      "  warnings.warn(f\"A NumPy version >={np_minversion} and <{np_maxversion}\"\n"
     ]
    }
   ],
   "source": [
    "#Test notebook for tracking rigid body  marker consisting of multiple fiducials within a CT scan volume\n",
    "\n",
    "#3D data processing\n",
    "import open3d as o3d\n",
    "import ct_tracking_library # our helper functions\n",
    "import SimpleITK as sitk\n",
    "import numpy as np\n",
    "import matplotlib.pyplot as plt\n",
    "import os\n",
    "from ipywidgets import interact, fixed\n",
    "\n",
    "#our processing code\n",
    "from ct_tracking_library.ct_motor_functions import *\n",
    "from ct_tracking_library.ct_tracking_functions import *\n",
    "from ct_tracking_library.ct_processing_functions import *\n",
    "from ct_tracking_library.ct_display_functions import *\n",
    "\n",
    "#used for GUI\n",
    "%matplotlib notebook\n",
    "\n",
    "#find transform\n",
    "import transforms3d as t3d\n",
    "import datetime\n",
    "import time\n",
    "\n",
    "# collect MSE from all the Trials\n",
    "E_list = []"
   ]
  },
  {
   "cell_type": "code",
   "execution_count": 2,
   "metadata": {},
   "outputs": [],
   "source": [
    "class Marker():\n",
    "    \"\"\"\n",
    "    time(dataetime): the time marker object is created.\n",
    "    key: the serlerial key for the dicom file.\n",
    "    T(np.array): transform of the marker.\n",
    "    error: rmse of the spere picked.\n",
    "    \"\"\"\n",
    "    def __init__(self,time,d_key,geometry=None):\n",
    "        self.time = time\n",
    "        self.key = d_key\n",
    "        self.geometry = geometry\n",
    "        self.T = None\n",
    "        slef.error = None "
   ]
  },
  {
   "cell_type": "code",
   "execution_count": 3,
   "metadata": {},
   "outputs": [],
   "source": [
    "class Robot():\n",
    "    \"\"\"\n",
    "    time(datetime): the time robot object is created.\n",
    "    m(float):therta to joint_postion.\n",
    "    theta(radians): the postion of the motor.\n",
    "    joint_postion(float): motor postion in meters.\n",
    "    STD(float): the standard deviation of the motor on both end. \n",
    "    \"\"\"\n",
    "    \n",
    "    def __init__(self,time,deviation):\n",
    "        self.time = time\n",
    "        self.theta = None\n",
    "        slef.m = None\n",
    "        slef.joint_postion = None\n",
    "        self.STD = deviation"
   ]
  },
  {
   "cell_type": "markdown",
   "metadata": {},
   "source": [
    "## Motor Functions"
   ]
  },
  {
   "cell_type": "markdown",
   "metadata": {},
   "source": [
    "### zero on the center, user enter the startng postion in degree"
   ]
  },
  {
   "cell_type": "code",
   "execution_count": 4,
   "metadata": {},
   "outputs": [],
   "source": [
    "c = moteus.Controller()"
   ]
  },
  {
   "cell_type": "markdown",
   "metadata": {},
   "source": [
    "## Setup the Motor\n",
    "\n",
    "User input: millimeters (because thats easier to think about than meters)\n",
    "Motor motions: radians, radian/s, etc. (because thats is an SI type unit)\n",
    "Actuator motions: millimeters (because thats an SI type unit)\n",
    "Transforms: radians and millimeters because thats always pretty much they use"
   ]
  },
  {
   "cell_type": "markdown",
   "metadata": {},
   "source": [
    "#### Run the code below to check the motor each Test"
   ]
  },
  {
   "cell_type": "code",
   "execution_count": 15,
   "metadata": {
    "scrolled": false
   },
   "outputs": [
    {
     "name": "stdout",
     "output_type": "stream",
     "text": [
      "Enter the number of loop2\n"
     ]
    },
    {
     "data": {
      "application/javascript": "/* Put everything inside the global mpl namespace */\n/* global mpl */\nwindow.mpl = {};\n\nmpl.get_websocket_type = function () {\n    if (typeof WebSocket !== 'undefined') {\n        return WebSocket;\n    } else if (typeof MozWebSocket !== 'undefined') {\n        return MozWebSocket;\n    } else {\n        alert(\n            'Your browser does not have WebSocket support. ' +\n                'Please try Chrome, Safari or Firefox ≥ 6. ' +\n                'Firefox 4 and 5 are also supported but you ' +\n                'have to enable WebSockets in about:config.'\n        );\n    }\n};\n\nmpl.figure = function (figure_id, websocket, ondownload, parent_element) {\n    this.id = figure_id;\n\n    this.ws = websocket;\n\n    this.supports_binary = this.ws.binaryType !== undefined;\n\n    if (!this.supports_binary) {\n        var warnings = document.getElementById('mpl-warnings');\n        if (warnings) {\n            warnings.style.display = 'block';\n            warnings.textContent =\n                'This browser does not support binary websocket messages. ' +\n                'Performance may be slow.';\n        }\n    }\n\n    this.imageObj = new Image();\n\n    this.context = undefined;\n    this.message = undefined;\n    this.canvas = undefined;\n    this.rubberband_canvas = undefined;\n    this.rubberband_context = undefined;\n    this.format_dropdown = undefined;\n\n    this.image_mode = 'full';\n\n    this.root = document.createElement('div');\n    this.root.setAttribute('style', 'display: inline-block');\n    this._root_extra_style(this.root);\n\n    parent_element.appendChild(this.root);\n\n    this._init_header(this);\n    this._init_canvas(this);\n    this._init_toolbar(this);\n\n    var fig = this;\n\n    this.waiting = false;\n\n    this.ws.onopen = function () {\n        fig.send_message('supports_binary', { value: fig.supports_binary });\n        fig.send_message('send_image_mode', {});\n        if (fig.ratio !== 1) {\n            fig.send_message('set_device_pixel_ratio', {\n                device_pixel_ratio: fig.ratio,\n            });\n        }\n        fig.send_message('refresh', {});\n    };\n\n    this.imageObj.onload = function () {\n        if (fig.image_mode === 'full') {\n            // Full images could contain transparency (where diff images\n            // almost always do), so we need to clear the canvas so that\n            // there is no ghosting.\n            fig.context.clearRect(0, 0, fig.canvas.width, fig.canvas.height);\n        }\n        fig.context.drawImage(fig.imageObj, 0, 0);\n    };\n\n    this.imageObj.onunload = function () {\n        fig.ws.close();\n    };\n\n    this.ws.onmessage = this._make_on_message_function(this);\n\n    this.ondownload = ondownload;\n};\n\nmpl.figure.prototype._init_header = function () {\n    var titlebar = document.createElement('div');\n    titlebar.classList =\n        'ui-dialog-titlebar ui-widget-header ui-corner-all ui-helper-clearfix';\n    var titletext = document.createElement('div');\n    titletext.classList = 'ui-dialog-title';\n    titletext.setAttribute(\n        'style',\n        'width: 100%; text-align: center; padding: 3px;'\n    );\n    titlebar.appendChild(titletext);\n    this.root.appendChild(titlebar);\n    this.header = titletext;\n};\n\nmpl.figure.prototype._canvas_extra_style = function (_canvas_div) {};\n\nmpl.figure.prototype._root_extra_style = function (_canvas_div) {};\n\nmpl.figure.prototype._init_canvas = function () {\n    var fig = this;\n\n    var canvas_div = (this.canvas_div = document.createElement('div'));\n    canvas_div.setAttribute(\n        'style',\n        'border: 1px solid #ddd;' +\n            'box-sizing: content-box;' +\n            'clear: both;' +\n            'min-height: 1px;' +\n            'min-width: 1px;' +\n            'outline: 0;' +\n            'overflow: hidden;' +\n            'position: relative;' +\n            'resize: both;'\n    );\n\n    function on_keyboard_event_closure(name) {\n        return function (event) {\n            return fig.key_event(event, name);\n        };\n    }\n\n    canvas_div.addEventListener(\n        'keydown',\n        on_keyboard_event_closure('key_press')\n    );\n    canvas_div.addEventListener(\n        'keyup',\n        on_keyboard_event_closure('key_release')\n    );\n\n    this._canvas_extra_style(canvas_div);\n    this.root.appendChild(canvas_div);\n\n    var canvas = (this.canvas = document.createElement('canvas'));\n    canvas.classList.add('mpl-canvas');\n    canvas.setAttribute('style', 'box-sizing: content-box;');\n\n    this.context = canvas.getContext('2d');\n\n    var backingStore =\n        this.context.backingStorePixelRatio ||\n        this.context.webkitBackingStorePixelRatio ||\n        this.context.mozBackingStorePixelRatio ||\n        this.context.msBackingStorePixelRatio ||\n        this.context.oBackingStorePixelRatio ||\n        this.context.backingStorePixelRatio ||\n        1;\n\n    this.ratio = (window.devicePixelRatio || 1) / backingStore;\n\n    var rubberband_canvas = (this.rubberband_canvas = document.createElement(\n        'canvas'\n    ));\n    rubberband_canvas.setAttribute(\n        'style',\n        'box-sizing: content-box; position: absolute; left: 0; top: 0; z-index: 1;'\n    );\n\n    // Apply a ponyfill if ResizeObserver is not implemented by browser.\n    if (this.ResizeObserver === undefined) {\n        if (window.ResizeObserver !== undefined) {\n            this.ResizeObserver = window.ResizeObserver;\n        } else {\n            var obs = _JSXTOOLS_RESIZE_OBSERVER({});\n            this.ResizeObserver = obs.ResizeObserver;\n        }\n    }\n\n    this.resizeObserverInstance = new this.ResizeObserver(function (entries) {\n        var nentries = entries.length;\n        for (var i = 0; i < nentries; i++) {\n            var entry = entries[i];\n            var width, height;\n            if (entry.contentBoxSize) {\n                if (entry.contentBoxSize instanceof Array) {\n                    // Chrome 84 implements new version of spec.\n                    width = entry.contentBoxSize[0].inlineSize;\n                    height = entry.contentBoxSize[0].blockSize;\n                } else {\n                    // Firefox implements old version of spec.\n                    width = entry.contentBoxSize.inlineSize;\n                    height = entry.contentBoxSize.blockSize;\n                }\n            } else {\n                // Chrome <84 implements even older version of spec.\n                width = entry.contentRect.width;\n                height = entry.contentRect.height;\n            }\n\n            // Keep the size of the canvas and rubber band canvas in sync with\n            // the canvas container.\n            if (entry.devicePixelContentBoxSize) {\n                // Chrome 84 implements new version of spec.\n                canvas.setAttribute(\n                    'width',\n                    entry.devicePixelContentBoxSize[0].inlineSize\n                );\n                canvas.setAttribute(\n                    'height',\n                    entry.devicePixelContentBoxSize[0].blockSize\n                );\n            } else {\n                canvas.setAttribute('width', width * fig.ratio);\n                canvas.setAttribute('height', height * fig.ratio);\n            }\n            canvas.setAttribute(\n                'style',\n                'width: ' + width + 'px; height: ' + height + 'px;'\n            );\n\n            rubberband_canvas.setAttribute('width', width);\n            rubberband_canvas.setAttribute('height', height);\n\n            // And update the size in Python. We ignore the initial 0/0 size\n            // that occurs as the element is placed into the DOM, which should\n            // otherwise not happen due to the minimum size styling.\n            if (fig.ws.readyState == 1 && width != 0 && height != 0) {\n                fig.request_resize(width, height);\n            }\n        }\n    });\n    this.resizeObserverInstance.observe(canvas_div);\n\n    function on_mouse_event_closure(name) {\n        return function (event) {\n            return fig.mouse_event(event, name);\n        };\n    }\n\n    rubberband_canvas.addEventListener(\n        'mousedown',\n        on_mouse_event_closure('button_press')\n    );\n    rubberband_canvas.addEventListener(\n        'mouseup',\n        on_mouse_event_closure('button_release')\n    );\n    rubberband_canvas.addEventListener(\n        'dblclick',\n        on_mouse_event_closure('dblclick')\n    );\n    // Throttle sequential mouse events to 1 every 20ms.\n    rubberband_canvas.addEventListener(\n        'mousemove',\n        on_mouse_event_closure('motion_notify')\n    );\n\n    rubberband_canvas.addEventListener(\n        'mouseenter',\n        on_mouse_event_closure('figure_enter')\n    );\n    rubberband_canvas.addEventListener(\n        'mouseleave',\n        on_mouse_event_closure('figure_leave')\n    );\n\n    canvas_div.addEventListener('wheel', function (event) {\n        if (event.deltaY < 0) {\n            event.step = 1;\n        } else {\n            event.step = -1;\n        }\n        on_mouse_event_closure('scroll')(event);\n    });\n\n    canvas_div.appendChild(canvas);\n    canvas_div.appendChild(rubberband_canvas);\n\n    this.rubberband_context = rubberband_canvas.getContext('2d');\n    this.rubberband_context.strokeStyle = '#000000';\n\n    this._resize_canvas = function (width, height, forward) {\n        if (forward) {\n            canvas_div.style.width = width + 'px';\n            canvas_div.style.height = height + 'px';\n        }\n    };\n\n    // Disable right mouse context menu.\n    this.rubberband_canvas.addEventListener('contextmenu', function (_e) {\n        event.preventDefault();\n        return false;\n    });\n\n    function set_focus() {\n        canvas.focus();\n        canvas_div.focus();\n    }\n\n    window.setTimeout(set_focus, 100);\n};\n\nmpl.figure.prototype._init_toolbar = function () {\n    var fig = this;\n\n    var toolbar = document.createElement('div');\n    toolbar.classList = 'mpl-toolbar';\n    this.root.appendChild(toolbar);\n\n    function on_click_closure(name) {\n        return function (_event) {\n            return fig.toolbar_button_onclick(name);\n        };\n    }\n\n    function on_mouseover_closure(tooltip) {\n        return function (event) {\n            if (!event.currentTarget.disabled) {\n                return fig.toolbar_button_onmouseover(tooltip);\n            }\n        };\n    }\n\n    fig.buttons = {};\n    var buttonGroup = document.createElement('div');\n    buttonGroup.classList = 'mpl-button-group';\n    for (var toolbar_ind in mpl.toolbar_items) {\n        var name = mpl.toolbar_items[toolbar_ind][0];\n        var tooltip = mpl.toolbar_items[toolbar_ind][1];\n        var image = mpl.toolbar_items[toolbar_ind][2];\n        var method_name = mpl.toolbar_items[toolbar_ind][3];\n\n        if (!name) {\n            /* Instead of a spacer, we start a new button group. */\n            if (buttonGroup.hasChildNodes()) {\n                toolbar.appendChild(buttonGroup);\n            }\n            buttonGroup = document.createElement('div');\n            buttonGroup.classList = 'mpl-button-group';\n            continue;\n        }\n\n        var button = (fig.buttons[name] = document.createElement('button'));\n        button.classList = 'mpl-widget';\n        button.setAttribute('role', 'button');\n        button.setAttribute('aria-disabled', 'false');\n        button.addEventListener('click', on_click_closure(method_name));\n        button.addEventListener('mouseover', on_mouseover_closure(tooltip));\n\n        var icon_img = document.createElement('img');\n        icon_img.src = '_images/' + image + '.png';\n        icon_img.srcset = '_images/' + image + '_large.png 2x';\n        icon_img.alt = tooltip;\n        button.appendChild(icon_img);\n\n        buttonGroup.appendChild(button);\n    }\n\n    if (buttonGroup.hasChildNodes()) {\n        toolbar.appendChild(buttonGroup);\n    }\n\n    var fmt_picker = document.createElement('select');\n    fmt_picker.classList = 'mpl-widget';\n    toolbar.appendChild(fmt_picker);\n    this.format_dropdown = fmt_picker;\n\n    for (var ind in mpl.extensions) {\n        var fmt = mpl.extensions[ind];\n        var option = document.createElement('option');\n        option.selected = fmt === mpl.default_extension;\n        option.innerHTML = fmt;\n        fmt_picker.appendChild(option);\n    }\n\n    var status_bar = document.createElement('span');\n    status_bar.classList = 'mpl-message';\n    toolbar.appendChild(status_bar);\n    this.message = status_bar;\n};\n\nmpl.figure.prototype.request_resize = function (x_pixels, y_pixels) {\n    // Request matplotlib to resize the figure. Matplotlib will then trigger a resize in the client,\n    // which will in turn request a refresh of the image.\n    this.send_message('resize', { width: x_pixels, height: y_pixels });\n};\n\nmpl.figure.prototype.send_message = function (type, properties) {\n    properties['type'] = type;\n    properties['figure_id'] = this.id;\n    this.ws.send(JSON.stringify(properties));\n};\n\nmpl.figure.prototype.send_draw_message = function () {\n    if (!this.waiting) {\n        this.waiting = true;\n        this.ws.send(JSON.stringify({ type: 'draw', figure_id: this.id }));\n    }\n};\n\nmpl.figure.prototype.handle_save = function (fig, _msg) {\n    var format_dropdown = fig.format_dropdown;\n    var format = format_dropdown.options[format_dropdown.selectedIndex].value;\n    fig.ondownload(fig, format);\n};\n\nmpl.figure.prototype.handle_resize = function (fig, msg) {\n    var size = msg['size'];\n    if (size[0] !== fig.canvas.width || size[1] !== fig.canvas.height) {\n        fig._resize_canvas(size[0], size[1], msg['forward']);\n        fig.send_message('refresh', {});\n    }\n};\n\nmpl.figure.prototype.handle_rubberband = function (fig, msg) {\n    var x0 = msg['x0'] / fig.ratio;\n    var y0 = (fig.canvas.height - msg['y0']) / fig.ratio;\n    var x1 = msg['x1'] / fig.ratio;\n    var y1 = (fig.canvas.height - msg['y1']) / fig.ratio;\n    x0 = Math.floor(x0) + 0.5;\n    y0 = Math.floor(y0) + 0.5;\n    x1 = Math.floor(x1) + 0.5;\n    y1 = Math.floor(y1) + 0.5;\n    var min_x = Math.min(x0, x1);\n    var min_y = Math.min(y0, y1);\n    var width = Math.abs(x1 - x0);\n    var height = Math.abs(y1 - y0);\n\n    fig.rubberband_context.clearRect(\n        0,\n        0,\n        fig.canvas.width / fig.ratio,\n        fig.canvas.height / fig.ratio\n    );\n\n    fig.rubberband_context.strokeRect(min_x, min_y, width, height);\n};\n\nmpl.figure.prototype.handle_figure_label = function (fig, msg) {\n    // Updates the figure title.\n    fig.header.textContent = msg['label'];\n};\n\nmpl.figure.prototype.handle_cursor = function (fig, msg) {\n    fig.rubberband_canvas.style.cursor = msg['cursor'];\n};\n\nmpl.figure.prototype.handle_message = function (fig, msg) {\n    fig.message.textContent = msg['message'];\n};\n\nmpl.figure.prototype.handle_draw = function (fig, _msg) {\n    // Request the server to send over a new figure.\n    fig.send_draw_message();\n};\n\nmpl.figure.prototype.handle_image_mode = function (fig, msg) {\n    fig.image_mode = msg['mode'];\n};\n\nmpl.figure.prototype.handle_history_buttons = function (fig, msg) {\n    for (var key in msg) {\n        if (!(key in fig.buttons)) {\n            continue;\n        }\n        fig.buttons[key].disabled = !msg[key];\n        fig.buttons[key].setAttribute('aria-disabled', !msg[key]);\n    }\n};\n\nmpl.figure.prototype.handle_navigate_mode = function (fig, msg) {\n    if (msg['mode'] === 'PAN') {\n        fig.buttons['Pan'].classList.add('active');\n        fig.buttons['Zoom'].classList.remove('active');\n    } else if (msg['mode'] === 'ZOOM') {\n        fig.buttons['Pan'].classList.remove('active');\n        fig.buttons['Zoom'].classList.add('active');\n    } else {\n        fig.buttons['Pan'].classList.remove('active');\n        fig.buttons['Zoom'].classList.remove('active');\n    }\n};\n\nmpl.figure.prototype.updated_canvas_event = function () {\n    // Called whenever the canvas gets updated.\n    this.send_message('ack', {});\n};\n\n// A function to construct a web socket function for onmessage handling.\n// Called in the figure constructor.\nmpl.figure.prototype._make_on_message_function = function (fig) {\n    return function socket_on_message(evt) {\n        if (evt.data instanceof Blob) {\n            var img = evt.data;\n            if (img.type !== 'image/png') {\n                /* FIXME: We get \"Resource interpreted as Image but\n                 * transferred with MIME type text/plain:\" errors on\n                 * Chrome.  But how to set the MIME type?  It doesn't seem\n                 * to be part of the websocket stream */\n                img.type = 'image/png';\n            }\n\n            /* Free the memory for the previous frames */\n            if (fig.imageObj.src) {\n                (window.URL || window.webkitURL).revokeObjectURL(\n                    fig.imageObj.src\n                );\n            }\n\n            fig.imageObj.src = (window.URL || window.webkitURL).createObjectURL(\n                img\n            );\n            fig.updated_canvas_event();\n            fig.waiting = false;\n            return;\n        } else if (\n            typeof evt.data === 'string' &&\n            evt.data.slice(0, 21) === 'data:image/png;base64'\n        ) {\n            fig.imageObj.src = evt.data;\n            fig.updated_canvas_event();\n            fig.waiting = false;\n            return;\n        }\n\n        var msg = JSON.parse(evt.data);\n        var msg_type = msg['type'];\n\n        // Call the  \"handle_{type}\" callback, which takes\n        // the figure and JSON message as its only arguments.\n        try {\n            var callback = fig['handle_' + msg_type];\n        } catch (e) {\n            console.log(\n                \"No handler for the '\" + msg_type + \"' message type: \",\n                msg\n            );\n            return;\n        }\n\n        if (callback) {\n            try {\n                // console.log(\"Handling '\" + msg_type + \"' message: \", msg);\n                callback(fig, msg);\n            } catch (e) {\n                console.log(\n                    \"Exception inside the 'handler_\" + msg_type + \"' callback:\",\n                    e,\n                    e.stack,\n                    msg\n                );\n            }\n        }\n    };\n};\n\n// from https://stackoverflow.com/questions/1114465/getting-mouse-location-in-canvas\nmpl.findpos = function (e) {\n    //this section is from http://www.quirksmode.org/js/events_properties.html\n    var targ;\n    if (!e) {\n        e = window.event;\n    }\n    if (e.target) {\n        targ = e.target;\n    } else if (e.srcElement) {\n        targ = e.srcElement;\n    }\n    if (targ.nodeType === 3) {\n        // defeat Safari bug\n        targ = targ.parentNode;\n    }\n\n    // pageX,Y are the mouse positions relative to the document\n    var boundingRect = targ.getBoundingClientRect();\n    var x = e.pageX - (boundingRect.left + document.body.scrollLeft);\n    var y = e.pageY - (boundingRect.top + document.body.scrollTop);\n\n    return { x: x, y: y };\n};\n\n/*\n * return a copy of an object with only non-object keys\n * we need this to avoid circular references\n * https://stackoverflow.com/a/24161582/3208463\n */\nfunction simpleKeys(original) {\n    return Object.keys(original).reduce(function (obj, key) {\n        if (typeof original[key] !== 'object') {\n            obj[key] = original[key];\n        }\n        return obj;\n    }, {});\n}\n\nmpl.figure.prototype.mouse_event = function (event, name) {\n    var canvas_pos = mpl.findpos(event);\n\n    if (name === 'button_press') {\n        this.canvas.focus();\n        this.canvas_div.focus();\n    }\n\n    var x = canvas_pos.x * this.ratio;\n    var y = canvas_pos.y * this.ratio;\n\n    this.send_message(name, {\n        x: x,\n        y: y,\n        button: event.button,\n        step: event.step,\n        guiEvent: simpleKeys(event),\n    });\n\n    /* This prevents the web browser from automatically changing to\n     * the text insertion cursor when the button is pressed.  We want\n     * to control all of the cursor setting manually through the\n     * 'cursor' event from matplotlib */\n    event.preventDefault();\n    return false;\n};\n\nmpl.figure.prototype._key_event_extra = function (_event, _name) {\n    // Handle any extra behaviour associated with a key event\n};\n\nmpl.figure.prototype.key_event = function (event, name) {\n    // Prevent repeat events\n    if (name === 'key_press') {\n        if (event.key === this._key) {\n            return;\n        } else {\n            this._key = event.key;\n        }\n    }\n    if (name === 'key_release') {\n        this._key = null;\n    }\n\n    var value = '';\n    if (event.ctrlKey && event.key !== 'Control') {\n        value += 'ctrl+';\n    }\n    else if (event.altKey && event.key !== 'Alt') {\n        value += 'alt+';\n    }\n    else if (event.shiftKey && event.key !== 'Shift') {\n        value += 'shift+';\n    }\n\n    value += 'k' + event.key;\n\n    this._key_event_extra(event, name);\n\n    this.send_message(name, { key: value, guiEvent: simpleKeys(event) });\n    return false;\n};\n\nmpl.figure.prototype.toolbar_button_onclick = function (name) {\n    if (name === 'download') {\n        this.handle_save(this, null);\n    } else {\n        this.send_message('toolbar_button', { name: name });\n    }\n};\n\nmpl.figure.prototype.toolbar_button_onmouseover = function (tooltip) {\n    this.message.textContent = tooltip;\n};\n\n///////////////// REMAINING CONTENT GENERATED BY embed_js.py /////////////////\n// prettier-ignore\nvar _JSXTOOLS_RESIZE_OBSERVER=function(A){var t,i=new WeakMap,n=new WeakMap,a=new WeakMap,r=new WeakMap,o=new Set;function s(e){if(!(this instanceof s))throw new TypeError(\"Constructor requires 'new' operator\");i.set(this,e)}function h(){throw new TypeError(\"Function is not a constructor\")}function c(e,t,i,n){e=0 in arguments?Number(arguments[0]):0,t=1 in arguments?Number(arguments[1]):0,i=2 in arguments?Number(arguments[2]):0,n=3 in arguments?Number(arguments[3]):0,this.right=(this.x=this.left=e)+(this.width=i),this.bottom=(this.y=this.top=t)+(this.height=n),Object.freeze(this)}function d(){t=requestAnimationFrame(d);var s=new WeakMap,p=new Set;o.forEach((function(t){r.get(t).forEach((function(i){var r=t instanceof window.SVGElement,o=a.get(t),d=r?0:parseFloat(o.paddingTop),f=r?0:parseFloat(o.paddingRight),l=r?0:parseFloat(o.paddingBottom),u=r?0:parseFloat(o.paddingLeft),g=r?0:parseFloat(o.borderTopWidth),m=r?0:parseFloat(o.borderRightWidth),w=r?0:parseFloat(o.borderBottomWidth),b=u+f,F=d+l,v=(r?0:parseFloat(o.borderLeftWidth))+m,W=g+w,y=r?0:t.offsetHeight-W-t.clientHeight,E=r?0:t.offsetWidth-v-t.clientWidth,R=b+v,z=F+W,M=r?t.width:parseFloat(o.width)-R-E,O=r?t.height:parseFloat(o.height)-z-y;if(n.has(t)){var k=n.get(t);if(k[0]===M&&k[1]===O)return}n.set(t,[M,O]);var S=Object.create(h.prototype);S.target=t,S.contentRect=new c(u,d,M,O),s.has(i)||(s.set(i,[]),p.add(i)),s.get(i).push(S)}))})),p.forEach((function(e){i.get(e).call(e,s.get(e),e)}))}return s.prototype.observe=function(i){if(i instanceof window.Element){r.has(i)||(r.set(i,new Set),o.add(i),a.set(i,window.getComputedStyle(i)));var n=r.get(i);n.has(this)||n.add(this),cancelAnimationFrame(t),t=requestAnimationFrame(d)}},s.prototype.unobserve=function(i){if(i instanceof window.Element&&r.has(i)){var n=r.get(i);n.has(this)&&(n.delete(this),n.size||(r.delete(i),o.delete(i))),n.size||r.delete(i),o.size||cancelAnimationFrame(t)}},A.DOMRectReadOnly=c,A.ResizeObserver=s,A.ResizeObserverEntry=h,A}; // eslint-disable-line\nmpl.toolbar_items = [[\"Home\", \"Reset original view\", \"fa fa-home icon-home\", \"home\"], [\"Back\", \"Back to previous view\", \"fa fa-arrow-left icon-arrow-left\", \"back\"], [\"Forward\", \"Forward to next view\", \"fa fa-arrow-right icon-arrow-right\", \"forward\"], [\"\", \"\", \"\", \"\"], [\"Pan\", \"Left button pans, Right button zooms\\nx/y fixes axis, CTRL fixes aspect\", \"fa fa-arrows icon-move\", \"pan\"], [\"Zoom\", \"Zoom to rectangle\\nx/y fixes axis\", \"fa fa-square-o icon-check-empty\", \"zoom\"], [\"\", \"\", \"\", \"\"], [\"Download\", \"Download plot\", \"fa fa-floppy-o icon-save\", \"download\"]];\n\nmpl.extensions = [\"eps\", \"jpeg\", \"pgf\", \"pdf\", \"png\", \"ps\", \"raw\", \"svg\", \"tif\"];\n\nmpl.default_extension = \"png\";/* global mpl */\n\nvar comm_websocket_adapter = function (comm) {\n    // Create a \"websocket\"-like object which calls the given IPython comm\n    // object with the appropriate methods. Currently this is a non binary\n    // socket, so there is still some room for performance tuning.\n    var ws = {};\n\n    ws.binaryType = comm.kernel.ws.binaryType;\n    ws.readyState = comm.kernel.ws.readyState;\n    function updateReadyState(_event) {\n        if (comm.kernel.ws) {\n            ws.readyState = comm.kernel.ws.readyState;\n        } else {\n            ws.readyState = 3; // Closed state.\n        }\n    }\n    comm.kernel.ws.addEventListener('open', updateReadyState);\n    comm.kernel.ws.addEventListener('close', updateReadyState);\n    comm.kernel.ws.addEventListener('error', updateReadyState);\n\n    ws.close = function () {\n        comm.close();\n    };\n    ws.send = function (m) {\n        //console.log('sending', m);\n        comm.send(m);\n    };\n    // Register the callback with on_msg.\n    comm.on_msg(function (msg) {\n        //console.log('receiving', msg['content']['data'], msg);\n        var data = msg['content']['data'];\n        if (data['blob'] !== undefined) {\n            data = {\n                data: new Blob(msg['buffers'], { type: data['blob'] }),\n            };\n        }\n        // Pass the mpl event to the overridden (by mpl) onmessage function.\n        ws.onmessage(data);\n    });\n    return ws;\n};\n\nmpl.mpl_figure_comm = function (comm, msg) {\n    // This is the function which gets called when the mpl process\n    // starts-up an IPython Comm through the \"matplotlib\" channel.\n\n    var id = msg.content.data.id;\n    // Get hold of the div created by the display call when the Comm\n    // socket was opened in Python.\n    var element = document.getElementById(id);\n    var ws_proxy = comm_websocket_adapter(comm);\n\n    function ondownload(figure, _format) {\n        window.open(figure.canvas.toDataURL());\n    }\n\n    var fig = new mpl.figure(id, ws_proxy, ondownload, element);\n\n    // Call onopen now - mpl needs it, as it is assuming we've passed it a real\n    // web socket which is closed, not our websocket->open comm proxy.\n    ws_proxy.onopen();\n\n    fig.parent_element = element;\n    fig.cell_info = mpl.find_output_cell(\"<div id='\" + id + \"'></div>\");\n    if (!fig.cell_info) {\n        console.error('Failed to find cell for figure', id, fig);\n        return;\n    }\n    fig.cell_info[0].output_area.element.on(\n        'cleared',\n        { fig: fig },\n        fig._remove_fig_handler\n    );\n};\n\nmpl.figure.prototype.handle_close = function (fig, msg) {\n    var width = fig.canvas.width / fig.ratio;\n    fig.cell_info[0].output_area.element.off(\n        'cleared',\n        fig._remove_fig_handler\n    );\n    fig.resizeObserverInstance.unobserve(fig.canvas_div);\n\n    // Update the output cell to use the data from the current canvas.\n    fig.push_to_output();\n    var dataURL = fig.canvas.toDataURL();\n    // Re-enable the keyboard manager in IPython - without this line, in FF,\n    // the notebook keyboard shortcuts fail.\n    IPython.keyboard_manager.enable();\n    fig.parent_element.innerHTML =\n        '<img src=\"' + dataURL + '\" width=\"' + width + '\">';\n    fig.close_ws(fig, msg);\n};\n\nmpl.figure.prototype.close_ws = function (fig, msg) {\n    fig.send_message('closing', msg);\n    // fig.ws.close()\n};\n\nmpl.figure.prototype.push_to_output = function (_remove_interactive) {\n    // Turn the data on the canvas into data in the output cell.\n    var width = this.canvas.width / this.ratio;\n    var dataURL = this.canvas.toDataURL();\n    this.cell_info[1]['text/html'] =\n        '<img src=\"' + dataURL + '\" width=\"' + width + '\">';\n};\n\nmpl.figure.prototype.updated_canvas_event = function () {\n    // Tell IPython that the notebook contents must change.\n    IPython.notebook.set_dirty(true);\n    this.send_message('ack', {});\n    var fig = this;\n    // Wait a second, then push the new image to the DOM so\n    // that it is saved nicely (might be nice to debounce this).\n    setTimeout(function () {\n        fig.push_to_output();\n    }, 1000);\n};\n\nmpl.figure.prototype._init_toolbar = function () {\n    var fig = this;\n\n    var toolbar = document.createElement('div');\n    toolbar.classList = 'btn-toolbar';\n    this.root.appendChild(toolbar);\n\n    function on_click_closure(name) {\n        return function (_event) {\n            return fig.toolbar_button_onclick(name);\n        };\n    }\n\n    function on_mouseover_closure(tooltip) {\n        return function (event) {\n            if (!event.currentTarget.disabled) {\n                return fig.toolbar_button_onmouseover(tooltip);\n            }\n        };\n    }\n\n    fig.buttons = {};\n    var buttonGroup = document.createElement('div');\n    buttonGroup.classList = 'btn-group';\n    var button;\n    for (var toolbar_ind in mpl.toolbar_items) {\n        var name = mpl.toolbar_items[toolbar_ind][0];\n        var tooltip = mpl.toolbar_items[toolbar_ind][1];\n        var image = mpl.toolbar_items[toolbar_ind][2];\n        var method_name = mpl.toolbar_items[toolbar_ind][3];\n\n        if (!name) {\n            /* Instead of a spacer, we start a new button group. */\n            if (buttonGroup.hasChildNodes()) {\n                toolbar.appendChild(buttonGroup);\n            }\n            buttonGroup = document.createElement('div');\n            buttonGroup.classList = 'btn-group';\n            continue;\n        }\n\n        button = fig.buttons[name] = document.createElement('button');\n        button.classList = 'btn btn-default';\n        button.href = '#';\n        button.title = name;\n        button.innerHTML = '<i class=\"fa ' + image + ' fa-lg\"></i>';\n        button.addEventListener('click', on_click_closure(method_name));\n        button.addEventListener('mouseover', on_mouseover_closure(tooltip));\n        buttonGroup.appendChild(button);\n    }\n\n    if (buttonGroup.hasChildNodes()) {\n        toolbar.appendChild(buttonGroup);\n    }\n\n    // Add the status bar.\n    var status_bar = document.createElement('span');\n    status_bar.classList = 'mpl-message pull-right';\n    toolbar.appendChild(status_bar);\n    this.message = status_bar;\n\n    // Add the close button to the window.\n    var buttongrp = document.createElement('div');\n    buttongrp.classList = 'btn-group inline pull-right';\n    button = document.createElement('button');\n    button.classList = 'btn btn-mini btn-primary';\n    button.href = '#';\n    button.title = 'Stop Interaction';\n    button.innerHTML = '<i class=\"fa fa-power-off icon-remove icon-large\"></i>';\n    button.addEventListener('click', function (_evt) {\n        fig.handle_close(fig, {});\n    });\n    button.addEventListener(\n        'mouseover',\n        on_mouseover_closure('Stop Interaction')\n    );\n    buttongrp.appendChild(button);\n    var titlebar = this.root.querySelector('.ui-dialog-titlebar');\n    titlebar.insertBefore(buttongrp, titlebar.firstChild);\n};\n\nmpl.figure.prototype._remove_fig_handler = function (event) {\n    var fig = event.data.fig;\n    if (event.target !== this) {\n        // Ignore bubbled events from children.\n        return;\n    }\n    fig.close_ws(fig, {});\n};\n\nmpl.figure.prototype._root_extra_style = function (el) {\n    el.style.boxSizing = 'content-box'; // override notebook setting of border-box.\n};\n\nmpl.figure.prototype._canvas_extra_style = function (el) {\n    // this is important to make the div 'focusable\n    el.setAttribute('tabindex', 0);\n    // reach out to IPython and tell the keyboard manager to turn it's self\n    // off when our div gets focus\n\n    // location in version 3\n    if (IPython.notebook.keyboard_manager) {\n        IPython.notebook.keyboard_manager.register_events(el);\n    } else {\n        // location in version 2\n        IPython.keyboard_manager.register_events(el);\n    }\n};\n\nmpl.figure.prototype._key_event_extra = function (event, _name) {\n    // Check for shift+enter\n    if (event.shiftKey && event.which === 13) {\n        this.canvas_div.blur();\n        // select the cell after this one\n        var index = IPython.notebook.find_cell_index(this.cell_info[0]);\n        IPython.notebook.select(index + 1);\n    }\n};\n\nmpl.figure.prototype.handle_save = function (fig, _msg) {\n    fig.ondownload(fig, null);\n};\n\nmpl.find_output_cell = function (html_output) {\n    // Return the cell and output element which can be found *uniquely* in the notebook.\n    // Note - this is a bit hacky, but it is done because the \"notebook_saving.Notebook\"\n    // IPython event is triggered only after the cells have been serialised, which for\n    // our purposes (turning an active figure into a static one), is too late.\n    var cells = IPython.notebook.get_cells();\n    var ncells = cells.length;\n    for (var i = 0; i < ncells; i++) {\n        var cell = cells[i];\n        if (cell.cell_type === 'code') {\n            for (var j = 0; j < cell.output_area.outputs.length; j++) {\n                var data = cell.output_area.outputs[j];\n                if (data.data) {\n                    // IPython >= 3 moved mimebundle to data attribute of output\n                    data = data.data;\n                }\n                if (data['text/html'] === html_output) {\n                    return [cell, data, j];\n                }\n            }\n        }\n    }\n};\n\n// Register the function which deals with the matplotlib target/channel.\n// The kernel may be null if the page has been refreshed.\nif (IPython.notebook.kernel !== null) {\n    IPython.notebook.kernel.comm_manager.register_target(\n        'matplotlib',\n        mpl.mpl_figure_comm\n    );\n}\n",
      "text/plain": [
       "<IPython.core.display.Javascript object>"
      ]
     },
     "metadata": {},
     "output_type": "display_data"
    },
    {
     "data": {
      "text/html": [
       "<img src=\"data:image/png;base64,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\" width=\"640\">"
      ],
      "text/plain": [
       "<IPython.core.display.HTML object>"
      ]
     },
     "metadata": {},
     "output_type": "display_data"
    },
    {
     "name": "stdout",
     "output_type": "stream",
     "text": [
      "begin zeroing\n",
      "Initial Starting Degree:  3676.98\n",
      "begin zeroing\n",
      "Initial Starting Degree:  3676.63\n",
      "begin zeroing\n",
      "Initial Starting Degree:  163.47\n",
      "begin zeroing\n",
      "Initial Starting Degree:  164.07\n"
     ]
    }
   ],
   "source": [
    "n = input('Enter the number of loop')\n",
    "await stopping_acc_test(c,int(n))"
   ]
  },
  {
   "cell_type": "markdown",
   "metadata": {},
   "source": [
    "## Let's Start the Test"
   ]
  },
  {
   "cell_type": "markdown",
   "metadata": {},
   "source": [
    "### First, home the motor and save the initial position(radian,shows in degree)"
   ]
  },
  {
   "cell_type": "code",
   "execution_count": 5,
   "metadata": {},
   "outputs": [
    {
     "name": "stdout",
     "output_type": "stream",
     "text": [
      "Press Enter to Start the Test\n",
      "begin zeroing\n",
      "state info:  1/{MODE(0x000): 0, POSITION(0x001): 5.166656494140625, VELOCITY(0x002): 0.010125107131898403, TORQUE(0x003): 0.0, VOLTAGE(0x00d): 23.5, TEMPERATURE(0x00e): 28.0, FAULT(0x00f): 0}\n",
      "Position: 5.166656494140625\n",
      "Torque: 0.0\n",
      "\n",
      "motor is ready\n",
      "Initial Starting Degree:  163.47\n",
      "Initial Starting Radian:  17.926482982428574\n"
     ]
    }
   ],
   "source": [
    "input('Press Enter to Start the Test')\n",
    "ip = await motor_zero(c,stop_torque=.1,v=1)\n",
    "print(\"Initial Starting Radian: \", ip*(2*math.pi))"
   ]
  },
  {
   "cell_type": "markdown",
   "metadata": {},
   "source": [
    "### Run the CT scan for checking the postion error later."
   ]
  },
  {
   "cell_type": "markdown",
   "metadata": {},
   "source": [
    "### Once get the intial starting postion, run the testing function with the desired postion, and then run the CT scanner once motor moved."
   ]
  },
  {
   "cell_type": "code",
   "execution_count": 6,
   "metadata": {},
   "outputs": [],
   "source": [
    "data_p_list = []\n",
    "data_degree_list = []\n",
    "data_time_list = []\n",
    "i = 0"
   ]
  },
  {
   "cell_type": "code",
   "execution_count": 7,
   "metadata": {},
   "outputs": [],
   "source": [
    "ratio = 0.5040628051757813"
   ]
  },
  {
   "cell_type": "code",
   "execution_count": 12,
   "metadata": {},
   "outputs": [
    {
     "name": "stdout",
     "output_type": "stream",
     "text": [
      "Enter the desired postion in mm (0-127): 0\n"
     ]
    }
   ],
   "source": [
    "uds = int(input('Enter the desired postion in mm (0-127): '))\n",
    "if i == 0:\n",
    "    data_degree_list.append(uds)\n",
    "    data_degree_list.append(uds)\n",
    "    i += 1\n",
    "else:\n",
    "    data_degree_list.append(uds)"
   ]
  },
  {
   "cell_type": "code",
   "execution_count": 13,
   "metadata": {},
   "outputs": [
    {
     "name": "stdout",
     "output_type": "stream",
     "text": [
      "Target postion:  2.85308837890625\n",
      "car coming back\n",
      "Finish\n"
     ]
    }
   ],
   "source": [
    "currcent_p_list = []\n",
    "if uds >= data_degree_list[-2]:\n",
    "    currcent_p_list.append(await one_axis_farward(c,ip,user_desried=uds*ratio))\n",
    "else:\n",
    "    currcent_p_list.append(await one_axis_backward(c,ip,user_desried=uds*ratio))\n",
    "data_p_list.append(currcent_p_list)\n",
    "data_time_list.append(time.time())"
   ]
  },
  {
   "cell_type": "markdown",
   "metadata": {},
   "source": [
    "### stop the motor"
   ]
  },
  {
   "cell_type": "code",
   "execution_count": 14,
   "metadata": {},
   "outputs": [
    {
     "name": "stdout",
     "output_type": "stream",
     "text": [
      "Begain Testing\n",
      "Position: 3.1105804443359375\n",
      "Position in Degree:  178.22\n"
     ]
    },
    {
     "data": {
      "text/plain": [
       "3.1105804443359375"
      ]
     },
     "execution_count": 14,
     "metadata": {},
     "output_type": "execute_result"
    }
   ],
   "source": [
    "await read_p()"
   ]
  },
  {
   "cell_type": "markdown",
   "metadata": {},
   "source": [
    "### Saving the result"
   ]
  },
  {
   "cell_type": "code",
   "execution_count": null,
   "metadata": {},
   "outputs": [],
   "source": [
    "import pickle\n",
    "with open('position.pkl', 'wb') as f:\n",
    "    pickle.dump(data_p_list, f)\n",
    "with open('degree.pkl', 'wb') as f:\n",
    "    pickle.dump(data_degree_list, f)\n",
    "with open('time.pkl', 'wb') as f:\n",
    "    pickle.dump(data_time_list, f)"
   ]
  },
  {
   "cell_type": "markdown",
   "metadata": {},
   "source": [
    "#### python -m moteus_gui.tview --devices=1"
   ]
  },
  {
   "cell_type": "markdown",
   "metadata": {},
   "source": [
    "## Feltch the DICOM file from server"
   ]
  },
  {
   "cell_type": "markdown",
   "metadata": {},
   "source": [
    "### Goto the website:  http://unicorn2.ucsd.edu:8080/dcm4chee-arc/ui2/#/study/patient"
   ]
  },
  {
   "cell_type": "markdown",
   "metadata": {},
   "source": [
    "### Selected Series on the top tabs"
   ]
  },
  {
   "cell_type": "markdown",
   "metadata": {},
   "source": [
    "### On the left hand side input: DIMITRI07041995 as the Patient ID"
   ]
  },
  {
   "cell_type": "markdown",
   "metadata": {},
   "source": [
    "### In the middle section select Newest Frist in the Order by Tab"
   ]
  },
  {
   "cell_type": "markdown",
   "metadata": {},
   "source": [
    "### In the middle section select DCM4CHEE in the Web App Service Tab and CLICK Sumbit"
   ]
  },
  {
   "cell_type": "markdown",
   "metadata": {},
   "source": [
    "### Download the 1st row by clicking the 3 dots symbol and downolad it"
   ]
  },
  {
   "cell_type": "markdown",
   "metadata": {},
   "source": [
    "### Once Downloaded, extract the DICOM files ONLY to the following folder: ./test_data/DICOM"
   ]
  },
  {
   "cell_type": "markdown",
   "metadata": {},
   "source": [
    "## Processing DICOM file"
   ]
  },
  {
   "cell_type": "code",
   "execution_count": 3,
   "metadata": {},
   "outputs": [],
   "source": [
    "def DICOM_series_dropdown_callback(series_to_load, series_dictionary):\n",
    "    global selected_series\n",
    "               # Print some information about the series from the meta-data dictionary\n",
    "               # DICOM standard part 6, Data Dictionary: http://medical.nema.org/medical/dicom/current/output/pdf/part06.pdf\n",
    "    file_reader.SetFileName(series_dictionary[series_to_load][0])\n",
    "    file_reader.ReadImageInformation()\n",
    "    tags_to_print = {'0010|0010': 'Patient name: ', \n",
    "                     '0008|0060' : 'Modality: ',\n",
    "                     '0008|0021' : 'Series date: ',\n",
    "                     '0008|0080' : 'Institution name: ',\n",
    "                     '0008|1050' : 'Performing physician\\'s name: '}\n",
    "    for tag in tags_to_print:\n",
    "        try:\n",
    "            print(tags_to_print[tag] + file_reader.GetMetaData(tag))\n",
    "        except: # Ignore if the tag isn't in the dictionary\n",
    "            pass\n",
    "    selected_series = series_to_load"
   ]
  },
  {
   "cell_type": "markdown",
   "metadata": {},
   "source": [
    "### Select the desired DICOM file"
   ]
  },
  {
   "cell_type": "code",
   "execution_count": 14,
   "metadata": {},
   "outputs": [
    {
     "data": {
      "application/vnd.jupyter.widget-view+json": {
       "model_id": "7f092895d76e4acda99968f6eba2c650",
       "version_major": 2,
       "version_minor": 0
      },
      "text/plain": [
       "interactive(children=(Dropdown(description='series_to_load', options=('1.2.840.113619.2.416.131772622000496481…"
      ]
     },
     "metadata": {},
     "output_type": "display_data"
    }
   ],
   "source": [
    "data_directory = \"./test_data/DICOM\"\n",
    "# Global variable 'selected_series' is updated by the interact function\n",
    "selected_series = ''\n",
    "file_reader = sitk.ImageFileReader()         \n",
    "# Directory contains multiple DICOM studies/series, store\n",
    "# in dictionary with key being the series ID\n",
    "series_file_names = {}\n",
    "series_IDs = sitk.ImageSeriesReader_GetGDCMSeriesIDs(data_directory)\n",
    "            # Check that we have at least one series\n",
    "if series_IDs:\n",
    "    for series in series_IDs:\n",
    "        series_file_names[series] = sitk.ImageSeriesReader_GetGDCMSeriesFileNames(data_directory, series)\n",
    "    \n",
    "    interact(DICOM_series_dropdown_callback, series_to_load=list(series_IDs), series_dictionary=fixed(series_file_names)); \n",
    "else:\n",
    "    print('Data directory does not contain any DICOM series.')"
   ]
  },
  {
   "cell_type": "markdown",
   "metadata": {},
   "source": [
    "### Pick target marker postion"
   ]
  },
  {
   "cell_type": "code",
   "execution_count": 15,
   "metadata": {},
   "outputs": [],
   "source": [
    "def func1(target_marker_select):\n",
    "    global target_marker_name\n",
    "    target_marker_name = target_marker_select"
   ]
  },
  {
   "cell_type": "code",
   "execution_count": 24,
   "metadata": {},
   "outputs": [
    {
     "data": {
      "application/vnd.jupyter.widget-view+json": {
       "model_id": "f73fc5a4c11a4f6295ac1942931bc874",
       "version_major": 2,
       "version_minor": 0
      },
      "text/plain": [
       "interactive(children=(Dropdown(description='target_marker_select', options=('fixed_marker_crane', 'moving_mark…"
      ]
     },
     "metadata": {},
     "output_type": "display_data"
    }
   ],
   "source": [
    "output = interact(func1, target_marker_select=['fixed_marker_crane', 'moving_marker_crane', 'moving_marker_1_DoF','fixed_marker_1_DoF'])"
   ]
  },
  {
   "cell_type": "code",
   "execution_count": 25,
   "metadata": {},
   "outputs": [],
   "source": [
    "if target_marker_name == 'fixed_marker_crane':\n",
    "    marker = np.load('./test_data/marker1.npy')\n",
    "    R =  t3d.euler.euler2mat(np.pi/4+0.1, 0, -np.pi/6-0.2)@t3d.euler.euler2mat(0,0.6,0)# @ t3d.euler.euler2mat(0, np.pi/8, 0)\n",
    "    marker = (R.T@marker.T).T\n",
    "    crop_z = None\n",
    "    #zero mean the marker since we place the rigid body at the mean here\n",
    "    marker = marker - marker.mean(axis=0) - np.array([2,0,0])\n",
    "if target_marker_name == 'moving_marker_crane':\n",
    "    marker = np.array([[-10,-5,0],[-10,5,0],[0,-5,0],[10,0,0]])\n",
    "    R = np.eye(3)\n",
    "    crop_z = None\n",
    "\n",
    "if target_marker_name == 'moving_marker_1_DoF':\n",
    "    marker = np.array([[-10,-5,0],[-10,5,0],[0,-5,0],[10,0,0]])\n",
    "    R = np.eye(3)\n",
    "    crop_z = None\n",
    "\n",
    "if target_marker_name == 'fixed_marker_1_DoF':\n",
    "    marker = np.array([[0,-14,0],[0,-6,0],[0,16,0],[17,0,0]])\n",
    "    R = np.eye(3)\n",
    "    crop_z = [160,254]"
   ]
  },
  {
   "cell_type": "code",
   "execution_count": 26,
   "metadata": {},
   "outputs": [
    {
     "name": "stdout",
     "output_type": "stream",
     "text": [
      "Our marker: \n",
      " [[-10  -5   0]\n",
      " [-10   5   0]\n",
      " [  0  -5   0]\n",
      " [ 10   0   0]]\n"
     ]
    }
   ],
   "source": [
    "print('Our marker: \\n {}'.format(marker))"
   ]
  },
  {
   "cell_type": "markdown",
   "metadata": {},
   "source": [
    "### Convert DICOM files"
   ]
  },
  {
   "cell_type": "code",
   "execution_count": 27,
   "metadata": {},
   "outputs": [
    {
     "name": "stdout",
     "output_type": "stream",
     "text": [
      "spacing:  [0.63 0.88 0.88]\n",
      " origin:  [-149.69 -225.   -225.  ]\n"
     ]
    }
   ],
   "source": [
    "#convert scan to mesh for finding markers via thresholding\n",
    "scan_file = series_file_names[selected_series]\n",
    "convert_scan_to_mha(scan_file, crop_z = crop_z)\n",
    "convert_mha_to_mesh(output_mesh_file = 'temp_mesh.obj')"
   ]
  },
  {
   "cell_type": "markdown",
   "metadata": {},
   "source": [
    "### Disaply DICOM file (Left and Right are the SAME)"
   ]
  },
  {
   "cell_type": "code",
   "execution_count": 28,
   "metadata": {},
   "outputs": [
    {
     "name": "stdout",
     "output_type": "stream",
     "text": [
      "origin: (-225.0, -225.0, -149.688)\n",
      "size: (512, 512, 256)\n",
      "spacing: (0.878906, 0.878906, 0.6250039215686274)\n",
      "direction: (1.0, 0.0, 0.0, 0.0, 1.0, 0.0, 0.0, 0.0, 1.0)\n",
      "pixel type: 32-bit signed integer\n",
      "number of pixel components: 1\n",
      "\n",
      "origin: (-225.0, -225.0, -149.688)\n",
      "size: (512, 512, 256)\n",
      "spacing: (0.878906, 0.878906, 0.6250039215686274)\n",
      "direction: (1.0, 0.0, 0.0, 0.0, 1.0, 0.0, 0.0, 0.0, 1.0)\n",
      "pixel type: 32-bit signed integer\n",
      "number of pixel components: 1\n",
      "\n"
     ]
    },
    {
     "data": {
      "application/vnd.jupyter.widget-view+json": {
       "model_id": "23fcbe7406ad4fa3ac64e9b2e1b40845",
       "version_major": 2,
       "version_minor": 0
      },
      "text/plain": [
       "VBox(children=(Box(children=(IntSlider(value=127, description='image slice:', max=255), IntSlider(value=127, d…"
      ]
     },
     "metadata": {},
     "output_type": "display_data"
    },
    {
     "data": {
      "application/javascript": "/* Put everything inside the global mpl namespace */\n/* global mpl */\nwindow.mpl = {};\n\nmpl.get_websocket_type = function () {\n    if (typeof WebSocket !== 'undefined') {\n        return WebSocket;\n    } else if (typeof MozWebSocket !== 'undefined') {\n        return MozWebSocket;\n    } else {\n        alert(\n            'Your browser does not have WebSocket support. ' +\n                'Please try Chrome, Safari or Firefox ≥ 6. ' +\n                'Firefox 4 and 5 are also supported but you ' +\n                'have to enable WebSockets in about:config.'\n        );\n    }\n};\n\nmpl.figure = function (figure_id, websocket, ondownload, parent_element) {\n    this.id = figure_id;\n\n    this.ws = websocket;\n\n    this.supports_binary = this.ws.binaryType !== undefined;\n\n    if (!this.supports_binary) {\n        var warnings = document.getElementById('mpl-warnings');\n        if (warnings) {\n            warnings.style.display = 'block';\n            warnings.textContent =\n                'This browser does not support binary websocket messages. ' +\n                'Performance may be slow.';\n        }\n    }\n\n    this.imageObj = new Image();\n\n    this.context = undefined;\n    this.message = undefined;\n    this.canvas = undefined;\n    this.rubberband_canvas = undefined;\n    this.rubberband_context = undefined;\n    this.format_dropdown = undefined;\n\n    this.image_mode = 'full';\n\n    this.root = document.createElement('div');\n    this.root.setAttribute('style', 'display: inline-block');\n    this._root_extra_style(this.root);\n\n    parent_element.appendChild(this.root);\n\n    this._init_header(this);\n    this._init_canvas(this);\n    this._init_toolbar(this);\n\n    var fig = this;\n\n    this.waiting = false;\n\n    this.ws.onopen = function () {\n        fig.send_message('supports_binary', { value: fig.supports_binary });\n        fig.send_message('send_image_mode', {});\n        if (fig.ratio !== 1) {\n            fig.send_message('set_device_pixel_ratio', {\n                device_pixel_ratio: fig.ratio,\n            });\n        }\n        fig.send_message('refresh', {});\n    };\n\n    this.imageObj.onload = function () {\n        if (fig.image_mode === 'full') {\n            // Full images could contain transparency (where diff images\n            // almost always do), so we need to clear the canvas so that\n            // there is no ghosting.\n            fig.context.clearRect(0, 0, fig.canvas.width, fig.canvas.height);\n        }\n        fig.context.drawImage(fig.imageObj, 0, 0);\n    };\n\n    this.imageObj.onunload = function () {\n        fig.ws.close();\n    };\n\n    this.ws.onmessage = this._make_on_message_function(this);\n\n    this.ondownload = ondownload;\n};\n\nmpl.figure.prototype._init_header = function () {\n    var titlebar = document.createElement('div');\n    titlebar.classList =\n        'ui-dialog-titlebar ui-widget-header ui-corner-all ui-helper-clearfix';\n    var titletext = document.createElement('div');\n    titletext.classList = 'ui-dialog-title';\n    titletext.setAttribute(\n        'style',\n        'width: 100%; text-align: center; padding: 3px;'\n    );\n    titlebar.appendChild(titletext);\n    this.root.appendChild(titlebar);\n    this.header = titletext;\n};\n\nmpl.figure.prototype._canvas_extra_style = function (_canvas_div) {};\n\nmpl.figure.prototype._root_extra_style = function (_canvas_div) {};\n\nmpl.figure.prototype._init_canvas = function () {\n    var fig = this;\n\n    var canvas_div = (this.canvas_div = document.createElement('div'));\n    canvas_div.setAttribute(\n        'style',\n        'border: 1px solid #ddd;' +\n            'box-sizing: content-box;' +\n            'clear: both;' +\n            'min-height: 1px;' +\n            'min-width: 1px;' +\n            'outline: 0;' +\n            'overflow: hidden;' +\n            'position: relative;' +\n            'resize: both;'\n    );\n\n    function on_keyboard_event_closure(name) {\n        return function (event) {\n            return fig.key_event(event, name);\n        };\n    }\n\n    canvas_div.addEventListener(\n        'keydown',\n        on_keyboard_event_closure('key_press')\n    );\n    canvas_div.addEventListener(\n        'keyup',\n        on_keyboard_event_closure('key_release')\n    );\n\n    this._canvas_extra_style(canvas_div);\n    this.root.appendChild(canvas_div);\n\n    var canvas = (this.canvas = document.createElement('canvas'));\n    canvas.classList.add('mpl-canvas');\n    canvas.setAttribute('style', 'box-sizing: content-box;');\n\n    this.context = canvas.getContext('2d');\n\n    var backingStore =\n        this.context.backingStorePixelRatio ||\n        this.context.webkitBackingStorePixelRatio ||\n        this.context.mozBackingStorePixelRatio ||\n        this.context.msBackingStorePixelRatio ||\n        this.context.oBackingStorePixelRatio ||\n        this.context.backingStorePixelRatio ||\n        1;\n\n    this.ratio = (window.devicePixelRatio || 1) / backingStore;\n\n    var rubberband_canvas = (this.rubberband_canvas = document.createElement(\n        'canvas'\n    ));\n    rubberband_canvas.setAttribute(\n        'style',\n        'box-sizing: content-box; position: absolute; left: 0; top: 0; z-index: 1;'\n    );\n\n    // Apply a ponyfill if ResizeObserver is not implemented by browser.\n    if (this.ResizeObserver === undefined) {\n        if (window.ResizeObserver !== undefined) {\n            this.ResizeObserver = window.ResizeObserver;\n        } else {\n            var obs = _JSXTOOLS_RESIZE_OBSERVER({});\n            this.ResizeObserver = obs.ResizeObserver;\n        }\n    }\n\n    this.resizeObserverInstance = new this.ResizeObserver(function (entries) {\n        var nentries = entries.length;\n        for (var i = 0; i < nentries; i++) {\n            var entry = entries[i];\n            var width, height;\n            if (entry.contentBoxSize) {\n                if (entry.contentBoxSize instanceof Array) {\n                    // Chrome 84 implements new version of spec.\n                    width = entry.contentBoxSize[0].inlineSize;\n                    height = entry.contentBoxSize[0].blockSize;\n                } else {\n                    // Firefox implements old version of spec.\n                    width = entry.contentBoxSize.inlineSize;\n                    height = entry.contentBoxSize.blockSize;\n                }\n            } else {\n                // Chrome <84 implements even older version of spec.\n                width = entry.contentRect.width;\n                height = entry.contentRect.height;\n            }\n\n            // Keep the size of the canvas and rubber band canvas in sync with\n            // the canvas container.\n            if (entry.devicePixelContentBoxSize) {\n                // Chrome 84 implements new version of spec.\n                canvas.setAttribute(\n                    'width',\n                    entry.devicePixelContentBoxSize[0].inlineSize\n                );\n                canvas.setAttribute(\n                    'height',\n                    entry.devicePixelContentBoxSize[0].blockSize\n                );\n            } else {\n                canvas.setAttribute('width', width * fig.ratio);\n                canvas.setAttribute('height', height * fig.ratio);\n            }\n            canvas.setAttribute(\n                'style',\n                'width: ' + width + 'px; height: ' + height + 'px;'\n            );\n\n            rubberband_canvas.setAttribute('width', width);\n            rubberband_canvas.setAttribute('height', height);\n\n            // And update the size in Python. We ignore the initial 0/0 size\n            // that occurs as the element is placed into the DOM, which should\n            // otherwise not happen due to the minimum size styling.\n            if (fig.ws.readyState == 1 && width != 0 && height != 0) {\n                fig.request_resize(width, height);\n            }\n        }\n    });\n    this.resizeObserverInstance.observe(canvas_div);\n\n    function on_mouse_event_closure(name) {\n        return function (event) {\n            return fig.mouse_event(event, name);\n        };\n    }\n\n    rubberband_canvas.addEventListener(\n        'mousedown',\n        on_mouse_event_closure('button_press')\n    );\n    rubberband_canvas.addEventListener(\n        'mouseup',\n        on_mouse_event_closure('button_release')\n    );\n    rubberband_canvas.addEventListener(\n        'dblclick',\n        on_mouse_event_closure('dblclick')\n    );\n    // Throttle sequential mouse events to 1 every 20ms.\n    rubberband_canvas.addEventListener(\n        'mousemove',\n        on_mouse_event_closure('motion_notify')\n    );\n\n    rubberband_canvas.addEventListener(\n        'mouseenter',\n        on_mouse_event_closure('figure_enter')\n    );\n    rubberband_canvas.addEventListener(\n        'mouseleave',\n        on_mouse_event_closure('figure_leave')\n    );\n\n    canvas_div.addEventListener('wheel', function (event) {\n        if (event.deltaY < 0) {\n            event.step = 1;\n        } else {\n            event.step = -1;\n        }\n        on_mouse_event_closure('scroll')(event);\n    });\n\n    canvas_div.appendChild(canvas);\n    canvas_div.appendChild(rubberband_canvas);\n\n    this.rubberband_context = rubberband_canvas.getContext('2d');\n    this.rubberband_context.strokeStyle = '#000000';\n\n    this._resize_canvas = function (width, height, forward) {\n        if (forward) {\n            canvas_div.style.width = width + 'px';\n            canvas_div.style.height = height + 'px';\n        }\n    };\n\n    // Disable right mouse context menu.\n    this.rubberband_canvas.addEventListener('contextmenu', function (_e) {\n        event.preventDefault();\n        return false;\n    });\n\n    function set_focus() {\n        canvas.focus();\n        canvas_div.focus();\n    }\n\n    window.setTimeout(set_focus, 100);\n};\n\nmpl.figure.prototype._init_toolbar = function () {\n    var fig = this;\n\n    var toolbar = document.createElement('div');\n    toolbar.classList = 'mpl-toolbar';\n    this.root.appendChild(toolbar);\n\n    function on_click_closure(name) {\n        return function (_event) {\n            return fig.toolbar_button_onclick(name);\n        };\n    }\n\n    function on_mouseover_closure(tooltip) {\n        return function (event) {\n            if (!event.currentTarget.disabled) {\n                return fig.toolbar_button_onmouseover(tooltip);\n            }\n        };\n    }\n\n    fig.buttons = {};\n    var buttonGroup = document.createElement('div');\n    buttonGroup.classList = 'mpl-button-group';\n    for (var toolbar_ind in mpl.toolbar_items) {\n        var name = mpl.toolbar_items[toolbar_ind][0];\n        var tooltip = mpl.toolbar_items[toolbar_ind][1];\n        var image = mpl.toolbar_items[toolbar_ind][2];\n        var method_name = mpl.toolbar_items[toolbar_ind][3];\n\n        if (!name) {\n            /* Instead of a spacer, we start a new button group. */\n            if (buttonGroup.hasChildNodes()) {\n                toolbar.appendChild(buttonGroup);\n            }\n            buttonGroup = document.createElement('div');\n            buttonGroup.classList = 'mpl-button-group';\n            continue;\n        }\n\n        var button = (fig.buttons[name] = document.createElement('button'));\n        button.classList = 'mpl-widget';\n        button.setAttribute('role', 'button');\n        button.setAttribute('aria-disabled', 'false');\n        button.addEventListener('click', on_click_closure(method_name));\n        button.addEventListener('mouseover', on_mouseover_closure(tooltip));\n\n        var icon_img = document.createElement('img');\n        icon_img.src = '_images/' + image + '.png';\n        icon_img.srcset = '_images/' + image + '_large.png 2x';\n        icon_img.alt = tooltip;\n        button.appendChild(icon_img);\n\n        buttonGroup.appendChild(button);\n    }\n\n    if (buttonGroup.hasChildNodes()) {\n        toolbar.appendChild(buttonGroup);\n    }\n\n    var fmt_picker = document.createElement('select');\n    fmt_picker.classList = 'mpl-widget';\n    toolbar.appendChild(fmt_picker);\n    this.format_dropdown = fmt_picker;\n\n    for (var ind in mpl.extensions) {\n        var fmt = mpl.extensions[ind];\n        var option = document.createElement('option');\n        option.selected = fmt === mpl.default_extension;\n        option.innerHTML = fmt;\n        fmt_picker.appendChild(option);\n    }\n\n    var status_bar = document.createElement('span');\n    status_bar.classList = 'mpl-message';\n    toolbar.appendChild(status_bar);\n    this.message = status_bar;\n};\n\nmpl.figure.prototype.request_resize = function (x_pixels, y_pixels) {\n    // Request matplotlib to resize the figure. Matplotlib will then trigger a resize in the client,\n    // which will in turn request a refresh of the image.\n    this.send_message('resize', { width: x_pixels, height: y_pixels });\n};\n\nmpl.figure.prototype.send_message = function (type, properties) {\n    properties['type'] = type;\n    properties['figure_id'] = this.id;\n    this.ws.send(JSON.stringify(properties));\n};\n\nmpl.figure.prototype.send_draw_message = function () {\n    if (!this.waiting) {\n        this.waiting = true;\n        this.ws.send(JSON.stringify({ type: 'draw', figure_id: this.id }));\n    }\n};\n\nmpl.figure.prototype.handle_save = function (fig, _msg) {\n    var format_dropdown = fig.format_dropdown;\n    var format = format_dropdown.options[format_dropdown.selectedIndex].value;\n    fig.ondownload(fig, format);\n};\n\nmpl.figure.prototype.handle_resize = function (fig, msg) {\n    var size = msg['size'];\n    if (size[0] !== fig.canvas.width || size[1] !== fig.canvas.height) {\n        fig._resize_canvas(size[0], size[1], msg['forward']);\n        fig.send_message('refresh', {});\n    }\n};\n\nmpl.figure.prototype.handle_rubberband = function (fig, msg) {\n    var x0 = msg['x0'] / fig.ratio;\n    var y0 = (fig.canvas.height - msg['y0']) / fig.ratio;\n    var x1 = msg['x1'] / fig.ratio;\n    var y1 = (fig.canvas.height - msg['y1']) / fig.ratio;\n    x0 = Math.floor(x0) + 0.5;\n    y0 = Math.floor(y0) + 0.5;\n    x1 = Math.floor(x1) + 0.5;\n    y1 = Math.floor(y1) + 0.5;\n    var min_x = Math.min(x0, x1);\n    var min_y = Math.min(y0, y1);\n    var width = Math.abs(x1 - x0);\n    var height = Math.abs(y1 - y0);\n\n    fig.rubberband_context.clearRect(\n        0,\n        0,\n        fig.canvas.width / fig.ratio,\n        fig.canvas.height / fig.ratio\n    );\n\n    fig.rubberband_context.strokeRect(min_x, min_y, width, height);\n};\n\nmpl.figure.prototype.handle_figure_label = function (fig, msg) {\n    // Updates the figure title.\n    fig.header.textContent = msg['label'];\n};\n\nmpl.figure.prototype.handle_cursor = function (fig, msg) {\n    fig.rubberband_canvas.style.cursor = msg['cursor'];\n};\n\nmpl.figure.prototype.handle_message = function (fig, msg) {\n    fig.message.textContent = msg['message'];\n};\n\nmpl.figure.prototype.handle_draw = function (fig, _msg) {\n    // Request the server to send over a new figure.\n    fig.send_draw_message();\n};\n\nmpl.figure.prototype.handle_image_mode = function (fig, msg) {\n    fig.image_mode = msg['mode'];\n};\n\nmpl.figure.prototype.handle_history_buttons = function (fig, msg) {\n    for (var key in msg) {\n        if (!(key in fig.buttons)) {\n            continue;\n        }\n        fig.buttons[key].disabled = !msg[key];\n        fig.buttons[key].setAttribute('aria-disabled', !msg[key]);\n    }\n};\n\nmpl.figure.prototype.handle_navigate_mode = function (fig, msg) {\n    if (msg['mode'] === 'PAN') {\n        fig.buttons['Pan'].classList.add('active');\n        fig.buttons['Zoom'].classList.remove('active');\n    } else if (msg['mode'] === 'ZOOM') {\n        fig.buttons['Pan'].classList.remove('active');\n        fig.buttons['Zoom'].classList.add('active');\n    } else {\n        fig.buttons['Pan'].classList.remove('active');\n        fig.buttons['Zoom'].classList.remove('active');\n    }\n};\n\nmpl.figure.prototype.updated_canvas_event = function () {\n    // Called whenever the canvas gets updated.\n    this.send_message('ack', {});\n};\n\n// A function to construct a web socket function for onmessage handling.\n// Called in the figure constructor.\nmpl.figure.prototype._make_on_message_function = function (fig) {\n    return function socket_on_message(evt) {\n        if (evt.data instanceof Blob) {\n            var img = evt.data;\n            if (img.type !== 'image/png') {\n                /* FIXME: We get \"Resource interpreted as Image but\n                 * transferred with MIME type text/plain:\" errors on\n                 * Chrome.  But how to set the MIME type?  It doesn't seem\n                 * to be part of the websocket stream */\n                img.type = 'image/png';\n            }\n\n            /* Free the memory for the previous frames */\n            if (fig.imageObj.src) {\n                (window.URL || window.webkitURL).revokeObjectURL(\n                    fig.imageObj.src\n                );\n            }\n\n            fig.imageObj.src = (window.URL || window.webkitURL).createObjectURL(\n                img\n            );\n            fig.updated_canvas_event();\n            fig.waiting = false;\n            return;\n        } else if (\n            typeof evt.data === 'string' &&\n            evt.data.slice(0, 21) === 'data:image/png;base64'\n        ) {\n            fig.imageObj.src = evt.data;\n            fig.updated_canvas_event();\n            fig.waiting = false;\n            return;\n        }\n\n        var msg = JSON.parse(evt.data);\n        var msg_type = msg['type'];\n\n        // Call the  \"handle_{type}\" callback, which takes\n        // the figure and JSON message as its only arguments.\n        try {\n            var callback = fig['handle_' + msg_type];\n        } catch (e) {\n            console.log(\n                \"No handler for the '\" + msg_type + \"' message type: \",\n                msg\n            );\n            return;\n        }\n\n        if (callback) {\n            try {\n                // console.log(\"Handling '\" + msg_type + \"' message: \", msg);\n                callback(fig, msg);\n            } catch (e) {\n                console.log(\n                    \"Exception inside the 'handler_\" + msg_type + \"' callback:\",\n                    e,\n                    e.stack,\n                    msg\n                );\n            }\n        }\n    };\n};\n\n// from https://stackoverflow.com/questions/1114465/getting-mouse-location-in-canvas\nmpl.findpos = function (e) {\n    //this section is from http://www.quirksmode.org/js/events_properties.html\n    var targ;\n    if (!e) {\n        e = window.event;\n    }\n    if (e.target) {\n        targ = e.target;\n    } else if (e.srcElement) {\n        targ = e.srcElement;\n    }\n    if (targ.nodeType === 3) {\n        // defeat Safari bug\n        targ = targ.parentNode;\n    }\n\n    // pageX,Y are the mouse positions relative to the document\n    var boundingRect = targ.getBoundingClientRect();\n    var x = e.pageX - (boundingRect.left + document.body.scrollLeft);\n    var y = e.pageY - (boundingRect.top + document.body.scrollTop);\n\n    return { x: x, y: y };\n};\n\n/*\n * return a copy of an object with only non-object keys\n * we need this to avoid circular references\n * https://stackoverflow.com/a/24161582/3208463\n */\nfunction simpleKeys(original) {\n    return Object.keys(original).reduce(function (obj, key) {\n        if (typeof original[key] !== 'object') {\n            obj[key] = original[key];\n        }\n        return obj;\n    }, {});\n}\n\nmpl.figure.prototype.mouse_event = function (event, name) {\n    var canvas_pos = mpl.findpos(event);\n\n    if (name === 'button_press') {\n        this.canvas.focus();\n        this.canvas_div.focus();\n    }\n\n    var x = canvas_pos.x * this.ratio;\n    var y = canvas_pos.y * this.ratio;\n\n    this.send_message(name, {\n        x: x,\n        y: y,\n        button: event.button,\n        step: event.step,\n        guiEvent: simpleKeys(event),\n    });\n\n    /* This prevents the web browser from automatically changing to\n     * the text insertion cursor when the button is pressed.  We want\n     * to control all of the cursor setting manually through the\n     * 'cursor' event from matplotlib */\n    event.preventDefault();\n    return false;\n};\n\nmpl.figure.prototype._key_event_extra = function (_event, _name) {\n    // Handle any extra behaviour associated with a key event\n};\n\nmpl.figure.prototype.key_event = function (event, name) {\n    // Prevent repeat events\n    if (name === 'key_press') {\n        if (event.key === this._key) {\n            return;\n        } else {\n            this._key = event.key;\n        }\n    }\n    if (name === 'key_release') {\n        this._key = null;\n    }\n\n    var value = '';\n    if (event.ctrlKey && event.key !== 'Control') {\n        value += 'ctrl+';\n    }\n    else if (event.altKey && event.key !== 'Alt') {\n        value += 'alt+';\n    }\n    else if (event.shiftKey && event.key !== 'Shift') {\n        value += 'shift+';\n    }\n\n    value += 'k' + event.key;\n\n    this._key_event_extra(event, name);\n\n    this.send_message(name, { key: value, guiEvent: simpleKeys(event) });\n    return false;\n};\n\nmpl.figure.prototype.toolbar_button_onclick = function (name) {\n    if (name === 'download') {\n        this.handle_save(this, null);\n    } else {\n        this.send_message('toolbar_button', { name: name });\n    }\n};\n\nmpl.figure.prototype.toolbar_button_onmouseover = function (tooltip) {\n    this.message.textContent = tooltip;\n};\n\n///////////////// REMAINING CONTENT GENERATED BY embed_js.py /////////////////\n// prettier-ignore\nvar _JSXTOOLS_RESIZE_OBSERVER=function(A){var t,i=new WeakMap,n=new WeakMap,a=new WeakMap,r=new WeakMap,o=new Set;function s(e){if(!(this instanceof s))throw new TypeError(\"Constructor requires 'new' operator\");i.set(this,e)}function h(){throw new TypeError(\"Function is not a constructor\")}function c(e,t,i,n){e=0 in arguments?Number(arguments[0]):0,t=1 in arguments?Number(arguments[1]):0,i=2 in arguments?Number(arguments[2]):0,n=3 in arguments?Number(arguments[3]):0,this.right=(this.x=this.left=e)+(this.width=i),this.bottom=(this.y=this.top=t)+(this.height=n),Object.freeze(this)}function d(){t=requestAnimationFrame(d);var s=new WeakMap,p=new Set;o.forEach((function(t){r.get(t).forEach((function(i){var r=t instanceof window.SVGElement,o=a.get(t),d=r?0:parseFloat(o.paddingTop),f=r?0:parseFloat(o.paddingRight),l=r?0:parseFloat(o.paddingBottom),u=r?0:parseFloat(o.paddingLeft),g=r?0:parseFloat(o.borderTopWidth),m=r?0:parseFloat(o.borderRightWidth),w=r?0:parseFloat(o.borderBottomWidth),b=u+f,F=d+l,v=(r?0:parseFloat(o.borderLeftWidth))+m,W=g+w,y=r?0:t.offsetHeight-W-t.clientHeight,E=r?0:t.offsetWidth-v-t.clientWidth,R=b+v,z=F+W,M=r?t.width:parseFloat(o.width)-R-E,O=r?t.height:parseFloat(o.height)-z-y;if(n.has(t)){var k=n.get(t);if(k[0]===M&&k[1]===O)return}n.set(t,[M,O]);var S=Object.create(h.prototype);S.target=t,S.contentRect=new c(u,d,M,O),s.has(i)||(s.set(i,[]),p.add(i)),s.get(i).push(S)}))})),p.forEach((function(e){i.get(e).call(e,s.get(e),e)}))}return s.prototype.observe=function(i){if(i instanceof window.Element){r.has(i)||(r.set(i,new Set),o.add(i),a.set(i,window.getComputedStyle(i)));var n=r.get(i);n.has(this)||n.add(this),cancelAnimationFrame(t),t=requestAnimationFrame(d)}},s.prototype.unobserve=function(i){if(i instanceof window.Element&&r.has(i)){var n=r.get(i);n.has(this)&&(n.delete(this),n.size||(r.delete(i),o.delete(i))),n.size||r.delete(i),o.size||cancelAnimationFrame(t)}},A.DOMRectReadOnly=c,A.ResizeObserver=s,A.ResizeObserverEntry=h,A}; // eslint-disable-line\nmpl.toolbar_items = [[\"Home\", \"Reset original view\", \"fa fa-home icon-home\", \"home\"], [\"Back\", \"Back to previous view\", \"fa fa-arrow-left icon-arrow-left\", \"back\"], [\"Forward\", \"Forward to next view\", \"fa fa-arrow-right icon-arrow-right\", \"forward\"], [\"\", \"\", \"\", \"\"], [\"Pan\", \"Left button pans, Right button zooms\\nx/y fixes axis, CTRL fixes aspect\", \"fa fa-arrows icon-move\", \"pan\"], [\"Zoom\", \"Zoom to rectangle\\nx/y fixes axis\", \"fa fa-square-o icon-check-empty\", \"zoom\"], [\"\", \"\", \"\", \"\"], [\"Download\", \"Download plot\", \"fa fa-floppy-o icon-save\", \"download\"]];\n\nmpl.extensions = [\"eps\", \"jpeg\", \"pgf\", \"pdf\", \"png\", \"ps\", \"raw\", \"svg\", \"tif\"];\n\nmpl.default_extension = \"png\";/* global mpl */\n\nvar comm_websocket_adapter = function (comm) {\n    // Create a \"websocket\"-like object which calls the given IPython comm\n    // object with the appropriate methods. Currently this is a non binary\n    // socket, so there is still some room for performance tuning.\n    var ws = {};\n\n    ws.binaryType = comm.kernel.ws.binaryType;\n    ws.readyState = comm.kernel.ws.readyState;\n    function updateReadyState(_event) {\n        if (comm.kernel.ws) {\n            ws.readyState = comm.kernel.ws.readyState;\n        } else {\n            ws.readyState = 3; // Closed state.\n        }\n    }\n    comm.kernel.ws.addEventListener('open', updateReadyState);\n    comm.kernel.ws.addEventListener('close', updateReadyState);\n    comm.kernel.ws.addEventListener('error', updateReadyState);\n\n    ws.close = function () {\n        comm.close();\n    };\n    ws.send = function (m) {\n        //console.log('sending', m);\n        comm.send(m);\n    };\n    // Register the callback with on_msg.\n    comm.on_msg(function (msg) {\n        //console.log('receiving', msg['content']['data'], msg);\n        var data = msg['content']['data'];\n        if (data['blob'] !== undefined) {\n            data = {\n                data: new Blob(msg['buffers'], { type: data['blob'] }),\n            };\n        }\n        // Pass the mpl event to the overridden (by mpl) onmessage function.\n        ws.onmessage(data);\n    });\n    return ws;\n};\n\nmpl.mpl_figure_comm = function (comm, msg) {\n    // This is the function which gets called when the mpl process\n    // starts-up an IPython Comm through the \"matplotlib\" channel.\n\n    var id = msg.content.data.id;\n    // Get hold of the div created by the display call when the Comm\n    // socket was opened in Python.\n    var element = document.getElementById(id);\n    var ws_proxy = comm_websocket_adapter(comm);\n\n    function ondownload(figure, _format) {\n        window.open(figure.canvas.toDataURL());\n    }\n\n    var fig = new mpl.figure(id, ws_proxy, ondownload, element);\n\n    // Call onopen now - mpl needs it, as it is assuming we've passed it a real\n    // web socket which is closed, not our websocket->open comm proxy.\n    ws_proxy.onopen();\n\n    fig.parent_element = element;\n    fig.cell_info = mpl.find_output_cell(\"<div id='\" + id + \"'></div>\");\n    if (!fig.cell_info) {\n        console.error('Failed to find cell for figure', id, fig);\n        return;\n    }\n    fig.cell_info[0].output_area.element.on(\n        'cleared',\n        { fig: fig },\n        fig._remove_fig_handler\n    );\n};\n\nmpl.figure.prototype.handle_close = function (fig, msg) {\n    var width = fig.canvas.width / fig.ratio;\n    fig.cell_info[0].output_area.element.off(\n        'cleared',\n        fig._remove_fig_handler\n    );\n    fig.resizeObserverInstance.unobserve(fig.canvas_div);\n\n    // Update the output cell to use the data from the current canvas.\n    fig.push_to_output();\n    var dataURL = fig.canvas.toDataURL();\n    // Re-enable the keyboard manager in IPython - without this line, in FF,\n    // the notebook keyboard shortcuts fail.\n    IPython.keyboard_manager.enable();\n    fig.parent_element.innerHTML =\n        '<img src=\"' + dataURL + '\" width=\"' + width + '\">';\n    fig.close_ws(fig, msg);\n};\n\nmpl.figure.prototype.close_ws = function (fig, msg) {\n    fig.send_message('closing', msg);\n    // fig.ws.close()\n};\n\nmpl.figure.prototype.push_to_output = function (_remove_interactive) {\n    // Turn the data on the canvas into data in the output cell.\n    var width = this.canvas.width / this.ratio;\n    var dataURL = this.canvas.toDataURL();\n    this.cell_info[1]['text/html'] =\n        '<img src=\"' + dataURL + '\" width=\"' + width + '\">';\n};\n\nmpl.figure.prototype.updated_canvas_event = function () {\n    // Tell IPython that the notebook contents must change.\n    IPython.notebook.set_dirty(true);\n    this.send_message('ack', {});\n    var fig = this;\n    // Wait a second, then push the new image to the DOM so\n    // that it is saved nicely (might be nice to debounce this).\n    setTimeout(function () {\n        fig.push_to_output();\n    }, 1000);\n};\n\nmpl.figure.prototype._init_toolbar = function () {\n    var fig = this;\n\n    var toolbar = document.createElement('div');\n    toolbar.classList = 'btn-toolbar';\n    this.root.appendChild(toolbar);\n\n    function on_click_closure(name) {\n        return function (_event) {\n            return fig.toolbar_button_onclick(name);\n        };\n    }\n\n    function on_mouseover_closure(tooltip) {\n        return function (event) {\n            if (!event.currentTarget.disabled) {\n                return fig.toolbar_button_onmouseover(tooltip);\n            }\n        };\n    }\n\n    fig.buttons = {};\n    var buttonGroup = document.createElement('div');\n    buttonGroup.classList = 'btn-group';\n    var button;\n    for (var toolbar_ind in mpl.toolbar_items) {\n        var name = mpl.toolbar_items[toolbar_ind][0];\n        var tooltip = mpl.toolbar_items[toolbar_ind][1];\n        var image = mpl.toolbar_items[toolbar_ind][2];\n        var method_name = mpl.toolbar_items[toolbar_ind][3];\n\n        if (!name) {\n            /* Instead of a spacer, we start a new button group. */\n            if (buttonGroup.hasChildNodes()) {\n                toolbar.appendChild(buttonGroup);\n            }\n            buttonGroup = document.createElement('div');\n            buttonGroup.classList = 'btn-group';\n            continue;\n        }\n\n        button = fig.buttons[name] = document.createElement('button');\n        button.classList = 'btn btn-default';\n        button.href = '#';\n        button.title = name;\n        button.innerHTML = '<i class=\"fa ' + image + ' fa-lg\"></i>';\n        button.addEventListener('click', on_click_closure(method_name));\n        button.addEventListener('mouseover', on_mouseover_closure(tooltip));\n        buttonGroup.appendChild(button);\n    }\n\n    if (buttonGroup.hasChildNodes()) {\n        toolbar.appendChild(buttonGroup);\n    }\n\n    // Add the status bar.\n    var status_bar = document.createElement('span');\n    status_bar.classList = 'mpl-message pull-right';\n    toolbar.appendChild(status_bar);\n    this.message = status_bar;\n\n    // Add the close button to the window.\n    var buttongrp = document.createElement('div');\n    buttongrp.classList = 'btn-group inline pull-right';\n    button = document.createElement('button');\n    button.classList = 'btn btn-mini btn-primary';\n    button.href = '#';\n    button.title = 'Stop Interaction';\n    button.innerHTML = '<i class=\"fa fa-power-off icon-remove icon-large\"></i>';\n    button.addEventListener('click', function (_evt) {\n        fig.handle_close(fig, {});\n    });\n    button.addEventListener(\n        'mouseover',\n        on_mouseover_closure('Stop Interaction')\n    );\n    buttongrp.appendChild(button);\n    var titlebar = this.root.querySelector('.ui-dialog-titlebar');\n    titlebar.insertBefore(buttongrp, titlebar.firstChild);\n};\n\nmpl.figure.prototype._remove_fig_handler = function (event) {\n    var fig = event.data.fig;\n    if (event.target !== this) {\n        // Ignore bubbled events from children.\n        return;\n    }\n    fig.close_ws(fig, {});\n};\n\nmpl.figure.prototype._root_extra_style = function (el) {\n    el.style.boxSizing = 'content-box'; // override notebook setting of border-box.\n};\n\nmpl.figure.prototype._canvas_extra_style = function (el) {\n    // this is important to make the div 'focusable\n    el.setAttribute('tabindex', 0);\n    // reach out to IPython and tell the keyboard manager to turn it's self\n    // off when our div gets focus\n\n    // location in version 3\n    if (IPython.notebook.keyboard_manager) {\n        IPython.notebook.keyboard_manager.register_events(el);\n    } else {\n        // location in version 2\n        IPython.keyboard_manager.register_events(el);\n    }\n};\n\nmpl.figure.prototype._key_event_extra = function (event, _name) {\n    // Check for shift+enter\n    if (event.shiftKey && event.which === 13) {\n        this.canvas_div.blur();\n        // select the cell after this one\n        var index = IPython.notebook.find_cell_index(this.cell_info[0]);\n        IPython.notebook.select(index + 1);\n    }\n};\n\nmpl.figure.prototype.handle_save = function (fig, _msg) {\n    fig.ondownload(fig, null);\n};\n\nmpl.find_output_cell = function (html_output) {\n    // Return the cell and output element which can be found *uniquely* in the notebook.\n    // Note - this is a bit hacky, but it is done because the \"notebook_saving.Notebook\"\n    // IPython event is triggered only after the cells have been serialised, which for\n    // our purposes (turning an active figure into a static one), is too late.\n    var cells = IPython.notebook.get_cells();\n    var ncells = cells.length;\n    for (var i = 0; i < ncells; i++) {\n        var cell = cells[i];\n        if (cell.cell_type === 'code') {\n            for (var j = 0; j < cell.output_area.outputs.length; j++) {\n                var data = cell.output_area.outputs[j];\n                if (data.data) {\n                    // IPython >= 3 moved mimebundle to data attribute of output\n                    data = data.data;\n                }\n                if (data['text/html'] === html_output) {\n                    return [cell, data, j];\n                }\n            }\n        }\n    }\n};\n\n// Register the function which deals with the matplotlib target/channel.\n// The kernel may be null if the page has been refreshed.\nif (IPython.notebook.kernel !== null) {\n    IPython.notebook.kernel.comm_manager.register_target(\n        'matplotlib',\n        mpl.mpl_figure_comm\n    );\n}\n",
      "text/plain": [
       "<IPython.core.display.Javascript object>"
      ]
     },
     "metadata": {},
     "output_type": "display_data"
    },
    {
     "data": {
      "text/html": [
       "<div id='70f77ac4-0485-4800-8abf-fd8b5b6e3b43'></div>"
      ],
      "text/plain": [
       "<IPython.core.display.HTML object>"
      ]
     },
     "metadata": {},
     "output_type": "display_data"
    }
   ],
   "source": [
    "display_Dicom(\"temp_mesh.mha\",\"temp_mesh.mha\")"
   ]
  },
  {
   "cell_type": "markdown",
   "metadata": {},
   "source": [
    "### Once the Imag above looks right, run the following code the find the neede error and transform"
   ]
  },
  {
   "cell_type": "code",
   "execution_count": 29,
   "metadata": {},
   "outputs": [
    {
     "name": "stdout",
     "output_type": "stream",
     "text": [
      "[Open3D DEBUG] [ClusterConnectedTriangles] Compute triangle adjacency\n",
      "[Open3D DEBUG] [ClusterConnectedTriangles] Done computing triangle adjacency\n",
      "[Open3D DEBUG] [ClusterConnectedTriangles] Done clustering, #clusters=383\n",
      "[Open3D DEBUG] Precompute neighbors.\n",
      "[Open3D DEBUG] Done Precompute neighbors.\n",
      "[Open3D DEBUG] Compute Clusters\n",
      "[Open3D DEBUG] Done Compute Clusters: 26\n"
     ]
    },
    {
     "name": "stderr",
     "output_type": "stream",
     "text": [
      "100%|██████████| 26/26 [00:00<00:00, 577.78it/s]\n",
      "c:\\Users\\snowl\\Documents\\GitHub\\ct-fiducial-tracking\\ct_tracking_library\\ct_tracking_functions.py:397: VisibleDeprecationWarning: Creating an ndarray from ragged nested sequences (which is a list-or-tuple of lists-or-tuples-or ndarrays with different lengths or shapes) is deprecated. If you meant to do this, you must specify 'dtype=object' when creating the ndarray.\n",
      "  return copy.deepcopy(marker), copy.deepcopy(marker_centroid_coordinates), copy.deepcopy(pcd_selected), copy.deepcopy(mesh), copy.deepcopy(coordinate_frame), np.array(good_centroid_clusters)#, np.array(marker_centroid_coordinates_list)\n"
     ]
    },
    {
     "name": "stdout",
     "output_type": "stream",
     "text": [
      "[Open3D DEBUG] Precompute neighbors.\n",
      "[Open3D DEBUG] Done Precompute neighbors.\n",
      "[Open3D DEBUG] Compute Clusters\n",
      "[Open3D DEBUG] Done Compute Clusters: 3\n",
      "point cloud has 3 clusters\n",
      "[0 1 4 5 6]\n",
      "[ 2 10 11]\n",
      "[3 7 8 9]\n",
      "marker centroid coordinates from design: [[-10  -5   0]\n",
      " [-10   5   0]\n",
      " [  0  -5   0]\n",
      " [ 10   0   0]]\n",
      "found centroid coordinates: [[-120.33   82.83  130.96]\n",
      " [-117.31   82.4   153.37]]\n"
     ]
    }
   ],
   "source": [
    "#find candidate fiducials within the scanner returning clustered centroids that could be rigid body markers\n",
    "_, marker_centroid_coordinates, pcd_selected, marker_mesh, _, good_centroid_clusters = find_candidate_centroids(marker = marker, debug=False)\n",
    "\n",
    "print('marker centroid coordinates from design: {}'.format(marker))\n",
    "print('found centroid coordinates: {}'.format(marker_centroid_coordinates))\n",
    "\n",
    "#display candidate fiducials\n",
    "o3d.visualization.draw_geometries([pcd_selected, marker_mesh])"
   ]
  },
  {
   "cell_type": "markdown",
   "metadata": {},
   "source": [
    "## Find marker"
   ]
  },
  {
   "cell_type": "code",
   "execution_count": 30,
   "metadata": {},
   "outputs": [
    {
     "name": "stdout",
     "output_type": "stream",
     "text": [
      "[6.31 9.03 7.14 7.14 5.29 0.03]\n",
      "Everything looks good!\n",
      "the final error is:  0.032635761944859946\n",
      "[[-0.01  0.   -0.04]\n",
      " [-0.03 -0.    0.02]\n",
      " [ 0.03 -0.    0.02]\n",
      " [ 0.01  0.    0.  ]]\n"
     ]
    }
   ],
   "source": [
    "#find best transform and marker from candidate fiducials\n",
    "tracked_R, tracked_t, permuted_centroids, min_error = find_best_transform_from_candidate_marker_clusters(marker, good_centroid_clusters)\n",
    "\n",
    "#get rid of column of ones to make 3xN\n",
    "permuted_centroids = permuted_centroids[:3,:].T\n",
    "\n",
    "#transform marker geometry coordinates using found transform to tracked image coordinates\n",
    "transformed_marker = (tracked_R @ marker.T + tracked_t).T\n",
    "error = permuted_centroids-transformed_marker\n",
    "E_list.append(np.linalg.norm(error))\n",
    "print(error)"
   ]
  },
  {
   "cell_type": "markdown",
   "metadata": {},
   "source": [
    "## Visualize Marker"
   ]
  },
  {
   "cell_type": "code",
   "execution_count": 31,
   "metadata": {},
   "outputs": [
    {
     "name": "stdout",
     "output_type": "stream",
     "text": [
      "Error (mm): [[-0.01  0.   -0.04]\n",
      " [-0.03 -0.    0.02]\n",
      " [ 0.03 -0.    0.02]\n",
      " [ 0.01  0.    0.  ]]\n",
      "Error norm (mm): 0.25548292289254854\n"
     ]
    }
   ],
   "source": [
    "#create o3d visualizations\n",
    "marker_3d_tracked = create_marker_visualization(fiducial_coordinates=permuted_centroids, color=[0.8, 0.2, 0.2])\n",
    "marker_3d_base = create_marker_visualization(marker, [0.2, 0.8, 0.2])\n",
    "marker_3d_base.append(create_coordinate_frame_visualization())\n",
    "marker_3d_transformed = create_marker_visualization(marker, [0.2, 0.2, 0.8], tracked_R, tracked_t)\n",
    "marker_3d_transformed.append(create_coordinate_frame_visualization(tracked_R, tracked_t))\n",
    "\n",
    "#display tracked  markers and coordinate frames\n",
    "# o3d.visualization.draw_geometries(marker_3d_tracked)\n",
    "# o3d.visualization.draw_geometries(marker_3d_base)\n",
    "# o3d.visualization.draw_geometries(marker_3d_transformed)\n",
    "\n",
    "#tracking error from final transform\n",
    "np.set_printoptions(2)\n",
    "print(\"Error (mm): {}\".format(error))\n",
    "print(\"Error norm (mm): {}\".format(np.linalg.norm(error)**0.5))\n",
    "\n",
    "#visualize tracked markers on top of mesh used for tracking\n",
    "visualization_list2 = marker_3d_tracked+marker_3d_base+marker_3d_transformed + [marker_mesh]\n",
    "visualization_list1 = copy.deepcopy(visualization_list2)\n",
    "o3d.visualization.draw_geometries(visualization_list2)"
   ]
  },
  {
   "cell_type": "markdown",
   "metadata": {},
   "source": [
    "## Visualize tracked markers and full scan w/ low threshold"
   ]
  },
  {
   "cell_type": "code",
   "execution_count": 33,
   "metadata": {},
   "outputs": [
    {
     "name": "stdout",
     "output_type": "stream",
     "text": [
      "spacing:  [0.63 0.88 0.88]\n",
      " origin:  [-149.69 -225.   -225.  ]\n"
     ]
    }
   ],
   "source": [
    "convert_scan_to_mha(scan_file)\n",
    "convert_mha_to_mesh(output_mesh_file = 'temp_full_mesh.obj', threshold_value = -400)\n",
    "temp_full_mesh = o3d.io.read_triangle_mesh('temp_full_mesh.obj').paint_uniform_color([0.0, 0.0, 0.8]).compute_vertex_normals()\n",
    "o3d.visualization.draw_geometries(visualization_list2+visualization_list1+[temp_full_mesh])"
   ]
  },
  {
   "cell_type": "markdown",
   "metadata": {},
   "source": [
    "## forward kinematics"
   ]
  },
  {
   "cell_type": "code",
   "execution_count": null,
   "metadata": {},
   "outputs": [],
   "source": [
    "from transforms3d.euler import euler2mat, mat2euler"
   ]
  },
  {
   "cell_type": "code",
   "execution_count": null,
   "metadata": {},
   "outputs": [],
   "source": [
    "def find_Tbee(Tsbb,Tsbee):\n",
    "    \"\"\"\n",
    "    Tsbb^-1 * Tsbee\n",
    "    \"\"\"\n",
    "    return False"
   ]
  },
  {
   "cell_type": "code",
   "execution_count": null,
   "metadata": {},
   "outputs": [],
   "source": [
    "def find_all_error(T1,T2):\n",
    "    \"\"\"\n",
    "    output (x,y,z)+RMSE\n",
    "    \"\"\"\n",
    "    assert T1.shape == (2, 2)\n",
    "    assert T2.shape == (2, 2)\n",
    "    deta_T = T1@Hinv(T2)\n",
    "    print(deta_T)\n",
    "    R,p_error = T2t(deta_T)\n",
    "    o_r = t3d.euler.euler2mat(R)\n",
    "    return p_error,o_r"
   ]
  },
  {
   "cell_type": "markdown",
   "metadata": {},
   "source": [
    "### Helper function"
   ]
  },
  {
   "cell_type": "code",
   "execution_count": null,
   "metadata": {},
   "outputs": [],
   "source": [
    "def Hinv(T):\n",
    "    assert T.shape == (2, 2)\n",
    "    r,d = T2t(T)\n",
    "    T_1 = t2T(np.linalg.inv(r),-np.linalg.inv(r)@d)\n",
    "    return T_1"
   ]
  },
  {
   "cell_type": "code",
   "execution_count": null,
   "metadata": {},
   "outputs": [],
   "source": [
    "def t2T(r,t):\n",
    "    assert isinstance(r,np.ndarray)\n",
    "    assert isinstance(t,np.ndarray)\n",
    "    \"\"\"\n",
    "    This function that takes R and t to a homogeneous tansfamred matrix:\n",
    "\n",
    "    Args: r(numpy.ndarray): rotation matrix\n",
    "          t(numpy.ndarray): translation vector\n",
    "\n",
    "    Returns: 4x4 matrix\n",
    "\n",
    "    \"\"\"\n",
    "    return np.array([[r, t], [np.zeros((1,3)), 1]])"
   ]
  },
  {
   "cell_type": "code",
   "execution_count": null,
   "metadata": {},
   "outputs": [],
   "source": [
    "def T2t(T):\n",
    "    assert T.shape == (2, 2)\n",
    "    return T[0,0],T[0,1]"
   ]
  },
  {
   "cell_type": "code",
   "execution_count": null,
   "metadata": {},
   "outputs": [],
   "source": [
    "Ta = t2T(final_R,final_t)\n",
    "Tb = t2T(final_R,final_t)"
   ]
  },
  {
   "cell_type": "code",
   "execution_count": null,
   "metadata": {},
   "outputs": [],
   "source": [
    "deta_T = Ta@Hinv(Tb)\n",
    "r,d = T2t(Tb)\n",
    "c = -np.linalg.inv(r)@d\n",
    "print(c.shape)\n",
    "#print(deta_T)\n",
    "#print(deta_T[0,1])\n",
    "#print(deta_T[0,1].shape)"
   ]
  },
  {
   "cell_type": "code",
   "execution_count": null,
   "metadata": {},
   "outputs": [],
   "source": [
    "R,p = T2t(deta_T)\n",
    "print(R)\n",
    "print(p)"
   ]
  },
  {
   "cell_type": "markdown",
   "metadata": {},
   "source": [
    "# A)\n",
    "## with the motor not moved, scan it ONCE and find:\n",
    "### T^(sb)_b and T^(sb)_ee\n",
    "### T^(b)_ee = (T^(sb)_b)^-1*T^(sb)_ee"
   ]
  },
  {
   "cell_type": "markdown",
   "metadata": {},
   "source": [
    "# B)\n",
    "## with the motor not moved, scan it AGAIN and find:\n",
    "### 1T^(sb)_b and 1T^(sb)_ee\n",
    "### 1T^(b)_ee = (1T^(sb)_b)^-1*1T^(sb)_ee"
   ]
  },
  {
   "cell_type": "markdown",
   "metadata": {},
   "source": [
    "## Then with A and B"
   ]
  },
  {
   "cell_type": "code",
   "execution_count": null,
   "metadata": {},
   "outputs": [],
   "source": []
  }
 ],
 "metadata": {
  "kernelspec": {
   "display_name": "Python 3 (ipykernel)",
   "language": "python",
   "name": "python3"
  },
  "language_info": {
   "codemirror_mode": {
    "name": "ipython",
    "version": 3
   },
   "file_extension": ".py",
   "mimetype": "text/x-python",
   "name": "python",
   "nbconvert_exporter": "python",
   "pygments_lexer": "ipython3",
   "version": "3.9.7"
  },
  "vscode": {
   "interpreter": {
    "hash": "0d8f9822538f916fd3882b0229ca50b27681e14c7239e8291fa4436f36316800"
   }
  }
 },
 "nbformat": 4,
 "nbformat_minor": 2
}
