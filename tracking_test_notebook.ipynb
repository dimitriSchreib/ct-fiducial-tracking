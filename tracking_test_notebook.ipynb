{
 "cells": [
  {
   "cell_type": "code",
   "execution_count": 1,
   "metadata": {},
   "outputs": [
    {
     "name": "stdout",
     "output_type": "stream",
     "text": [
      "Jupyter environment detected. Enabling Open3D WebVisualizer.\n",
      "[Open3D INFO] WebRTC GUI backend enabled.\n",
      "[Open3D INFO] WebRTCWindowSystem: HTTP handshake server disabled.\n"
     ]
    }
   ],
   "source": [
    "#Test notebook for tracking rigid body  marker consisting of multiple fiducials within a CT scan volume\n",
    "\n",
    "#3D data processing\n",
    "import open3d as o3d\n",
    "import ct_tracking_library # our helper functions\n",
    "import SimpleITK as sitk\n",
    "import numpy as np\n",
    "import matplotlib.pyplot as plt\n",
    "import os\n",
    "#our processing code\n",
    "#from ct_tracking_library.ct_processing_functions import *\n",
    "\n",
    "#used for GUI\n",
    "%matplotlib notebook\n",
    "from ct_tracking_library import gui\n",
    "from ct_tracking_library.ct_tracking_functions import *\n",
    "from ct_tracking_library.ct_processing_functions import *"
   ]
  },
  {
   "cell_type": "code",
   "execution_count": 2,
   "metadata": {},
   "outputs": [],
   "source": [
    "def display_Dicom(file1,file2):\n",
    "    assert isinstance(file1,str)\n",
    "    assert isinstance(file1,str)\n",
    "    img1 = sitk.ReadImage(file1)\n",
    "    #img2 = sitk.ReadImage(file2)\n",
    "    img2 = sitk.GetImageFromArray(file2)\n",
    "    print_info(img1)\n",
    "    print_info(img2)\n",
    "    # Obtain foreground masks for the two images using Otsu thresholding, we use these later on.\n",
    "    msk1 = sitk.OtsuThreshold(img1,0,1)\n",
    "    msk2 = sitk.OtsuThreshold(img2,0,1)\n",
    "\n",
    "    gui.MultiImageDisplay(image_list = [img1, img2],\n",
    "                          title_list = ['Original', 'Estimated'],\n",
    "                          figure_size=(9,3))"
   ]
  },
  {
   "cell_type": "code",
   "execution_count": 3,
   "metadata": {},
   "outputs": [],
   "source": [
    "def print_info(selected_image):\n",
    "    print('origin: ' + str(selected_image.GetOrigin()))\n",
    "    print('size: ' + str(selected_image.GetSize()))\n",
    "    print('spacing: ' + str(selected_image.GetSpacing()))\n",
    "    print('direction: ' + str(selected_image.GetDirection()))\n",
    "    print('pixel type: ' + str(selected_image.GetPixelIDTypeAsString()))\n",
    "    print('number of pixel components: ' + str(selected_image.GetNumberOfComponentsPerPixel()))"
   ]
  },
  {
   "cell_type": "code",
   "execution_count": null,
   "metadata": {},
   "outputs": [],
   "source": [
    "with open('./test_data/bb_marker3.pkl', 'rb') as f:\n",
    "        image_stack, slice_spacing, spacing_x, spacing_y, _, _, _ = pickle.load(f)\n",
    "display_Dicom(\"temp_mesh.mha\",image_stack)"
   ]
  },
  {
   "cell_type": "code",
   "execution_count": 2,
   "metadata": {},
   "outputs": [
    {
     "name": "stdout",
     "output_type": "stream",
     "text": [
      "spacing:  [1.25     0.976563 0.976563]\n",
      "image_stack shape:  (37, 512, 512)\n",
      "Displaying segmented mesh\n"
     ]
    }
   ],
   "source": [
    "#convert scan to mesh for finding markers via thresholding\n",
    "# !!! comment the below code to change the way file is loaded !!!\n",
    "#convert_scan_to_mesh(scan_file='./test_data/bb_marker3.pkl', debug=True)\n",
    "convert_scan_to_mesh_mha(scan_file='./test_data/biopsy 4', threshold_value = 1200, debug=True)"
   ]
  },
  {
   "cell_type": "code",
   "execution_count": 4,
   "metadata": {},
   "outputs": [
    {
     "name": "stdout",
     "output_type": "stream",
     "text": [
      "[Open3D DEBUG] Precompute neighbors.\n",
      "[Open3D DEBUG] Done Precompute neighbors.\n",
      "[Open3D DEBUG] Compute Clusters\n",
      "[Open3D DEBUG] Done Compute Clusters: 44\n"
     ]
    },
    {
     "name": "stderr",
     "output_type": "stream",
     "text": [
      "  0%|          | 0/44 [00:00<?, ?it/s]c:\\Users\\snowl\\Documents\\GitHub\\ct-fiducial-tracking\\ct_tracking_library\\ct_tracking_functions.py:376: FutureWarning: `rcond` parameter will change to the default of machine precision times ``max(M, N)`` where M and N are the input matrix dimensions.\n",
      "To use the future default and silence this warning we advise to pass `rcond=None`, to keep using the old, explicitly pass `rcond=-1`.\n",
      "  C, residules, rank, singval = np.linalg.lstsq(A,f)\n",
      "100%|██████████| 44/44 [00:00<00:00, 118.60it/s]\n"
     ]
    },
    {
     "name": "stdout",
     "output_type": "stream",
     "text": [
      "[Open3D DEBUG] Precompute neighbors.\n",
      "[Open3D DEBUG] Done Precompute neighbors.\n",
      "[Open3D DEBUG] Compute Clusters\n",
      "[Open3D DEBUG] Done Compute Clusters: 1\n",
      "point cloud has 1 clusters\n",
      "[0 1 2 3 4]\n",
      "Multiple good clusters/centroids found\n",
      "marker centroid coordinates from design: [[  0.           0.           0.        ]\n",
      " [ -5.3257001    8.86418433   5.04704152]\n",
      " [-13.51012247  20.35648747  13.41037419]\n",
      " [ 11.34994372  29.71443298  11.71348397]\n",
      " [ 16.07976587  10.72837663   0.39595237]]\n",
      "found centroid coordinates: [ 15.31429282 327.55045063  90.38617847]\n",
      "[0.03503577]\n",
      "Everything looks good!\n",
      "the final error is:  0.035035773919779876\n"
     ]
    }
   ],
   "source": [
    "#choose target marker\n",
    "target_marker = 'marker1'\n",
    "\n",
    "#find candidate fiducials within the scanner returning clustered centroids that could be rigid body markers\n",
    "marker, marker_centroid_coordinates, pcd_selected, mesh, coordinate_frame, good_centroid_clusters = find_candidate_centroids(target_marker = target_marker)\n",
    "\n",
    "#display candidate fiducials\n",
    "o3d.visualization.draw_geometries([pcd_selected, mesh])\n",
    "print('marker centroid coordinates from design: {}'.format(marker))\n",
    "print('found centroid coordinates: {}'.format(marker_centroid_coordinates))\n",
    "\n",
    "#find best transform and marker from candidate fiducials\n",
    "final_R, final_t, permuted_centroids, min_error = find_best_transform_from_candidate_marker_clusters(marker, good_centroid_clusters)"
   ]
  },
  {
   "cell_type": "code",
   "execution_count": 5,
   "metadata": {},
   "outputs": [
    {
     "name": "stdout",
     "output_type": "stream",
     "text": [
      "[[ 0.01  0.   -0.05]\n",
      " [ 0.02 -0.    0.02]\n",
      " [ 0.01  0.    0.03]\n",
      " [-0.02  0.    0.02]\n",
      " [-0.02 -0.   -0.02]]\n",
      "0.07834237212894206\n",
      "[Open3D WARNING] GLFW Error: WGL: Failed to make context current: The handle is invalid. \n"
     ]
    }
   ],
   "source": [
    "#display tracked  markers and coordinate frames\n",
    "marker = np.load('./test_data/'+target_marker+'.npy')\n",
    "marker_3d_base, marker_3d_transformed, err = visualize_tracked_marker(marker, final_R, final_t, permuted_centroids)\n",
    "o3d.visualization.draw_geometries(marker_3d_base+marker_3d_transformed)\n",
    "\n",
    "#tracking error from final transform\n",
    "np.set_printoptions(2)\n",
    "print(err)\n",
    "print(np.linalg.norm(err))\n",
    "\n",
    "#visualize everything at once\n",
    "visualization_list = [pcd_selected, mesh]+marker_3d_base+marker_3d_transformed\n",
    "o3d.visualization.draw_geometries(visualization_list)"
   ]
  },
  {
   "cell_type": "code",
   "execution_count": null,
   "metadata": {},
   "outputs": [],
   "source": []
  }
 ],
 "metadata": {
  "kernelspec": {
   "display_name": "Python 3 (ipykernel)",
   "language": "python",
   "name": "python3"
  },
  "language_info": {
   "codemirror_mode": {
    "name": "ipython",
    "version": 3
   },
   "file_extension": ".py",
   "mimetype": "text/x-python",
   "name": "python",
   "nbconvert_exporter": "python",
   "pygments_lexer": "ipython3",
   "version": "3.9.7"
  },
  "vscode": {
   "interpreter": {
    "hash": "0d8f9822538f916fd3882b0229ca50b27681e14c7239e8291fa4436f36316800"
   }
  }
 },
 "nbformat": 4,
 "nbformat_minor": 2
}
