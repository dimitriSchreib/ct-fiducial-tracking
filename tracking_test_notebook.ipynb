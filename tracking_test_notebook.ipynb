{
 "cells": [
  {
   "cell_type": "code",
   "execution_count": 1,
   "metadata": {},
   "outputs": [],
   "source": [
    "#general imports\n",
    "import pickle\n",
    "\n",
    "#mesh processing\n",
    "from skimage import measure\n",
    "from stl import mesh"
   ]
  },
  {
   "cell_type": "code",
   "execution_count": 2,
   "metadata": {},
   "outputs": [],
   "source": [
    "#Test notebook for tracking rigid body  marker consisting of multiple fiducials within a CT scan volume\n",
    "\n",
    "#3D data processing\n",
    "import open3d as o3d\n",
    "import ct_tracking_library # our helper functions\n",
    "import SimpleITK as sitk\n",
    "import numpy as np\n",
    "import matplotlib.pyplot as plt\n",
    "import os\n",
    "#our processing code\n",
    "#from ct_tracking_library.ct_processing_functions import *\n",
    "\n",
    "#used for GUI\n",
    "%matplotlib notebook\n",
    "from ct_tracking_library import gui\n",
    "from ct_tracking_library.ct_tracking_functions import *"
   ]
  },
  {
   "cell_type": "code",
   "execution_count": 3,
   "metadata": {},
   "outputs": [],
   "source": [
    "def display_Dicom(file1,file2):\n",
    "    assert isinstance(file1,str)\n",
    "    assert isinstance(file1,str)\n",
    "    img1 = sitk.ReadImage(file1)\n",
    "    #img2 = sitk.ReadImage(file2)\n",
    "    img2 = sitk.GetImageFromArray(file2)\n",
    "    print_info(img1)\n",
    "    print_info(img2)\n",
    "    # Obtain foreground masks for the two images using Otsu thresholding, we use these later on.\n",
    "    msk1 = sitk.OtsuThreshold(img1,0,1)\n",
    "    msk2 = sitk.OtsuThreshold(img2,0,1)\n",
    "\n",
    "    gui.MultiImageDisplay(image_list = [img1, img2],\n",
    "                          title_list = ['Original', 'Estimated'],\n",
    "                          figure_size=(9,3));"
   ]
  },
  {
   "cell_type": "code",
   "execution_count": 4,
   "metadata": {},
   "outputs": [],
   "source": [
    "def print_info(selected_image):\n",
    "    print('origin: ' + str(selected_image.GetOrigin()))\n",
    "    print('size: ' + str(selected_image.GetSize()))\n",
    "    print('spacing: ' + str(selected_image.GetSpacing()))\n",
    "    print('direction: ' + str(selected_image.GetDirection()))\n",
    "    print('pixel type: ' + str(selected_image.GetPixelIDTypeAsString()))\n",
    "    print('number of pixel components: ' + str(selected_image.GetNumberOfComponentsPerPixel()))"
   ]
  },
  {
   "cell_type": "code",
   "execution_count": null,
   "metadata": {},
   "outputs": [],
   "source": [
    "display_Dicom(\"temp_mesh.mha\",nda)"
   ]
  },
  {
   "cell_type": "code",
   "execution_count": null,
   "metadata": {},
   "outputs": [],
   "source": [
    "#choose target marker\n",
    "target_marker = 'marker2'\n",
    "\n",
    "#convert scan to mesh for finding markers via thresholding\n",
    "# !!! comment the below code to change the way file is loaded !!!\n",
    "#convert_scan_to_mesh(scan_file='./test_data/bb_marker3.pkl')\n",
    "convert_scan_to_mesh_mha(scan_file='./test_data/biopsy 2')\n",
    "#find candidate fiducials within the scanner returning clustered centroids that could be rigid body markers\n",
    "marker, marker_centroid_coordinates, pcd_selected, mesh, coordinate_frame, good_centroid_clusters = find_candidate_centroids(target_marker = target_marker)\n",
    "\n",
    "#display candidate fiducials\n",
    "o3d.visualization.draw_geometries([pcd_selected, mesh])\n",
    "print('marker centroid coordinates from design: {}'.format(marker))\n",
    "print('found centroid coordinates: {}'.format(marker_centroid_coordinates))\n",
    "\n",
    "#find best transform and marker from candidate fiducials\n",
    "final_R, final_t, permuted_centroids, min_error = find_best_transform_from_candidate_marker_clusters(marker, good_centroid_clusters)"
   ]
  },
  {
   "cell_type": "code",
   "execution_count": null,
   "metadata": {},
   "outputs": [],
   "source": [
    "#display tracked  markers and coordinate frames\n",
    "marker = np.load('./test_data/'+target_marker+'.npy')\n",
    "marker_3d_base, marker_3d_transformed, err = visualize_tracked_marker(marker, final_R, final_t, permuted_centroids)\n",
    "o3d.visualization.draw_geometries(marker_3d_base+marker_3d_transformed)\n",
    "\n",
    "#tracking error from final transform\n",
    "np.set_printoptions(2)\n",
    "print(err)\n",
    "print(np.linalg.norm(err))\n",
    "\n",
    "#visualize everything at once\n",
    "visualization_list = [pcd_selected, mesh]+marker_3d_base+marker_3d_transformed\n",
    "o3d.visualization.draw_geometries(visualization_list)"
   ]
  }
 ],
 "metadata": {
  "kernelspec": {
   "display_name": "Python 3 (ipykernel)",
   "language": "python",
   "name": "python3"
  },
  "language_info": {
   "codemirror_mode": {
    "name": "ipython",
    "version": 3
   },
   "file_extension": ".py",
   "mimetype": "text/x-python",
   "name": "python",
   "nbconvert_exporter": "python",
   "pygments_lexer": "ipython3",
   "version": "3.8.13"
  },
  "vscode": {
   "interpreter": {
    "hash": "0d8f9822538f916fd3882b0229ca50b27681e14c7239e8291fa4436f36316800"
   }
  }
 },
 "nbformat": 4,
 "nbformat_minor": 2
}
