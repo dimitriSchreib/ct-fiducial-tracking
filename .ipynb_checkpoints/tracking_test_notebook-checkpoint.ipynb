{
 "cells": [
  {
   "cell_type": "code",
   "execution_count": 1,
   "metadata": {},
   "outputs": [],
   "source": [
    "#Test notebook for tracking rigid body  marker consisting of multiple fiducials within a CT scan volume\n",
    "\n",
    "#3D data processing\n",
    "import open3d as o3d\n",
    "import ct_tracking_library # our helper functions\n",
    "import SimpleITK as sitk\n",
    "import numpy as np\n",
    "import matplotlib.pyplot as plt\n",
    "import os\n",
    "from ipywidgets import interact, fixed\n",
    "\n",
    "#our processing code\n",
    "from ct_tracking_library.ct_motor_functions import *\n",
    "from ct_tracking_library.ct_tracking_functions import *\n",
    "from ct_tracking_library.ct_processing_functions import *\n",
    "from ct_tracking_library.ct_display_functions import *\n",
    "from ct_tracking_library.ct_object_classes import *\n",
    "\n",
    "#used for GUI\n",
    "%matplotlib notebook\n",
    "\n",
    "#find transform\n",
    "import transforms3d as t3d\n",
    "import datetime\n",
    "import time\n",
    "import pickle"
   ]
  },
  {
   "cell_type": "markdown",
   "metadata": {},
   "source": [
    "## Motor Functions"
   ]
  },
  {
   "cell_type": "markdown",
   "metadata": {},
   "source": [
    "### zero on the center, user enter the startng postion in degree"
   ]
  },
  {
   "cell_type": "code",
   "execution_count": null,
   "metadata": {},
   "outputs": [],
   "source": [
    "c = moteus.Controller()"
   ]
  },
  {
   "cell_type": "markdown",
   "metadata": {},
   "source": [
    "## Setup the Motor\n",
    "\n",
    "User input: millimeters (because thats easier to think about than meters)\n",
    "Motor motions: radians, radian/s, etc. (because thats is an SI type unit)\n",
    "Actuator motions: millimeters (because thats an SI type unit)\n",
    "Transforms: radians and millimeters because thats always pretty much they use"
   ]
  },
  {
   "cell_type": "markdown",
   "metadata": {},
   "source": [
    "#### Run the code below to check the motor each Test"
   ]
  },
  {
   "cell_type": "code",
   "execution_count": null,
   "metadata": {
    "scrolled": false
   },
   "outputs": [],
   "source": [
    "n = input('Enter the number of loop')\n",
    "d1,d2 = await stopping_acc_test(c,int(n))"
   ]
  },
  {
   "cell_type": "markdown",
   "metadata": {},
   "source": [
    "## Let's Start the Test"
   ]
  },
  {
   "cell_type": "markdown",
   "metadata": {},
   "source": [
    "### First, home the motor and save the initial position(radian,shows in degree)"
   ]
  },
  {
   "cell_type": "code",
   "execution_count": null,
   "metadata": {},
   "outputs": [],
   "source": [
    "input('Press Enter to Start the Test')\n",
    "ip = await motor_zero(c,stop_torque=.1,v=1)\n",
    "print(\"Initial Starting Radian: \", ip*(2*math.pi))"
   ]
  },
  {
   "cell_type": "markdown",
   "metadata": {},
   "source": [
    "### Run the CT scan for checking the postion error later."
   ]
  },
  {
   "cell_type": "markdown",
   "metadata": {},
   "source": [
    "### Once get the intial starting postion, run the testing function with the desired postion, and then run the CT scanner once motor moved."
   ]
  },
  {
   "cell_type": "code",
   "execution_count": null,
   "metadata": {},
   "outputs": [],
   "source": [
    "data_p_list = []\n",
    "data_degree_list = []\n",
    "data_time_list = []\n",
    "i = 0"
   ]
  },
  {
   "cell_type": "code",
   "execution_count": null,
   "metadata": {},
   "outputs": [],
   "source": [
    "ratio = 0.5040628051757813"
   ]
  },
  {
   "cell_type": "code",
   "execution_count": null,
   "metadata": {},
   "outputs": [],
   "source": [
    "uds = int(input('Enter the desired postion in mm (0-127): '))\n",
    "if i == 0:\n",
    "    data_degree_list.append(uds)\n",
    "    data_degree_list.append(uds)\n",
    "    i += 1\n",
    "else:\n",
    "    data_degree_list.append(uds)"
   ]
  },
  {
   "cell_type": "code",
   "execution_count": null,
   "metadata": {},
   "outputs": [],
   "source": [
    "currcent_p_list = []\n",
    "if uds >= data_degree_list[-2]:\n",
    "    currcent_p_list,p_mm = await one_axis_farward(c,ip,user_desried=uds*ratio)\n",
    "else:\n",
    "    currcent_p_list,p_mm = await one_axis_backward(c,ip,user_desried=uds*ratio)\n",
    "data_p_list.append(currcent_p_list)\n",
    "data_time_list.append(time.time())"
   ]
  },
  {
   "cell_type": "code",
   "execution_count": null,
   "metadata": {},
   "outputs": [],
   "source": [
    "p_mm = p_mm/ratio"
   ]
  },
  {
   "cell_type": "markdown",
   "metadata": {},
   "source": [
    "### stop the motor"
   ]
  },
  {
   "cell_type": "code",
   "execution_count": null,
   "metadata": {},
   "outputs": [],
   "source": [
    "await read_p()"
   ]
  },
  {
   "cell_type": "markdown",
   "metadata": {},
   "source": [
    "### Saving the result"
   ]
  },
  {
   "cell_type": "code",
   "execution_count": null,
   "metadata": {},
   "outputs": [],
   "source": [
    "with open('position.pkl', 'wb') as f:\n",
    "    pickle.dump(data_p_list, f)\n",
    "with open('degree.pkl', 'wb') as f:\n",
    "    pickle.dump(data_degree_list, f)\n",
    "with open('time.pkl', 'wb') as f:\n",
    "    pickle.dump(data_time_list, f)"
   ]
  },
  {
   "cell_type": "markdown",
   "metadata": {},
   "source": [
    "#### python -m moteus_gui.tview --devices=1"
   ]
  },
  {
   "cell_type": "markdown",
   "metadata": {},
   "source": [
    "## Feltch the DICOM file from server"
   ]
  },
  {
   "cell_type": "markdown",
   "metadata": {},
   "source": [
    "### Goto the website:  http://unicorn2.ucsd.edu:8080/dcm4chee-arc/ui2/#/study/patient"
   ]
  },
  {
   "cell_type": "markdown",
   "metadata": {},
   "source": [
    "### Selected Series on the top tabs"
   ]
  },
  {
   "cell_type": "markdown",
   "metadata": {},
   "source": [
    "### On the left hand side input: DIMITRI07041995 as the Patient ID"
   ]
  },
  {
   "cell_type": "markdown",
   "metadata": {},
   "source": [
    "### In the middle section select Newest Frist in the Order by Tab"
   ]
  },
  {
   "cell_type": "markdown",
   "metadata": {},
   "source": [
    "### In the middle section select DCM4CHEE in the Web App Service Tab and CLICK Sumbit"
   ]
  },
  {
   "cell_type": "markdown",
   "metadata": {},
   "source": [
    "### Download the 1st row by clicking the 3 dots symbol and downolad it"
   ]
  },
  {
   "cell_type": "markdown",
   "metadata": {},
   "source": [
    "### Once Downloaded, extract the DICOM files ONLY to the following folder: ./test_data/DICOM"
   ]
  },
  {
   "cell_type": "code",
   "execution_count": 2,
   "metadata": {},
   "outputs": [],
   "source": [
    "data = {}\n",
    "s_num = 0"
   ]
  },
  {
   "cell_type": "markdown",
   "metadata": {},
   "source": [
    "## Processing DICOM file"
   ]
  },
  {
   "cell_type": "code",
   "execution_count": 3,
   "metadata": {},
   "outputs": [],
   "source": [
    "def DICOM_series_dropdown_callback(series_to_load, series_dictionary):\n",
    "    global selected_series\n",
    "               # Print some information about the series from the meta-data dictionary\n",
    "               # DICOM standard part 6, Data Dictionary: http://medical.nema.org/medical/dicom/current/output/pdf/part06.pdf\n",
    "    file_reader.SetFileName(series_dictionary[series_to_load][0])\n",
    "    file_reader.ReadImageInformation()\n",
    "    tags_to_print = {'0010|0010': 'Patient name: ', \n",
    "                     '0008|0060' : 'Modality: ',\n",
    "                     '0008|0021' : 'Series date: ',\n",
    "                     '0008|0080' : 'Institution name: ',\n",
    "                     '0008|1050' : 'Performing physician\\'s name: '}\n",
    "    for tag in tags_to_print:\n",
    "        try:\n",
    "            print(tags_to_print[tag] + file_reader.GetMetaData(tag))\n",
    "        except: # Ignore if the tag isn't in the dictionary\n",
    "            pass\n",
    "    selected_series = series_to_load"
   ]
  },
  {
   "cell_type": "markdown",
   "metadata": {},
   "source": [
    "### Select the desired DICOM file"
   ]
  },
  {
   "cell_type": "code",
   "execution_count": 4,
   "metadata": {},
   "outputs": [],
   "source": [
    "time = datetime.datetime.now()\n",
    "time = time.strftime(\"%y/%m/%d %I:%M%p\")"
   ]
  },
  {
   "cell_type": "code",
   "execution_count": 5,
   "metadata": {},
   "outputs": [
    {
     "data": {
      "application/vnd.jupyter.widget-view+json": {
       "model_id": "8b5f9a7eadf64a51aca2016a276b60b8",
       "version_major": 2,
       "version_minor": 0
      },
      "text/plain": [
       "interactive(children=(Dropdown(description='series_to_load', options=('1.2.840.113619.2.416.131772622000496481…"
      ]
     },
     "metadata": {},
     "output_type": "display_data"
    }
   ],
   "source": [
    "data_directory = \"./test_data/DICOM\"\n",
    "# Global variable 'selected_series' is updated by the interact function\n",
    "selected_series = ''\n",
    "file_reader = sitk.ImageFileReader()         \n",
    "# Directory contains multiple DICOM studies/series, store\n",
    "# in dictionary with key being the series ID\n",
    "series_file_names = {}\n",
    "series_IDs = sitk.ImageSeriesReader_GetGDCMSeriesIDs(data_directory)\n",
    "            # Check that we have at least one series\n",
    "if series_IDs:\n",
    "    for series in series_IDs:\n",
    "        series_file_names[series] = sitk.ImageSeriesReader_GetGDCMSeriesFileNames(data_directory, series)\n",
    "    \n",
    "    interact(DICOM_series_dropdown_callback, series_to_load=list(series_IDs), series_dictionary=fixed(series_file_names)); \n",
    "else:\n",
    "    print('Data directory does not contain any DICOM series.')"
   ]
  },
  {
   "cell_type": "markdown",
   "metadata": {},
   "source": [
    "### Pick target marker postion"
   ]
  },
  {
   "cell_type": "code",
   "execution_count": 6,
   "metadata": {},
   "outputs": [],
   "source": [
    "def func1(target_marker_select):\n",
    "    global target_marker_name\n",
    "    target_marker_name = target_marker_select"
   ]
  },
  {
   "cell_type": "code",
   "execution_count": 7,
   "metadata": {},
   "outputs": [
    {
     "data": {
      "application/vnd.jupyter.widget-view+json": {
       "model_id": "b1653e60560448a68c2306168b15a85b",
       "version_major": 2,
       "version_minor": 0
      },
      "text/plain": [
       "interactive(children=(Dropdown(description='target_marker_select', options=('fixed_marker_crane', 'moving_mark…"
      ]
     },
     "metadata": {},
     "output_type": "display_data"
    }
   ],
   "source": [
    "output = interact(func1, target_marker_select=['fixed_marker_crane', 'moving_marker_crane', 'moving_marker_1_DoF','fixed_marker_1_DoF'])"
   ]
  },
  {
   "cell_type": "code",
   "execution_count": 8,
   "metadata": {},
   "outputs": [],
   "source": [
    "if target_marker_name == 'fixed_marker_crane':\n",
    "    marker = np.load('./test_data/marker1.npy')\n",
    "    R =  t3d.euler.euler2mat(np.pi/4+0.1, 0, -np.pi/6-0.2)@t3d.euler.euler2mat(0,0.6,0)# @ t3d.euler.euler2mat(0, np.pi/8, 0)\n",
    "    marker = (R.T@marker.T).T\n",
    "    crop_z = None\n",
    "    #zero mean the marker since we place the rigid body at the mean here\n",
    "    marker = marker - marker.mean(axis=0) - np.array([2,0,0])\n",
    "if target_marker_name == 'moving_marker_crane':\n",
    "    marker = np.array([[-10,-5,0],[-10,5,0],[0,-5,0],[10,0,0]])\n",
    "    R = np.eye(3)\n",
    "    crop_z = None\n",
    "\n",
    "if target_marker_name == 'moving_marker_1_DoF':\n",
    "    marker = np.array([[-10,-5,0],[-10,5,0],[0,-5,0],[10,0,0]])\n",
    "    R = np.eye(3)\n",
    "    crop_z = None\n",
    "\n",
    "if target_marker_name == 'fixed_marker_1_DoF':\n",
    "    marker = np.array([[0,-14,0],[0,-6,0],[0,16,0],[17,0,0]])\n",
    "    R = np.eye(3)\n",
    "    crop_z = [160,254]"
   ]
  },
  {
   "cell_type": "code",
   "execution_count": 9,
   "metadata": {},
   "outputs": [
    {
     "name": "stdout",
     "output_type": "stream",
     "text": [
      "Our marker: \n",
      " [[ -3.7187774  -13.93269628  -6.11337041]\n",
      " [ -9.04447751  -5.06851195  -1.06632889]\n",
      " [-17.22889987   6.42379118   7.29700378]\n",
      " [  7.63116632  15.7817367    5.60011356]\n",
      " [ 12.36098847  -3.20431965  -5.71741804]]\n"
     ]
    }
   ],
   "source": [
    "print('Our marker: \\n {}'.format(marker))"
   ]
  },
  {
   "cell_type": "markdown",
   "metadata": {},
   "source": [
    "### Convert DICOM files"
   ]
  },
  {
   "cell_type": "code",
   "execution_count": 10,
   "metadata": {},
   "outputs": [
    {
     "name": "stdout",
     "output_type": "stream",
     "text": [
      "spacing:  [0.62500392 0.878906   0.878906  ]\n",
      " origin:  [-149.688 -225.    -225.   ]\n"
     ]
    }
   ],
   "source": [
    "#convert scan to mesh for finding markers via thresholding\n",
    "scan_file = series_file_names[selected_series]\n",
    "convert_scan_to_mha(scan_file, crop_z = crop_z)\n",
    "convert_mha_to_mesh(output_mesh_file = 'temp_mesh.obj')"
   ]
  },
  {
   "cell_type": "markdown",
   "metadata": {},
   "source": [
    "### Disaply DICOM file (Left and Right are the SAME)"
   ]
  },
  {
   "cell_type": "code",
   "execution_count": null,
   "metadata": {},
   "outputs": [],
   "source": [
    "display_Dicom(\"temp_mesh.mha\",\"temp_mesh.mha\")"
   ]
  },
  {
   "cell_type": "markdown",
   "metadata": {},
   "source": [
    "### Once the Imag above looks right, run the following code the find the neede error and transform"
   ]
  },
  {
   "cell_type": "code",
   "execution_count": 11,
   "metadata": {},
   "outputs": [
    {
     "name": "stdout",
     "output_type": "stream",
     "text": [
      "[Open3D INFO] Skipping non-triangle primitive geometry of type: 1\n",
      "[Open3D INFO] Skipping non-triangle primitive geometry of type: 2\n",
      "[Open3D DEBUG] [ClusterConnectedTriangles] Compute triangle adjacency\n",
      "[Open3D DEBUG] [ClusterConnectedTriangles] Done computing triangle adjacency\n",
      "[Open3D DEBUG] [ClusterConnectedTriangles] Done clustering, #clusters=379\n",
      "[Open3D DEBUG] Precompute Neighbours\n",
      "[Open3D DEBUG] Done Precompute Neighbours\n",
      "[Open3D DEBUG] Compute Clusters\n",
      "[Open3D DEBUG] Done Compute Clusters: 26\n"
     ]
    },
    {
     "name": "stderr",
     "output_type": "stream",
     "text": [
      "  0%|                                                                                           | 0/26 [00:00<?, ?it/s]C:\\Users\\derek\\Documents\\GitHub\\ct-fiducial-tracking\\ct_tracking_library\\ct_tracking_functions.py:420: FutureWarning: `rcond` parameter will change to the default of machine precision times ``max(M, N)`` where M and N are the input matrix dimensions.\n",
      "To use the future default and silence this warning we advise to pass `rcond=None`, to keep using the old, explicitly pass `rcond=-1`.\n",
      "  C, residules, rank, singval = np.linalg.lstsq(A,f)\n",
      "100%|█████████████████████████████████████████████████████████████████████████████████| 26/26 [00:00<00:00, 112.73it/s]\n"
     ]
    },
    {
     "name": "stdout",
     "output_type": "stream",
     "text": [
      "[Open3D DEBUG] Precompute Neighbours\n",
      "[Open3D DEBUG] Done Precompute Neighbours\n",
      "[Open3D DEBUG] Compute Clusters\n",
      "[Open3D DEBUG] Done Compute Clusters: 3\n",
      "point cloud has 3 clusters\n",
      "[0 1 4 5 6]\n",
      "[ 2 10 11]\n",
      "[3 7 8 9]\n",
      "marker centroid coordinates from design: [[ -3.7187774  -13.93269628  -6.11337041]\n",
      " [ -9.04447751  -5.06851195  -1.06632889]\n",
      " [-17.22889987   6.42379118   7.29700378]\n",
      " [  7.63116632  15.7817367    5.60011356]\n",
      " [ 12.36098847  -3.20431965  -5.71741804]]\n",
      "found centroid coordinates: [-120.32601684   82.83222744  130.95868863]\n"
     ]
    }
   ],
   "source": [
    "#find candidate fiducials within the scanner returning clustered centroids that could be rigid body markers\n",
    "_, marker_centroid_coordinates, pcd_selected, marker_mesh, _, good_centroid_clusters = find_candidate_centroids(marker = marker, debug=False)\n",
    "\n",
    "print('marker centroid coordinates from design: {}'.format(marker))\n",
    "print('found centroid coordinates: {}'.format(marker_centroid_coordinates))\n",
    "\n",
    "#display candidate fiducials\n",
    "o3d.visualization.draw_geometries([pcd_selected, marker_mesh])"
   ]
  },
  {
   "cell_type": "markdown",
   "metadata": {},
   "source": [
    "## Find marker"
   ]
  },
  {
   "cell_type": "code",
   "execution_count": 12,
   "metadata": {},
   "outputs": [
    {
     "name": "stdout",
     "output_type": "stream",
     "text": [
      "[0.03778374]\n",
      "Everything looks good!\n",
      "the final error is:  0.03778374470047813\n"
     ]
    }
   ],
   "source": [
    "#find best transform and marker from candidate fiducials\n",
    "tracked_R, tracked_t, permuted_centroids, min_error = find_best_transform_from_candidate_marker_clusters(marker, good_centroid_clusters)\n",
    "\n",
    "#get rid of column of ones to make 3xN\n",
    "permuted_centroids = permuted_centroids[:3,:].T\n",
    "\n",
    "#transform marker geometry coordinates using found transform to tracked image coordinates\n",
    "transformed_marker = (tracked_R @ marker.T + tracked_t).T\n",
    "error = permuted_centroids-transformed_marker"
   ]
  },
  {
   "cell_type": "markdown",
   "metadata": {},
   "source": [
    "## Visualize Marker"
   ]
  },
  {
   "cell_type": "code",
   "execution_count": null,
   "metadata": {},
   "outputs": [],
   "source": [
    "#create o3d visualizations\n",
    "marker_3d_tracked = create_marker_visualization(fiducial_coordinates=permuted_centroids, color=[0.8, 0.2, 0.2])\n",
    "marker_3d_base = create_marker_visualization(marker, [0.2, 0.8, 0.2])\n",
    "marker_3d_base.append(create_coordinate_frame_visualization())\n",
    "marker_3d_transformed = create_marker_visualization(marker, [0.2, 0.2, 0.8], tracked_R, tracked_t)\n",
    "marker_3d_transformed.append(create_coordinate_frame_visualization(tracked_R, tracked_t))\n",
    "\n",
    "#display tracked  markers and coordinate frames\n",
    "# o3d.visualization.draw_geometries(marker_3d_tracked)\n",
    "# o3d.visualization.draw_geometries(marker_3d_base)\n",
    "# o3d.visualization.draw_geometries(marker_3d_transformed)\n",
    "\n",
    "#tracking error from final transform\n",
    "np.set_printoptions(2)\n",
    "print(\"Error (mm): {}\".format(error))\n",
    "print(\"Error norm (mm): {}\".format(np.linalg.norm(error)**0.5))\n",
    "\n",
    "#visualize tracked markers on top of mesh used for tracking\n",
    "visualization_list2 = marker_3d_tracked+marker_3d_base+marker_3d_transformed + [marker_mesh]\n",
    "visualization_list1 = copy.deepcopy(visualization_list2)\n",
    "o3d.visualization.draw_geometries(visualization_list2)"
   ]
  },
  {
   "cell_type": "markdown",
   "metadata": {},
   "source": [
    "### Create Marker object"
   ]
  },
  {
   "cell_type": "code",
   "execution_count": 13,
   "metadata": {},
   "outputs": [
    {
     "name": "stderr",
     "output_type": "stream",
     "text": [
      "C:\\Users\\derek\\Documents\\GitHub\\ct-fiducial-tracking\\ct_tracking_library\\ct_object_classes.py:78: VisibleDeprecationWarning: Creating an ndarray from ragged nested sequences (which is a list-or-tuple of lists-or-tuples-or ndarrays with different lengths or shapes) is deprecated. If you meant to do this, you must specify 'dtype=object' when creating the ndarray.\n",
      "  return np.array([[r, t], [np.zeros((1,3)), 1]])\n"
     ]
    }
   ],
   "source": [
    "append_value(data, \"scan\"+str(s_num), Marker(time,target_marker_name,selected_series,marker,t2T(tracked_R, tracked_t),np.linalg.norm(error)**0.5))"
   ]
  },
  {
   "cell_type": "markdown",
   "metadata": {},
   "source": [
    "## Visualize tracked markers and full scan w/ low threshold"
   ]
  },
  {
   "cell_type": "code",
   "execution_count": null,
   "metadata": {},
   "outputs": [],
   "source": [
    "convert_scan_to_mha(scan_file)\n",
    "convert_mha_to_mesh(output_mesh_file = 'temp_full_mesh.obj', threshold_value = -400)\n",
    "temp_full_mesh = o3d.io.read_triangle_mesh('temp_full_mesh.obj').paint_uniform_color([0.0, 0.0, 0.8]).compute_vertex_normals()\n",
    "o3d.visualization.draw_geometries(visualization_list2+visualization_list1+[temp_full_mesh])"
   ]
  },
  {
   "cell_type": "markdown",
   "metadata": {},
   "source": [
    "# Run for the other move/fix marker than run the following code"
   ]
  },
  {
   "cell_type": "code",
   "execution_count": 14,
   "metadata": {},
   "outputs": [],
   "source": [
    "append_value(data, \"scan\"+str(s_num),Robot(time,ratio,p_mm,uds))\n",
    "s_num += 1"
   ]
  },
  {
   "cell_type": "code",
   "execution_count": 15,
   "metadata": {},
   "outputs": [
    {
     "data": {
      "text/plain": [
       "{'scan0': Marker(fixed_marker_crane:22/08/10 01:36PM)}"
      ]
     },
     "execution_count": 15,
     "metadata": {},
     "output_type": "execute_result"
    }
   ],
   "source": [
    "data"
   ]
  },
  {
   "cell_type": "code",
   "execution_count": 16,
   "metadata": {},
   "outputs": [],
   "source": [
    "# save data for later use\n",
    "with open('data.pkl', 'wb') as f:\n",
    "    pickle.dump(data, f)"
   ]
  },
  {
   "cell_type": "markdown",
   "metadata": {},
   "source": [
    "## Load the data back"
   ]
  },
  {
   "cell_type": "code",
   "execution_count": 17,
   "metadata": {},
   "outputs": [
    {
     "name": "stdout",
     "output_type": "stream",
     "text": [
      "Marker(fixed_marker_crane:22/08/10 01:36PM)\n"
     ]
    }
   ],
   "source": [
    "with open('data.pkl', 'rb') as f:\n",
    "    data_load = pickle.load(f)\n",
    "print(data_load['scan0'])"
   ]
  },
  {
   "cell_type": "markdown",
   "metadata": {},
   "source": [
    "## forward kinematics"
   ]
  },
  {
   "cell_type": "code",
   "execution_count": null,
   "metadata": {},
   "outputs": [],
   "source": [
    "from transforms3d.euler import euler2mat, mat2euler"
   ]
  },
  {
   "cell_type": "code",
   "execution_count": null,
   "metadata": {},
   "outputs": [],
   "source": [
    "def find_Tbee(Tsbb,Tsbee):\n",
    "    \"\"\"\n",
    "    Tsbb^-1 * Tsbee\n",
    "    \"\"\"\n",
    "    return False"
   ]
  },
  {
   "cell_type": "code",
   "execution_count": null,
   "metadata": {},
   "outputs": [],
   "source": [
    "def find_all_error(T1,T2):\n",
    "    \"\"\"\n",
    "    output (x,y,z)+RMSE\n",
    "    \"\"\"\n",
    "    assert T1.shape == (2, 2)\n",
    "    assert T2.shape == (2, 2)\n",
    "    deta_T = T1@Hinv(T2)\n",
    "    print(deta_T)\n",
    "    R,p_error = T2t(deta_T)\n",
    "    o_r = t3d.euler.euler2mat(R)\n",
    "    return p_error,o_r"
   ]
  },
  {
   "cell_type": "markdown",
   "metadata": {},
   "source": [
    "### Helper function"
   ]
  },
  {
   "cell_type": "code",
   "execution_count": null,
   "metadata": {},
   "outputs": [],
   "source": [
    "deta_T = Ta@Hinv(Tb)\n",
    "r,d = T2t(Tb)\n",
    "c = -np.linalg.inv(r)@d\n",
    "print(c.shape)\n",
    "#print(deta_T)\n",
    "#print(deta_T[0,1])\n",
    "#print(deta_T[0,1].shape)"
   ]
  },
  {
   "cell_type": "code",
   "execution_count": null,
   "metadata": {},
   "outputs": [],
   "source": [
    "R,p = T2t(deta_T)\n",
    "print(R)\n",
    "print(p)"
   ]
  },
  {
   "cell_type": "markdown",
   "metadata": {},
   "source": [
    "# A)\n",
    "## with the motor not moved, scan it ONCE and find:\n",
    "### T^(sb)_b and T^(sb)_ee\n",
    "### T^(b)_ee = (T^(sb)_b)^-1*T^(sb)_ee"
   ]
  },
  {
   "cell_type": "markdown",
   "metadata": {},
   "source": [
    "# B)\n",
    "## with the motor not moved, scan it AGAIN and find:\n",
    "### 1T^(sb)_b and 1T^(sb)_ee\n",
    "### 1T^(b)_ee = (1T^(sb)_b)^-1*1T^(sb)_ee"
   ]
  },
  {
   "cell_type": "markdown",
   "metadata": {},
   "source": [
    "## Then with A and B"
   ]
  },
  {
   "cell_type": "code",
   "execution_count": null,
   "metadata": {},
   "outputs": [],
   "source": []
  }
 ],
 "metadata": {
  "kernelspec": {
   "display_name": "Python 3 (ipykernel)",
   "language": "python",
   "name": "python3"
  },
  "language_info": {
   "codemirror_mode": {
    "name": "ipython",
    "version": 3
   },
   "file_extension": ".py",
   "mimetype": "text/x-python",
   "name": "python",
   "nbconvert_exporter": "python",
   "pygments_lexer": "ipython3",
   "version": "3.8.13"
  },
  "vscode": {
   "interpreter": {
    "hash": "0d8f9822538f916fd3882b0229ca50b27681e14c7239e8291fa4436f36316800"
   }
  }
 },
 "nbformat": 4,
 "nbformat_minor": 2
}
