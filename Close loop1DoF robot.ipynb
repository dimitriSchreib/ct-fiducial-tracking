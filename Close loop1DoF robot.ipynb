{
 "cells": [
  {
   "cell_type": "code",
   "execution_count": 3,
   "metadata": {},
   "outputs": [],
   "source": [
    "#Test notebook for tracking rigid body  marker consisting of multiple fiducials within a CT scan volume\n",
    "\n",
    "#3D data processing\n",
    "import open3d as o3d\n",
    "import ct_tracking_library # our helper functions\n",
    "import SimpleITK as sitk\n",
    "import numpy as np\n",
    "import matplotlib.pyplot as plt\n",
    "import os\n",
    "from ipywidgets import interact, fixed\n",
    "\n",
    "#our processing code\n",
    "from ct_tracking_library.ct_motor_functions import *\n",
    "from ct_tracking_library.ct_tracking_functions import *\n",
    "from ct_tracking_library.ct_processing_functions import *\n",
    "from ct_tracking_library.ct_display_functions import *\n",
    "from ct_tracking_library.ct_object_classes import *\n",
    "from ct_tracking_library.ct_fk_functions import *\n",
    "\n",
    "#used for GUI\n",
    "%matplotlib notebook\n",
    "\n",
    "#find transform\n",
    "import datetime\n",
    "import time\n",
    "import pickle\n",
    "from spatialmath import *\n",
    "from roboticstoolbox import ET as E\n",
    "import transforms3d as t3d"
   ]
  },
  {
   "cell_type": "code",
   "execution_count": null,
   "metadata": {},
   "outputs": [],
   "source": [
    "#SETUP\n",
    "#home the robot and find zero position in mm\n",
    "#SETUP DATA DIRECTORIES FOR THE TEST DAY"
   ]
  },
  {
   "cell_type": "code",
   "execution_count": null,
   "metadata": {},
   "outputs": [],
   "source": [
    "#MULTIPLE SCANS STEPS TO RUN BELOW:\n",
    "#1. run robot to user specified position (mm) and store actual posiiton (mm) robot object for each scans"
   ]
  },
  {
   "cell_type": "code",
   "execution_count": 4,
   "metadata": {},
   "outputs": [],
   "source": [
    "async def run_motor(c,ip,d1=None,d2=None,old_uds=None):\n",
    "    \"\"\"\n",
    "    This function let user inputs a postion in mm and save the motor joint postion in the input list:\n",
    "\n",
    "    Args:\n",
    "        c: the moteus motor object.\n",
    "        ip(float): intial rev postion value for the motor.\n",
    "\n",
    "    Returns:\n",
    "        robot: robot object that stores postion in mm\n",
    "\n",
    "    \"\"\"\n",
    "    ratio = 0.5040628051757813 #converting mm to rev\n",
    "    uds = int(input('Enter the desired postion in mm (0-127): '))\n",
    "    if old_uds is not None:\n",
    "        if uds >= old_uds:\n",
    "            currcent_p_list,p_mm = await one_axis_farward(c,ip,user_desried=uds*ratio)\n",
    "        else:\n",
    "            currcent_p_list,p_mm = await one_axis_backward(c,ip,user_desried=uds*ratio)\n",
    "    else:\n",
    "        currcent_p_list,p_mm = await one_axis_farward(c,ip,user_desried=uds*ratio)\n",
    "    p_mm = p_mm/ratio\n",
    "    return Robot(m=ratio,joint_postion=p_mm,set_point=uds,d1=d1,d2=d2,zero=ip)"
   ]
  },
  {
   "cell_type": "code",
   "execution_count": 5,
   "metadata": {},
   "outputs": [],
   "source": [
    "def DICOM_series_dropdown_callback(series_to_load, series_dictionary):\n",
    "    \"\"\"\n",
    "    This function is a helper function that helps the drop dwon list for DICOM file in folder:\n",
    "\n",
    "    Args:\n",
    "        series_to_load(list): list of the DICOM serial number in the folder.\n",
    "        series_dictionary(dict): dict that holds the dicm files.\n",
    "\n",
    "    \"\"\"\n",
    "    global selected_series\n",
    "               # Print some information about the series from the meta-data dictionary\n",
    "               # DICOM standard part 6, Data Dictionary: http://medical.nema.org/medical/dicom/current/output/pdf/part06.pdf\n",
    "    file_reader.SetFileName(series_dictionary[series_to_load][0])\n",
    "    file_reader.ReadImageInformation()\n",
    "    tags_to_print = {'0010|0010': 'Patient name: ', \n",
    "                     '0008|0060' : 'Modality: ',\n",
    "                     '0008|0021' : 'Series date: ',\n",
    "                     '0008|0080' : 'Institution name: ',\n",
    "                     '0008|1050' : 'Performing physician\\'s name: '}\n",
    "    for tag in tags_to_print:\n",
    "        try:\n",
    "            print(tags_to_print[tag] + file_reader.GetMetaData(tag))\n",
    "        except: # Ignore if the tag isn't in the dictionary\n",
    "            pass\n",
    "    selected_series = series_to_load"
   ]
  },
  {
   "cell_type": "code",
   "execution_count": 6,
   "metadata": {},
   "outputs": [],
   "source": [
    "def get_marker(selected_series,time,v = False, debug = False):\n",
    "    \"\"\"\n",
    "    This function finds the marker from the user sleceted dicom file:\n",
    "\n",
    "    Args:\n",
    "        selected_series(string): the serial key for the slected DICOM.\n",
    "        time(Time): time intial when the function is called.\n",
    "        v(bool): to show visualization for the marker\n",
    "        debug(bool): wheather or not the user want to see debug info.\n",
    "\n",
    "    Returns:\n",
    "        M_list[0](Marker): the moveing marker object finded\n",
    "        M_list[1](Marker): the fixed marker object finded\n",
    "        v_mesh(Open3d mesh): the mesh used for finding the marker in form of open3d\n",
    "\n",
    "    \"\"\"\n",
    "    M_list = []\n",
    "    for S in range(2):\n",
    "        # pick marker\n",
    "        if S == 0:\n",
    "            target_marker_name = 'moving_marker_1_DoF'\n",
    "            marker = np.array([[-10,-5,0],[-10,5,0],[0,-5,0],[10,0,0]])\n",
    "            R = np.eye(3)\n",
    "            crop_z = None\n",
    "        else:\n",
    "            target_marker_name = 'fixed_marker_1_DoF'\n",
    "            marker = np.array([[0,-14,0],[0,-6,0],[0,16,0],[17,0,0]])\n",
    "            R = np.eye(3)\n",
    "            crop_z = [160,254]\n",
    "\n",
    "        #convert scan to mesh for finding markers via thresholding\n",
    "        scan_file = series_file_names[selected_series]\n",
    "        convert_scan_to_mha(scan_file, crop_z = crop_z)\n",
    "        convert_mha_to_mesh(output_mesh_file = 'temp_mesh.obj')\n",
    "\n",
    "        #find candidate fiducials within the scanner returning clustered centroids that could be rigid body markers\n",
    "        _, marker_centroid_coordinates, pcd_selected, marker_mesh, _, good_centroid_clusters = find_candidate_centroids(marker = marker, debug=debug)\n",
    "        if debug:\n",
    "            print('marker centroid coordinates from design: {}'.format(marker))\n",
    "            print('found centroid coordinates: {}'.format(marker_centroid_coordinates))\n",
    "\n",
    "        #display candidate fiducials\n",
    "        if v:\n",
    "            o3d.visualization.draw_geometries([pcd_selected, marker_mesh])\n",
    "\n",
    "        #find best transform and marker from candidate fiducials\n",
    "        tracked_R, tracked_t, permuted_centroids, min_error = find_best_transform_from_candidate_marker_clusters(marker, good_centroid_clusters)\n",
    "\n",
    "        #get rid of column of ones to make 3xN\n",
    "        permuted_centroids = permuted_centroids[:3,:].T\n",
    "\n",
    "        #transform marker geometry coordinates using found transform to tracked image coordinates\n",
    "        transformed_marker = (tracked_R @ marker.T + tracked_t).T\n",
    "        error = permuted_centroids-transformed_marker\n",
    "        \n",
    "        #tracking error from final transform\n",
    "        np.set_printoptions(2)\n",
    "        print(\"Error (mm): {}\".format(error))\n",
    "        print(\"Error norm (mm): {}\".format(np.linalg.norm(error)**0.5))\n",
    "        if v:\n",
    "            #create o3d visualizations\n",
    "            marker_3d_tracked = create_marker_visualization(fiducial_coordinates=permuted_centroids, color=[0.8, 0.2, 0.2])\n",
    "            marker_3d_base = create_marker_visualization(marker, [0.2, 0.8, 0.2])\n",
    "            marker_3d_base.append(create_coordinate_frame_visualization())\n",
    "            marker_3d_transformed = create_marker_visualization(marker, [0.2, 0.2, 0.8], tracked_R, tracked_t)\n",
    "            marker_3d_transformed.append(create_coordinate_frame_visualization(tracked_R, tracked_t))\n",
    "            #visualize tracked markers on top of mesh used for tracking\n",
    "            visualization_list2 = marker_3d_tracked+marker_3d_base+marker_3d_transformed + [marker_mesh]\n",
    "            visualization_list1 = copy.deepcopy(visualization_list2)\n",
    "            o3d.visualization.draw_geometries(visualization_list2)\n",
    "        if S == 0:\n",
    "            v_mesh= marker_mesh\n",
    "        #append marker\n",
    "        M_list.append(Marker(name=target_marker_name,d_key=selected_series,time =time,geometry=marker,T=t2T(tracked_R, tracked_t/1000),error=np.linalg.norm(error)**0.5))\n",
    "        \n",
    "    return M_list[0],M_list[1],v_mesh"
   ]
  },
  {
   "cell_type": "markdown",
   "metadata": {},
   "source": [
    "## Setup the Motor\n",
    "\n",
    "User input: millimeters (because thats easier to think about than meters)\n",
    "Motor motions: radians, radian/s, etc. (because thats is an SI type unit)\n",
    "Actuator motions: millimeters (because thats an SI type unit)\n",
    "Transforms: radians and millimeters because thats always pretty much they use"
   ]
  },
  {
   "cell_type": "code",
   "execution_count": null,
   "metadata": {},
   "outputs": [],
   "source": [
    "c = moteus.Controller() # created moteus motor object"
   ]
  },
  {
   "cell_type": "markdown",
   "metadata": {},
   "source": [
    "# Robot self-test\n",
    "#### Run the code below to check the motor and zeroing method are fully functional"
   ]
  },
  {
   "cell_type": "code",
   "execution_count": null,
   "metadata": {
    "scrolled": false
   },
   "outputs": [],
   "source": [
    "n = input('Enter the number of loop')\n",
    "d1,d2 = await stopping_acc_test(c,int(n))"
   ]
  },
  {
   "cell_type": "markdown",
   "metadata": {},
   "source": [
    "## Start the CT Tracking Test"
   ]
  },
  {
   "cell_type": "code",
   "execution_count": 7,
   "metadata": {},
   "outputs": [],
   "source": [
    "#SETUP DATA DIRECTORIES FOR THE TEST DAY\n",
    "data = {}\n",
    "s_num = 0"
   ]
  },
  {
   "cell_type": "markdown",
   "metadata": {},
   "source": [
    "### Home the robot and find zero position in mm"
   ]
  },
  {
   "cell_type": "code",
   "execution_count": null,
   "metadata": {},
   "outputs": [],
   "source": [
    "ip = await motor_zero(c,stop_torque=.1,v=1)\n",
    "# python -m moteus_gui.tview --devices=1\n",
    "# await read_p()"
   ]
  },
  {
   "cell_type": "markdown",
   "metadata": {},
   "source": [
    "### Once get the intial starting postion(ip), run the function with the desired postion, and then run the CT scanner once motor moved.\n",
    "\n",
    "## Run the code if this the first time runing"
   ]
  },
  {
   "cell_type": "code",
   "execution_count": null,
   "metadata": {},
   "outputs": [],
   "source": [
    "robot,old_postion = await run_motor(c,ip,d1,d2)"
   ]
  },
  {
   "cell_type": "markdown",
   "metadata": {},
   "source": [
    "### for the rest of loop, run the following code"
   ]
  },
  {
   "cell_type": "code",
   "execution_count": null,
   "metadata": {},
   "outputs": [],
   "source": [
    "robot,old_postion = await run_motor(c,ip,d1,d2,old_postion)"
   ]
  },
  {
   "cell_type": "markdown",
   "metadata": {},
   "source": [
    "## Feltch the DICOM file from server\n",
    "### Goto the website:  http://unicorn2.ucsd.edu:8080/dcm4chee-arc/ui2/#/study/patient\n",
    "### Selected Series on the top tabs\n",
    "### On the left hand side input: DIMITRI07041995 as the Patient ID\n",
    "### In the middle section select Newest Frist in the Order by Tab\n",
    "### In the middle section select DCM4CHEE in the Web App Service Tab and CLICK Sumbit\n",
    "### Download the 1st row by clicking the 3 dots symbol and downolad it\n",
    "### Once Downloaded, extract the DICOM files ONLY to the following folder: ./test_data/DICOM"
   ]
  },
  {
   "cell_type": "code",
   "execution_count": 8,
   "metadata": {},
   "outputs": [
    {
     "data": {
      "application/vnd.jupyter.widget-view+json": {
       "model_id": "509a6e62e4904d0cb0fe61caea1d27cc",
       "version_major": 2,
       "version_minor": 0
      },
      "text/plain": [
       "interactive(children=(Dropdown(description='series_to_load', options=('1.2.840.113619.2.416.148220411494716321…"
      ]
     },
     "metadata": {},
     "output_type": "display_data"
    }
   ],
   "source": [
    "#2. download CT scan from server and load into python by selecting from drop down menu\n",
    "# question: can the menu sort by time to display the newest scan first?\n",
    "\n",
    "\n",
    "data_directory = \"./test_data/DICOM\"\n",
    "# Global variable 'selected_series' is updated by the interact function\n",
    "selected_series = ''\n",
    "file_reader = sitk.ImageFileReader()    \n",
    "# Directory contains multiple DICOM studies/series, store\n",
    "# in dictionary with key being the series ID\n",
    "series_file_names = {}\n",
    "series_IDs = sitk.ImageSeriesReader_GetGDCMSeriesIDs(data_directory)\n",
    "            # Check that we have at least one series\n",
    "if series_IDs:\n",
    "    for series in series_IDs:\n",
    "        series_file_names[series] = sitk.ImageSeriesReader_GetGDCMSeriesFileNames(data_directory, series)\n",
    "    \n",
    "    interact(DICOM_series_dropdown_callback, series_to_load=list(series_IDs), series_dictionary=fixed(series_file_names)); \n",
    "else:\n",
    "    print('Data directory does not contain any DICOM series.')"
   ]
  },
  {
   "cell_type": "code",
   "execution_count": 10,
   "metadata": {},
   "outputs": [
    {
     "name": "stdout",
     "output_type": "stream",
     "text": [
      "spacing:  [0.63 0.7  0.7 ]\n",
      " origin:  [-149.69 -180.   -180.  ]\n",
      "[Open3D INFO] Skipping non-triangle primitive geometry of type: 1\n",
      "[Open3D INFO] Skipping non-triangle primitive geometry of type: 2\n",
      "[Open3D DEBUG] [ClusterConnectedTriangles] Compute triangle adjacency\n",
      "[Open3D DEBUG] [ClusterConnectedTriangles] Done computing triangle adjacency\n",
      "[Open3D DEBUG] [ClusterConnectedTriangles] Done clustering, #clusters=34\n",
      "[Open3D DEBUG] Precompute Neighbours\n",
      "[Open3D DEBUG] Done Precompute Neighbours\n",
      "[Open3D DEBUG] Compute Clusters\n",
      "[Open3D DEBUG] Done Compute Clusters: 8\n"
     ]
    },
    {
     "name": "stderr",
     "output_type": "stream",
     "text": [
      "100%|███████████████████████████████████████████████████████████████████████████████████| 8/8 [00:00<00:00, 109.95it/s]"
     ]
    },
    {
     "name": "stdout",
     "output_type": "stream",
     "text": [
      "[Open3D DEBUG] Precompute Neighbours\n",
      "[Open3D DEBUG] Done Precompute Neighbours\n",
      "[Open3D DEBUG] Compute Clusters\n",
      "[Open3D DEBUG] Done Compute Clusters: 2\n",
      "point cloud has 2 clusters\n",
      "[0 1 6 7]\n",
      "[2 3 4 5]\n",
      "[0.05 5.91]\n",
      "Everything looks good!\n",
      "the final error is:  0.04597412046734961\n",
      "Error (mm): [[ 0.03 -0.01  0.01]\n",
      " [-0.05 -0.02 -0.  ]\n",
      " [ 0.04 -0.01 -0.01]\n",
      " [-0.02  0.04  0.01]]\n",
      "Error norm (mm): 0.3032296834656845\n"
     ]
    },
    {
     "name": "stderr",
     "output_type": "stream",
     "text": [
      "\n"
     ]
    },
    {
     "name": "stdout",
     "output_type": "stream",
     "text": [
      "spacing:  [0.63 0.7  0.7 ]\n",
      " origin:  [ -49.69 -180.   -180.  ]\n",
      "[Open3D INFO] Skipping non-triangle primitive geometry of type: 1\n",
      "[Open3D INFO] Skipping non-triangle primitive geometry of type: 2\n",
      "[Open3D DEBUG] [ClusterConnectedTriangles] Compute triangle adjacency\n",
      "[Open3D DEBUG] [ClusterConnectedTriangles] Done computing triangle adjacency\n",
      "[Open3D DEBUG] [ClusterConnectedTriangles] Done clustering, #clusters=33\n",
      "[Open3D DEBUG] Precompute Neighbours\n",
      "[Open3D DEBUG] Done Precompute Neighbours\n",
      "[Open3D DEBUG] Compute Clusters\n",
      "[Open3D DEBUG] Done Compute Clusters: 7\n"
     ]
    },
    {
     "name": "stderr",
     "output_type": "stream",
     "text": [
      "100%|████████████████████████████████████████████████████████████████████████████████████| 7/7 [00:00<00:00, 97.59it/s]"
     ]
    },
    {
     "name": "stdout",
     "output_type": "stream",
     "text": [
      "[Open3D DEBUG] Precompute Neighbours\n",
      "[Open3D DEBUG] Done Precompute Neighbours\n",
      "[Open3D DEBUG] Compute Clusters\n",
      "[Open3D DEBUG] Done Compute Clusters: 2\n",
      "point cloud has 2 clusters\n",
      "[0 5 6]\n",
      "[1 2 3 4]\n",
      "[0.15]\n",
      "Everything looks good!\n",
      "the final error is:  0.15252497903498627\n",
      "Error (mm): [[-0.09 -0.14  0.02]\n",
      " [ 0.13 -0.04 -0.03]\n",
      " [-0.04  0.2  -0.01]\n",
      " [ 0.   -0.01  0.03]]\n",
      "Error norm (mm): 0.5523132789187424\n"
     ]
    },
    {
     "name": "stderr",
     "output_type": "stream",
     "text": [
      "\n"
     ]
    }
   ],
   "source": [
    "#3. process selected CT scan into two marker objects and print reprojection tracking error and warning if high\n",
    "time = datetime.datetime.now()\n",
    "time = time.strftime(\"%m/%d/%y %I:%M%p\")\n",
    "marker1,marker2,mesh = get_marker(selected_series,time)"
   ]
  },
  {
   "cell_type": "code",
   "execution_count": 11,
   "metadata": {},
   "outputs": [],
   "source": [
    "### DELETE after this test ###\n",
    "with open('data2.pkl', 'rb') as f:\n",
    "    data_load = pickle.load(f)\n",
    "data_load['scan0'][2].zero_postion = data_load['scan0'][2].joint_postion\n",
    "data_load['scan1'][2].zero_postion = data_load['scan0'][2].zero_postion"
   ]
  },
  {
   "cell_type": "code",
   "execution_count": 12,
   "metadata": {},
   "outputs": [
    {
     "name": "stdout",
     "output_type": "stream",
     "text": [
      "Postion Error norm(mm):  0.0005589428246891441\n",
      "Rotional Error norm(Euler Angle):  [ 3.85  1.55 -2.32]\n"
     ]
    }
   ],
   "source": [
    "#5. calculate forward kinematics of joint position and error between and FK and tracking\n",
    "fk,r_error,p_error = find_fk(marker1,marker2,data_load['scan1'][2])\n",
    "#fk,r_error,p_error = find_fk(marker1,marker2,robot)\n",
    "#6. display forward kinematics transforms + tracked marker transforms in open3D AND print errors with warnings\n",
    "display_fk(fk,marker1,mesh)"
   ]
  },
  {
   "cell_type": "code",
   "execution_count": null,
   "metadata": {},
   "outputs": [],
   "source": [
    "#7. save everything to data directory w/ timestamp for this loop IF good for this loop to dictionary\n",
    "append_value(data, \"scan\"+str(s_num), marker1)\n",
    "append_value(data, \"scan\"+str(s_num), marker2)\n",
    "append_value(data, \"scan\"+str(s_num), Robot(time,robot.m,robot.joint_postion,robot.set_point, robot.STD_f,robot.STD_b))\n",
    "#8. save to temporary pickle file for this test every loop incase the software crashes\n",
    "d_name = 'temp_data'+str(s_num)+'.pkl'\n",
    "with open(d_name, 'wb') as f:\n",
    "    pickle.dump(data, f)\n",
    "s_num += 1"
   ]
  },
  {
   "cell_type": "code",
   "execution_count": null,
   "metadata": {},
   "outputs": [],
   "source": [
    "#8. save to pickle file for final test data\n",
    "with open('data.pkl', 'wb') as f:\n",
    "    pickle.dump(data, f)\n",
    "#await read_p()"
   ]
  }
 ],
 "metadata": {
  "kernelspec": {
   "display_name": "Python 3 (ipykernel)",
   "language": "python",
   "name": "python3"
  },
  "language_info": {
   "codemirror_mode": {
    "name": "ipython",
    "version": 3
   },
   "file_extension": ".py",
   "mimetype": "text/x-python",
   "name": "python",
   "nbconvert_exporter": "python",
   "pygments_lexer": "ipython3",
   "version": "3.8.13"
  },
  "vscode": {
   "interpreter": {
    "hash": "0d8f9822538f916fd3882b0229ca50b27681e14c7239e8291fa4436f36316800"
   }
  }
 },
 "nbformat": 4,
 "nbformat_minor": 2
}
