{
 "cells": [
  {
   "cell_type": "code",
   "execution_count": 1,
   "metadata": {},
   "outputs": [],
   "source": [
    "#Test notebook for tracking rigid body  marker consisting of multiple fiducials within a CT scan volume\n",
    "\n",
    "#3D data processing\n",
    "import open3d as o3d\n",
    "import ct_tracking_library # our helper functions\n",
    "import SimpleITK as sitk\n",
    "import numpy as np\n",
    "import matplotlib.pyplot as plt\n",
    "import os\n",
    "from ipywidgets import interact, fixed\n",
    "\n",
    "#our processing code\n",
    "from ct_tracking_library.ct_motor_functions import *\n",
    "from ct_tracking_library.ct_tracking_functions import *\n",
    "from ct_tracking_library.ct_processing_functions import *\n",
    "from ct_tracking_library.ct_display_functions import *\n",
    "from ct_tracking_library.ct_object_classes import *\n",
    "from ct_tracking_library.ct_fk_functions import *\n",
    "\n",
    "#used for GUI\n",
    "%matplotlib notebook\n",
    "\n",
    "#find transform\n",
    "import datetime\n",
    "import time\n",
    "import pickle\n",
    "from spatialmath import *\n",
    "from roboticstoolbox import ET as E\n",
    "import transforms3d as t3d\n",
    "import itertools"
   ]
  },
  {
   "cell_type": "code",
   "execution_count": 2,
   "metadata": {},
   "outputs": [],
   "source": [
    "def DICOM_series_dropdown_callback(series_to_load, series_dictionary):\n",
    "    \"\"\"\n",
    "    This function is a helper function that helps the drop dwon list for DICOM file in folder:\n",
    "\n",
    "    Args:\n",
    "        series_to_load(list): list of the DICOM serial number in the folder.\n",
    "        series_dictionary(dict): dict that holds the dicm files.\n",
    "\n",
    "    \"\"\"\n",
    "    global selected_series\n",
    "               # Print some information about the series from the meta-data dictionary\n",
    "               # DICOM standard part 6, Data Dictionary: http://medical.nema.org/medical/dicom/current/output/pdf/part06.pdf\n",
    "    file_reader.SetFileName(series_dictionary[series_to_load][0])\n",
    "    file_reader.ReadImageInformation()\n",
    "    tags_to_print = {'0010|0010': 'Patient name: ', \n",
    "                     '0008|0060' : 'Modality: ',\n",
    "                     '0008|0021' : 'Series date: ',\n",
    "                     '0008|0080' : 'Institution name: ',\n",
    "                     '0008|1050' : 'Performing physician\\'s name: '}\n",
    "    for tag in tags_to_print:\n",
    "        try:\n",
    "            print(tags_to_print[tag] + file_reader.GetMetaData(tag))\n",
    "        except: # Ignore if the tag isn't in the dictionary\n",
    "            pass\n",
    "    selected_series = series_to_load"
   ]
  },
  {
   "cell_type": "code",
   "execution_count": 3,
   "metadata": {},
   "outputs": [],
   "source": [
    "def get_marker(selected_series,time,v = False, debug = False):\n",
    "    \"\"\"\n",
    "    This function finds the marker from the user sleceted dicom file:\n",
    "\n",
    "    Args:\n",
    "        selected_series(string): the serial key for the slected DICOM.\n",
    "        time(Time): time intial when the function is called.\n",
    "        v(bool): to show visualization for the marker\n",
    "        debug(bool): wheather or not the user want to see debug info.\n",
    "\n",
    "    Returns:\n",
    "        M_list[0](Marker): the moveing marker object finded\n",
    "        M_list[1](Marker): the fixed marker object finded\n",
    "        v_mesh(Open3d mesh): the mesh used for finding the marker in form of open3d\n",
    "\n",
    "    \"\"\"\n",
    "    M_list = []\n",
    "    data_directory = \"./test_data/DICOM\"\n",
    "    file_reader = sitk.ImageFileReader()\n",
    "    series_file_names = {}\n",
    "    series_IDs = list(sitk.ImageSeriesReader_GetGDCMSeriesIDs(data_directory))\n",
    "    if series_IDs:\n",
    "        for series in series_IDs:\n",
    "            series_file_names[series] = sitk.ImageSeriesReader_GetGDCMSeriesFileNames(data_directory, series)\n",
    "    for S in range(2):\n",
    "        # pick marker\n",
    "        if S == 0:\n",
    "            target_marker_name = 'moving_marker_1_DoF'\n",
    "            marker = np.array([[-10,-5,0],[-10,5,0],[0,-5,0],[10,0,0]])\n",
    "            R = np.eye(3)\n",
    "            crop_z = None\n",
    "        else:\n",
    "            target_marker_name = 'fixed_marker_1_DoF'\n",
    "            marker = np.array([[0,-14,0],[0,-6,0],[0,16,0],[17,0,0]])\n",
    "            R = np.eye(3)\n",
    "            crop_z = None\n",
    "\n",
    "        #convert scan to mesh for finding markers via thresholding\n",
    "        scan_file = series_file_names[selected_series]\n",
    "        convert_scan_to_mha(scan_file, crop_z = crop_z)\n",
    "        convert_mha_to_mesh(output_mesh_file = 'temp_mesh.obj')\n",
    "\n",
    "        #find candidate fiducials within the scanner returning clustered centroids that could be rigid body markers\n",
    "        _, marker_centroid_coordinates, pcd_selected, marker_mesh, _, good_centroid_clusters = find_candidate_centroids(marker = marker, debug=debug)\n",
    "        if debug:\n",
    "            print('marker centroid coordinates from design: {}'.format(marker))\n",
    "            print('found centroid coordinates: {}'.format(marker_centroid_coordinates))\n",
    "\n",
    "        #display candidate fiducials\n",
    "        if v:\n",
    "            o3d.visualization.draw_geometries([pcd_selected, marker_mesh])\n",
    "\n",
    "        #find best transform and marker from candidate fiducials\n",
    "        tracked_R, tracked_t, permuted_centroids, min_error = find_best_transform_from_candidate_marker_clusters(marker, good_centroid_clusters)\n",
    "\n",
    "        #get rid of column of ones to make 3xN\n",
    "        permuted_centroids = permuted_centroids[:3,:].T\n",
    "\n",
    "        #transform marker geometry coordinates using found transform to tracked image coordinates\n",
    "        transformed_marker = (tracked_R @ marker.T + tracked_t).T\n",
    "        error = permuted_centroids-transformed_marker\n",
    "        \n",
    "        #tracking error from final transform\n",
    "        np.set_printoptions(2)\n",
    "        print(\"Error (mm): {}\".format(error))\n",
    "        print(\"Error norm (mm): {}\".format(np.linalg.norm(error)))\n",
    "        if v:\n",
    "            #create o3d visualizations\n",
    "            marker_3d_tracked = create_marker_visualization(fiducial_coordinates=permuted_centroids, color=[0.8, 0.2, 0.2])\n",
    "            marker_3d_base = create_marker_visualization(marker, [0.2, 0.8, 0.2])\n",
    "            marker_3d_base.append(create_coordinate_frame_visualization())\n",
    "            marker_3d_transformed = create_marker_visualization(marker, [0.2, 0.2, 0.8], tracked_R, tracked_t)\n",
    "            marker_3d_transformed.append(create_coordinate_frame_visualization(tracked_R, tracked_t))\n",
    "            #visualize tracked markers on top of mesh used for tracking\n",
    "            visualization_list2 = marker_3d_tracked+marker_3d_base+marker_3d_transformed + [marker_mesh]\n",
    "            visualization_list1 = copy.deepcopy(visualization_list2)\n",
    "            o3d.visualization.draw_geometries(visualization_list2)\n",
    "        if S == 0:\n",
    "            v_mesh= marker_mesh\n",
    "        #append marker\n",
    "        print(\"T find: \",tracked_t)\n",
    "        M_list.append(Marker(name=target_marker_name,d_key=selected_series,time =time,geometry=marker,T=t2T(tracked_R, tracked_t),error=np.linalg.norm(error, axis=1)))\n",
    "        \n",
    "    return M_list[0],M_list[1],v_mesh"
   ]
  },
  {
   "cell_type": "code",
   "execution_count": 4,
   "metadata": {},
   "outputs": [],
   "source": [
    "def calc_DLS_controller_step(J, e, alpha = 1.0, lambd = 0.01):\n",
    "    '''\n",
    "    calculates new position step using dls jacobian\n",
    "    inputs: \n",
    "            J: [6xN] numpy array where N is the number of robot joints being controlled\n",
    "            e: [6x1] numpy array for position and orientation errors stacked\n",
    "            alpha: gain constant for position step\n",
    "            lambd: damping constant for inverse\n",
    "    return: \n",
    "        joint position setpoint delta\n",
    "    '''\n",
    "    J_inv = np.linalg.inv(J.T@J + lambd * np.eye(J.shape[1])) @ J.T\n",
    "    return alpha * J_inv @ e"
   ]
  },
  {
   "cell_type": "code",
   "execution_count": 5,
   "metadata": {},
   "outputs": [],
   "source": [
    "def close_loop(m1,m2,fk,r_error=None,p_error=None,Dof=True):\n",
    "    assert (type(fk) == SE3)\n",
    "    assert (type(m1) == Marker)\n",
    "    assert (type(m2) == Marker)\n",
    "    if Dof:\n",
    "        Tfk = SE3(m2.T).inv()*fk\n",
    "        T2 = copy.deepcopy(Tfk)\n",
    "        q_current = q_current = (SE3(m2.T).inv()*SE3(m1.T)).t[2]\n",
    "        J = np.array([[0,0,1,0,0,0]]).T\n",
    "        e = np.hstack((p_error.T[0],r_error))\n",
    "        delta_q = calc_DLS_controller_step(J, e)\n",
    "        print('Joint step calculated: {}'.format(delta_q))\n",
    "        q_new = q_current + delta_q\n",
    "        T2.t = [Tfk.t[0],Tfk.t[1],q_new]\n",
    "    else:\n",
    "        \"Crane bot\"\n",
    "    return T2"
   ]
  },
  {
   "cell_type": "markdown",
   "metadata": {},
   "source": [
    "## Feltch the DICOM file from server\n",
    "### Goto the website:  http://unicorn2.ucsd.edu:8080/dcm4chee-arc/ui2/#/study/patient\n",
    "### Selected Series on the top tabs\n",
    "### On the left hand side input: DIMITRI07041995 as the Patient ID\n",
    "### In the middle section select Newest Frist in the Order by Tab\n",
    "### In the middle section select DCM4CHEE in the Web App Service Tab and CLICK Sumbit\n",
    "### Download the 1st row by clicking the 3 dots symbol and downolad it\n",
    "### Once Downloaded, extract the DICOM files ONLY to the following folder: ./test_data/DICOM"
   ]
  },
  {
   "cell_type": "code",
   "execution_count": 6,
   "metadata": {},
   "outputs": [],
   "source": [
    "with open('data2.pkl', 'rb') as f:\n",
    "    data_load2 = pickle.load(f)"
   ]
  },
  {
   "cell_type": "code",
   "execution_count": 7,
   "metadata": {},
   "outputs": [],
   "source": [
    "c = moteus.Controller() # created moteus motor object\n",
    "#d1,d2 = await stopping_acc_test(c,2)\n",
    "d1 = data_load2['scan0'][2].STD_f\n",
    "d2 = data_load2['scan0'][2].STD_b"
   ]
  },
  {
   "cell_type": "code",
   "execution_count": 8,
   "metadata": {},
   "outputs": [
    {
     "name": "stdout",
     "output_type": "stream",
     "text": [
      "begin zeroing\n",
      "state info:  1/{MODE(0x000): 0, POSITION(0x001): -33.557098388671875, VELOCITY(0x002): -0.04266946390271187, TORQUE(0x003): 0.0, VOLTAGE(0x00d): 23.5, TEMPERATURE(0x00e): 28.0, FAULT(0x00f): 0}\n",
      "Position: -33.557098388671875\n",
      "Torque: 0.0\n",
      "\n",
      "motor is ready\n"
     ]
    }
   ],
   "source": [
    "#SETUP DATA DIRECTORIES FOR THE TEST DAY\n",
    "data = {}\n",
    "s_num = 0\n",
    "start = True\n",
    "fk = None\n",
    "ratio = 0.5040628051757813 #converting mm to rev\n",
    "ip = await motor_zero(c,stop_torque=.1,v=1) #ip is in rev"
   ]
  },
  {
   "cell_type": "code",
   "execution_count": null,
   "metadata": {},
   "outputs": [],
   "source": [
    "u_list = [0,25,50,75]\n",
    "key_list = ['1.2.840.113619.2.416.6795503943617817801219389912763296544',\n",
    "           '1.2.840.113619.2.416.6091776499222851246423953174468199664',\n",
    "           '1.2.840.113619.2.416.100083941475652116358255918161510130375',\n",
    "           '1.2.840.113619.2.416.61935088023485344866325542289366845877']\n",
    "ratio = 0.5040628051757813 #converting mm to rev"
   ]
  },
  {
   "cell_type": "code",
   "execution_count": 9,
   "metadata": {},
   "outputs": [
    {
     "name": "stdout",
     "output_type": "stream",
     "text": [
      "Begain Testing\n",
      "Finish, the position is:  -66.56713363641262\n"
     ]
    }
   ],
   "source": [
    "p_mm = await one_axis_farward(c,ip,user_desried=0) #P_mm in mm\n",
    "zero_mm = p_mm"
   ]
  },
  {
   "cell_type": "markdown",
   "metadata": {},
   "source": [
    "## Loop start HERE"
   ]
  },
  {
   "cell_type": "code",
   "execution_count": 20,
   "metadata": {},
   "outputs": [
    {
     "name": "stdout",
     "output_type": "stream",
     "text": [
      "Enter the desried postion: 75\n",
      "Postion Error norm(mm):  25.266083638243714\n",
      "Rotional Error norm(Euler Angle):  [ 1.17e-19 -1.91e-03  2.01e-04]\n",
      "Joint step calculated: [25.02]\n",
      "Begain Testing\n",
      "Finish, the position is:  8.211596082370242\n"
     ]
    }
   ],
   "source": [
    "time = datetime.datetime.now()\n",
    "time = time.strftime(\"%m/%d/%y %I:%M%p\")\n",
    "if start:\n",
    "    robot = Robot(time=time,m=ratio,joint_postion=p_mm,set_point=0,d1=d1,d2=d2,zero=zero_mm)\n",
    "    start = False\n",
    "else:\n",
    "    offset = (SE3(data['scan0'][1].T).inv()*SE3(data['scan0'][0].T)).t[2]\n",
    "    ds = input(\"Enter the desried postion: \")\n",
    "    m1t = SE3(marker1.T)\n",
    "    Dersied = copy.deepcopy(m1t)\n",
    "    Dersied.t[0] = m1t.t[0]+np.sign(m1t.t[0])*(int(ds))\n",
    "    peval = abs(Dersied.t[0])-abs(SE3(marker1.T).t[0])\n",
    "    fk,r_error,p_error = find_fk(marker1,marker2,robot,peval)\n",
    "    q_new_T = close_loop(marker1,marker2,fk,r_error,p_error,Dof=True)\n",
    "    q_new = q_new_T.t[2]-offset\n",
    "    p_mm = await one_axis_farward(c,ip,user_desried=q_new*ratio)\n",
    "    robot = Robot(time=time,m=ratio,joint_postion=p_mm,set_point=0,d1=d1,d2=d2,zero=zero_mm)"
   ]
  },
  {
   "cell_type": "code",
   "execution_count": 11,
   "metadata": {},
   "outputs": [
    {
     "data": {
      "application/vnd.jupyter.widget-view+json": {
       "model_id": "c0868eb824fc40eba5d60004896f8bba",
       "version_major": 2,
       "version_minor": 0
      },
      "text/plain": [
       "interactive(children=(Dropdown(description='series_to_load', options=('1.2.840.113619.2.416.100083941475652116…"
      ]
     },
     "metadata": {},
     "output_type": "display_data"
    }
   ],
   "source": [
    "data_directory = \"./test_data/DICOM\"\n",
    "# Global variable 'selected_series' is updated by the interact function\n",
    "selected_series = ''\n",
    "file_reader = sitk.ImageFileReader()\n",
    "# Directory contains multiple DICOM studies/series, store\n",
    "# in dictionary with key being the series ID\n",
    "series_file_names = {}\n",
    "series_IDs = sitk.ImageSeriesReader_GetGDCMSeriesIDs(data_directory)\n",
    "            # Check that we have at least one series\n",
    "if series_IDs:\n",
    "    for series in series_IDs:\n",
    "        series_file_names[series] = sitk.ImageSeriesReader_GetGDCMSeriesFileNames(data_directory, series)\n",
    "\n",
    "    interact(DICOM_series_dropdown_callback, series_to_load=list(series_IDs), series_dictionary=fixed(series_file_names)); \n",
    "else:\n",
    "    print('Data directory does not contain any DICOM series.')"
   ]
  },
  {
   "cell_type": "code",
   "execution_count": 21,
   "metadata": {},
   "outputs": [
    {
     "name": "stdout",
     "output_type": "stream",
     "text": [
      "spacing:  [0.63 0.7  0.7 ]\n",
      " origin:  [-149.69 -180.   -180.  ]\n",
      "[Open3D INFO] Skipping non-triangle primitive geometry of type: 1\n",
      "[Open3D INFO] Skipping non-triangle primitive geometry of type: 2\n",
      "[Open3D DEBUG] [ClusterConnectedTriangles] Compute triangle adjacency\n",
      "[Open3D DEBUG] [ClusterConnectedTriangles] Done computing triangle adjacency\n",
      "[Open3D DEBUG] [ClusterConnectedTriangles] Done clustering, #clusters=20\n",
      "[Open3D DEBUG] Precompute Neighbours\n",
      "[Open3D DEBUG] Done Precompute Neighbours\n",
      "[Open3D DEBUG] Compute Clusters\n",
      "[Open3D DEBUG] Done Compute Clusters: 8\n"
     ]
    },
    {
     "name": "stderr",
     "output_type": "stream",
     "text": [
      "100%|███████████████████████████████████████████████████████████████████████████████████| 8/8 [00:00<00:00, 161.88it/s]"
     ]
    },
    {
     "name": "stdout",
     "output_type": "stream",
     "text": [
      "[Open3D DEBUG] Precompute Neighbours\n",
      "[Open3D DEBUG] Done Precompute Neighbours\n",
      "[Open3D DEBUG] Compute Clusters\n",
      "[Open3D DEBUG] Done Compute Clusters: 2\n",
      "point cloud has 2 clusters\n",
      "Everything looks good!\n",
      "Error (mm): [[ 0.04  0.    0.01]\n",
      " [-0.07 -0.01 -0.  ]\n",
      " [ 0.05 -0.01 -0.01]\n",
      " [-0.03  0.02  0.  ]]\n",
      "Error norm (mm): 0.10184304794765224\n",
      "T find:  [[-95.5 ]\n",
      " [  0.88]\n",
      " [-47.4 ]]\n"
     ]
    },
    {
     "name": "stderr",
     "output_type": "stream",
     "text": [
      "\n"
     ]
    },
    {
     "name": "stdout",
     "output_type": "stream",
     "text": [
      "spacing:  [0.63 0.7  0.7 ]\n",
      " origin:  [-149.69 -180.   -180.  ]\n",
      "[Open3D INFO] Skipping non-triangle primitive geometry of type: 1\n",
      "[Open3D INFO] Skipping non-triangle primitive geometry of type: 2\n",
      "[Open3D DEBUG] [ClusterConnectedTriangles] Compute triangle adjacency\n",
      "[Open3D DEBUG] [ClusterConnectedTriangles] Done computing triangle adjacency\n",
      "[Open3D DEBUG] [ClusterConnectedTriangles] Done clustering, #clusters=20\n",
      "[Open3D DEBUG] Precompute Neighbours\n",
      "[Open3D DEBUG] Done Precompute Neighbours\n",
      "[Open3D DEBUG] Compute Clusters\n",
      "[Open3D DEBUG] Done Compute Clusters: 8\n"
     ]
    },
    {
     "name": "stderr",
     "output_type": "stream",
     "text": [
      "100%|███████████████████████████████████████████████████████████████████████████████████| 8/8 [00:00<00:00, 161.76it/s]"
     ]
    },
    {
     "name": "stdout",
     "output_type": "stream",
     "text": [
      "[Open3D DEBUG] Precompute Neighbours\n",
      "[Open3D DEBUG] Done Precompute Neighbours\n",
      "[Open3D DEBUG] Compute Clusters\n",
      "[Open3D DEBUG] Done Compute Clusters: 2\n",
      "point cloud has 2 clusters\n",
      "Everything looks good!\n",
      "Error (mm): [[-8.24e-02 -2.04e-01 -2.94e-03]\n",
      " [ 1.26e-01 -6.29e-02 -3.11e-02]\n",
      " [-4.38e-02  2.76e-01 -1.17e-02]\n",
      " [-4.53e-05 -8.73e-03  4.57e-02]]\n",
      "Error norm (mm): 0.3867843291774185\n",
      "T find:  [[-13.49]\n",
      " [-18.6 ]\n",
      " [ -6.11]]\n"
     ]
    },
    {
     "name": "stderr",
     "output_type": "stream",
     "text": [
      "\n"
     ]
    }
   ],
   "source": [
    "marker1,marker2,mesh = get_marker(selected_series,time) #selected_keys\n",
    "if fk is not None:\n",
    "    display_fk(fk,marker1,mesh)\n",
    "    display_fk(SE3(marker2.T)*q_new_T,marker1,mesh)\n",
    "#save temp data   \n",
    "append_value(data, \"scan\"+str(s_num), marker1)\n",
    "append_value(data, \"scan\"+str(s_num), marker2)\n",
    "append_value(data, \"scan\"+str(s_num), robot)\n",
    "d_name = 'temp_data'+str(s_num)+'.pkl'\n",
    "with open(d_name, 'wb') as f:\n",
    "    pickle.dump(data, f)\n",
    "s_num += 1"
   ]
  },
  {
   "cell_type": "code",
   "execution_count": 22,
   "metadata": {},
   "outputs": [
    {
     "name": "stdout",
     "output_type": "stream",
     "text": [
      "Begain Testing\n",
      "Position(rev): 4.1024322509765625\n",
      "Position in Degree:  235.05\n",
      "Position in mm:  8.138732334249351\n"
     ]
    }
   ],
   "source": [
    "await read_p()\n",
    "with open('data4.pkl', 'wb') as f:\n",
    "    pickle.dump(data, f)"
   ]
  },
  {
   "cell_type": "markdown",
   "metadata": {},
   "source": [
    "## ---------------------------------------End of the Code-----------------------------------"
   ]
  },
  {
   "cell_type": "code",
   "execution_count": null,
   "metadata": {
    "scrolled": false
   },
   "outputs": [],
   "source": [
    "for x in range(len(u_list)):\n",
    "    print(\"Moveing to \", u_list[x])\n",
    "    if u_list[x] == 0:\n",
    "        p_mm = await one_axis_farward(c,ip,user_desried=0) #P_mm in mm\n",
    "        zero_mm = p_mm\n",
    "    selected_series = key_list[x]\n",
    "    #selected_keys = input('Enter DICOM key: ')\n",
    "    #input('Press enter to start')\n",
    "    time = datetime.datetime.now()\n",
    "    time = time.strftime(\"%m/%d/%y %I:%M%p\")\n",
    "    marker1,marker2,mesh = get_marker(selected_series,time) #selected_keys\n",
    "    robot = Robot(time=time,m=ratio,joint_postion=p_mm,set_point=u_list[x],d1=d1,d2=d2,zero=zero_mm)\n",
    "    #5. calculate forward kinematics of joint position and error between and FK and tracking\n",
    "    if x != len(u_list)-1:\n",
    "        m1t = SE3(marker1.T)\n",
    "        Dersied = copy.deepcopy(m1t)\n",
    "        Dersied.t[0] = m1t.t[0]+np.sign(m1t.t[0])*(u_list[x+1])\n",
    "        peval = abs(Dersied.t[0])-abs(SE3(marker1.T).t[0])\n",
    "        fk,r_error,p_error = find_fk(marker1,marker2,robot,peval)\n",
    "        q_new_T = close_loop(marker1,marker2,robot,fk,r_error,p_error,Dof=True)\n",
    "        q_new = abs(SE3(q_new_T).t[2])\n",
    "        p_mm = await one_axis_farward(c,ip,user_desried=q_new*ratio)\n",
    "        robot.joint_postion = p_mm\n",
    "    #6. display forward kinematics transforms + tracked marker transforms in open3D AND print errors with warnings\n",
    "        display_fk(fk,marker1,mesh)\n",
    "    #7. save everything to data directory w/ timestamp for this loop IF good for this loop to dictionary\n",
    "    append_value(data, \"scan\"+str(s_num), marker1)\n",
    "    append_value(data, \"scan\"+str(s_num), marker2)\n",
    "    append_value(data, \"scan\"+str(s_num), robot)\n",
    "    #8. save to temporary pickle file for this test every loop incase the software crashes\n",
    "    d_name = 'temp_data'+str(s_num)+'.pkl'\n",
    "    with open(d_name, 'wb') as f:\n",
    "        pickle.dump(data, f)\n",
    "    s_num += 1\n",
    "#8. save to pickle file for final test data\n",
    "with open('data4.pkl', 'wb') as f:\n",
    "    pickle.dump(data, f)"
   ]
  }
 ],
 "metadata": {
  "kernelspec": {
   "display_name": "Python 3 (ipykernel)",
   "language": "python",
   "name": "python3"
  },
  "language_info": {
   "codemirror_mode": {
    "name": "ipython",
    "version": 3
   },
   "file_extension": ".py",
   "mimetype": "text/x-python",
   "name": "python",
   "nbconvert_exporter": "python",
   "pygments_lexer": "ipython3",
   "version": "3.8.13"
  },
  "vscode": {
   "interpreter": {
    "hash": "0d8f9822538f916fd3882b0229ca50b27681e14c7239e8291fa4436f36316800"
   }
  }
 },
 "nbformat": 4,
 "nbformat_minor": 2
}
