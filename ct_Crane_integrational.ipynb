{
 "cells": [
  {
   "cell_type": "code",
   "execution_count": 1,
   "id": "industrial-links",
   "metadata": {},
   "outputs": [],
   "source": [
    "#Test notebook for tracking rigid body  marker consisting of multiple fiducials within a CT scan volume\n",
    "\n",
    "#3D data processing\n",
    "import open3d as o3d\n",
    "import ct_tracking_library # our helper functions\n",
    "import SimpleITK as sitk\n",
    "import numpy as np\n",
    "import matplotlib.pyplot as plt\n",
    "import os\n",
    "from ipywidgets import interact, fixed\n",
    "\n",
    "#our processing code\n",
    "from ct_tracking_library.ct_motor_functions import *\n",
    "from ct_tracking_library.ct_tracking_functions import *\n",
    "from ct_tracking_library.ct_processing_functions import *\n",
    "from ct_tracking_library.ct_display_functions import *\n",
    "from ct_tracking_library.ct_object_classes import *\n",
    "from ct_tracking_library.ct_fk_functions import *\n",
    "\n",
    "#used for GUI\n",
    "%matplotlib notebook\n",
    "\n",
    "#find transform\n",
    "import datetime\n",
    "import time\n",
    "import pickle\n",
    "from spatialmath import *\n",
    "from roboticstoolbox import ET as E\n",
    "import transforms3d as t3d\n",
    "import itertools"
   ]
  },
  {
   "cell_type": "code",
   "execution_count": 2,
   "id": "compatible-assist",
   "metadata": {},
   "outputs": [],
   "source": [
    "def DICOM_series_dropdown_callback(series_to_load, series_dictionary):\n",
    "    \"\"\"\n",
    "    This function is a helper function that helps the drop dwon list for DICOM file in folder:\n",
    "\n",
    "    Args:\n",
    "        series_to_load(list): list of the DICOM serial number in the folder.\n",
    "        series_dictionary(dict): dict that holds the dicm files.\n",
    "\n",
    "    \"\"\"\n",
    "    global selected_series\n",
    "               # Print some information about the series from the meta-data dictionary\n",
    "               # DICOM standard part 6, Data Dictionary: http://medical.nema.org/medical/dicom/current/output/pdf/part06.pdf\n",
    "    file_reader.SetFileName(series_dictionary[series_to_load][0])\n",
    "    file_reader.ReadImageInformation()\n",
    "    tags_to_print = {'0010|0010': 'Patient name: ', \n",
    "                     '0008|0060' : 'Modality: ',\n",
    "                     '0008|0021' : 'Series date: ',\n",
    "                     '0008|0080' : 'Institution name: ',\n",
    "                     '0008|1050' : 'Performing physician\\'s name: '}\n",
    "    for tag in tags_to_print:\n",
    "        try:\n",
    "            print(tags_to_print[tag] + file_reader.GetMetaData(tag))\n",
    "        except: # Ignore if the tag isn't in the dictionary\n",
    "            pass\n",
    "    selected_series = series_to_load"
   ]
  },
  {
   "cell_type": "code",
   "execution_count": 3,
   "id": "sound-bhutan",
   "metadata": {},
   "outputs": [],
   "source": [
    "def get_marker(selected_series,time,v = False, debug = False):\n",
    "    \"\"\"\n",
    "    This function finds the marker from the user sleceted dicom file:\n",
    "\n",
    "    Args:\n",
    "        selected_series(string): the serial key for the slected DICOM.\n",
    "        time(Time): time intial when the function is called.\n",
    "        v(bool): to show visualization for the marker\n",
    "        debug(bool): wheather or not the user want to see debug info.\n",
    "\n",
    "    Returns:\n",
    "        M_list[0](Marker): the moveing marker object finded\n",
    "        M_list[1](Marker): the fixed marker object finded\n",
    "        v_mesh(Open3d mesh): the mesh used for finding the marker in form of open3d\n",
    "\n",
    "    \"\"\"\n",
    "    M_list = []\n",
    "    data_directory = \"./test_data/DICOM\"\n",
    "    file_reader = sitk.ImageFileReader()\n",
    "    series_file_names = {}\n",
    "    series_IDs = list(sitk.ImageSeriesReader_GetGDCMSeriesIDs(data_directory))\n",
    "    if series_IDs:\n",
    "        for series in series_IDs:\n",
    "            series_file_names[series] = sitk.ImageSeriesReader_GetGDCMSeriesFileNames(data_directory, series)\n",
    "    for S in range(2):\n",
    "        # pick marker\n",
    "        if S == 0:\n",
    "            target_marker_name = 'moving_marker_1_DoF'\n",
    "            marker = np.array([[-10,-5,0],[-10,5,0],[0,-5,0],[10,0,0]])\n",
    "            R = np.eye(3)\n",
    "            crop_z = None\n",
    "        else:\n",
    "            target_marker_name = 'fixed_marker_1_DoF'\n",
    "            marker = np.array([[0,-14,0],[0,-6,0],[0,16,0],[17,0,0]])\n",
    "            R = np.eye(3)\n",
    "            crop_z = None\n",
    "\n",
    "        #convert scan to mesh for finding markers via thresholding\n",
    "        scan_file = series_file_names[selected_series]\n",
    "        convert_scan_to_mha(scan_file, crop_z = crop_z)\n",
    "        convert_mha_to_mesh(output_mesh_file = 'temp_mesh.obj')\n",
    "\n",
    "        #find candidate fiducials within the scanner returning clustered centroids that could be rigid body markers\n",
    "        _, marker_centroid_coordinates, pcd_selected, marker_mesh, _, good_centroid_clusters = find_candidate_centroids(marker = marker, debug=debug)\n",
    "        if debug:\n",
    "            print('marker centroid coordinates from design: {}'.format(marker))\n",
    "            print('found centroid coordinates: {}'.format(marker_centroid_coordinates))\n",
    "\n",
    "        #display candidate fiducials\n",
    "        if v:\n",
    "            o3d.visualization.draw_geometries([pcd_selected, marker_mesh])\n",
    "\n",
    "        #find best transform and marker from candidate fiducials\n",
    "        tracked_R, tracked_t, permuted_centroids, min_error = find_best_transform_from_candidate_marker_clusters(marker, good_centroid_clusters)\n",
    "\n",
    "        #get rid of column of ones to make 3xN\n",
    "        permuted_centroids = permuted_centroids[:3,:].T\n",
    "\n",
    "        #transform marker geometry coordinates using found transform to tracked image coordinates\n",
    "        transformed_marker = (tracked_R @ marker.T + tracked_t).T\n",
    "        error = permuted_centroids-transformed_marker\n",
    "        \n",
    "        #tracking error from final transform\n",
    "        np.set_printoptions(2)\n",
    "        print(\"Error (mm): {}\".format(error))\n",
    "        print(\"Error norm (mm): {}\".format(np.linalg.norm(error)))\n",
    "        if v:\n",
    "            #create o3d visualizations\n",
    "            marker_3d_tracked = create_marker_visualization(fiducial_coordinates=permuted_centroids, color=[0.8, 0.2, 0.2])\n",
    "            marker_3d_base = create_marker_visualization(marker, [0.2, 0.8, 0.2])\n",
    "            marker_3d_base.append(create_coordinate_frame_visualization())\n",
    "            marker_3d_transformed = create_marker_visualization(marker, [0.2, 0.2, 0.8], tracked_R, tracked_t)\n",
    "            marker_3d_transformed.append(create_coordinate_frame_visualization(tracked_R, tracked_t))\n",
    "            #visualize tracked markers on top of mesh used for tracking\n",
    "            visualization_list2 = marker_3d_tracked+marker_3d_base+marker_3d_transformed + [marker_mesh]\n",
    "            visualization_list1 = copy.deepcopy(visualization_list2)\n",
    "            o3d.visualization.draw_geometries(visualization_list2)\n",
    "        if S == 0:\n",
    "            v_mesh= marker_mesh\n",
    "        #append marker\n",
    "        print(\"T find: \",tracked_t)\n",
    "        M_list.append(Marker(name=target_marker_name,d_key=selected_series,time =time,geometry=marker,T=t2T(tracked_R, tracked_t),error=np.linalg.norm(error, axis=1)))\n",
    "        \n",
    "    return M_list[0],M_list[1],v_mesh"
   ]
  },
  {
   "cell_type": "code",
   "execution_count": 4,
   "id": "changed-potential",
   "metadata": {},
   "outputs": [],
   "source": [
    "def calc_DLS_controller_step(J, e, alpha = 1.0, lambd = 0.01):\n",
    "    '''\n",
    "    calculates new position step using dls jacobian\n",
    "    inputs: \n",
    "            J: [6xN] numpy array where N is the number of robot joints being controlled\n",
    "            e: [6x1] numpy array for position and orientation errors stacked\n",
    "            alpha: gain constant for position step\n",
    "            lambd: damping constant for inverse\n",
    "    return: \n",
    "        joint position setpoint delta\n",
    "    '''\n",
    "    J_inv = np.linalg.inv(J.T@J + lambd * np.eye(J.shape[1])) @ J.T\n",
    "    return alpha * J_inv @ e"
   ]
  },
  {
   "cell_type": "code",
   "execution_count": 5,
   "id": "rational-absolute",
   "metadata": {},
   "outputs": [],
   "source": [
    "def close_loop(m1,m2,fk,r_error=None,p_error=None,Dof=True):\n",
    "    if Dof:\n",
    "        Tfk = SE3(m2.T).inv()*fk\n",
    "        T2 = copy.deepcopy(Tfk)\n",
    "        q_current = (SE3(m2.T).inv()*SE3(m1.T)).t[2]\n",
    "        J = np.array([[0,0,1,0,0,0]]).T\n",
    "        e = np.hstack((p_error.T[0],r_error))\n",
    "        delta_q = calc_DLS_controller_step(J, e)\n",
    "        print('Joint step calculated: {}'.format(delta_q))\n",
    "        q_new = q_current + delta_q\n",
    "        T2.t = [Tfk.t[0],Tfk.t[1],q_new]\n",
    "        return T2,delta_q\n",
    "    else:\n",
    "        print(\"Crane bot\")\n",
    "        martix = np.array(([0,.04,-1,-0.21],[1,0.2,0,-1.87],[.02,-1,-.04,.98],[0,0,0,1]))\n",
    "        rw_T_rb = SE3(martix)\n",
    "        Base = SE3(m2)\n",
    "        Tracked = rw_T_rb*Base.inv()*SE3(m1)\n",
    "        Target = rw_T_rb*Base.inv()*SE3(fk)\n",
    "        p_error = calc_p_error(Target.t,Tracked.t)\n",
    "        r_error = t3d.euler.axangle2euler(calc_needle_ori_error(Target.R,Tracked.R))\n",
    "        print(\"P: \")\n",
    "        print(p_error)\n",
    "        print(\"R: \")\n",
    "        print(r_error)\n",
    "        return p_error,r_error\n",
    "    return True"
   ]
  },
  {
   "cell_type": "markdown",
   "id": "encouraging-integral",
   "metadata": {},
   "source": [
    "## Display"
   ]
  },
  {
   "cell_type": "markdown",
   "id": "joint-liberia",
   "metadata": {},
   "source": [
    "### user input in scaner base (change it to robot world base)\n",
    "### update Open3d in real time"
   ]
  },
  {
   "cell_type": "code",
   "execution_count": 6,
   "id": "burning-soviet",
   "metadata": {},
   "outputs": [],
   "source": [
    "def display_o3d(track,target,mesh):\n",
    "    p= target.t.reshape((3,1))\n",
    "    r= target.R\n",
    "    o_p = track.t.reshape((3,1))\n",
    "    o_r = track.R\n",
    "    marker = np.load('./test_data/marker1.npy')\n",
    "    marker = marker - marker.mean(axis=0) - np.array([2,0,0])\n",
    "    marker_3d_transformed = create_marker_visualization(marker, [0.2, 0.2, 0.8], o_r, o_p)\n",
    "    marker_3d_transformed.append(create_coordinate_frame_visualization(o_r, o_p))\n",
    "    marker_3d_target = create_marker_visualization(np.array([[-10,-5,0],[-10,5,0],[0,-5,0],[10,0,0]]), [0.8, 0.2, 0.8],r,p)\n",
    "    marker_3d_target.append(create_coordinate_frame_visualization(r, p))\n",
    "    o3d.visualization.draw_geometries(marker_3d_transformed + marker_3d_target + [mesh])"
   ]
  },
  {
   "cell_type": "code",
   "execution_count": 7,
   "id": "rural-alexandria",
   "metadata": {},
   "outputs": [],
   "source": [
    "def check_det(a):\n",
    "    print(\"The det of the Transfrom is: \", np.linalg.det(a[:3,:3]))\n",
    "    print(np.linalg.det(a[:3,:3]) == 1)"
   ]
  },
  {
   "cell_type": "markdown",
   "id": "responsible-being",
   "metadata": {},
   "source": [
    "## Pick DICOM files"
   ]
  },
  {
   "cell_type": "code",
   "execution_count": 8,
   "id": "neutral-observer",
   "metadata": {},
   "outputs": [
    {
     "data": {
      "application/vnd.jupyter.widget-view+json": {
       "model_id": "2c850e3671aa4726aa029cf830927c30",
       "version_major": 2,
       "version_minor": 0
      },
      "text/plain": [
       "interactive(children=(Dropdown(description='series_to_load', options=('1.2.840.113619.2.416.111144948534306337…"
      ]
     },
     "metadata": {},
     "output_type": "display_data"
    }
   ],
   "source": [
    "data_directory = \"./test_data/DICOM_c/38AF3F19\" #******* Change data_directory for using differnt scans ***********\n",
    "# Global variable 'selected_series' is updated by the interact function\n",
    "selected_series = ''\n",
    "file_reader = sitk.ImageFileReader()\n",
    "# Directory contains multiple DICOM studies/series, store\n",
    "# in dictionary with key being the series ID\n",
    "series_file_names = {}\n",
    "series_IDs = sitk.ImageSeriesReader_GetGDCMSeriesIDs(data_directory)\n",
    "# Check that we have at least one series\n",
    "if series_IDs:\n",
    "    for series in series_IDs:\n",
    "        series_file_names[series] = sitk.ImageSeriesReader_GetGDCMSeriesFileNames(data_directory, series)\n",
    "\n",
    "    interact(DICOM_series_dropdown_callback, series_to_load=list(series_IDs), series_dictionary=fixed(series_file_names)); \n",
    "else:\n",
    "    print('Data directory does not contain any DICOM series.')"
   ]
  },
  {
   "cell_type": "markdown",
   "id": "obvious-equation",
   "metadata": {},
   "source": [
    "### Find Base Marker"
   ]
  },
  {
   "cell_type": "code",
   "execution_count": 9,
   "id": "fifth-engineering",
   "metadata": {},
   "outputs": [
    {
     "name": "stdout",
     "output_type": "stream",
     "text": [
      "spacing:  [0.62500392 0.878906   0.878906  ]\n",
      " origin:  [-149.688 -225.    -225.   ]\n",
      "[Open3D INFO] Skipping non-triangle primitive geometry of type: 1\n",
      "[Open3D INFO] Skipping non-triangle primitive geometry of type: 2\n",
      "[Open3D DEBUG] [ClusterConnectedTriangles] Compute triangle adjacency\n",
      "[Open3D DEBUG] [ClusterConnectedTriangles] Done computing triangle adjacency\n",
      "[Open3D DEBUG] [ClusterConnectedTriangles] Done clustering, #clusters=382\n",
      "[Open3D DEBUG] Precompute Neighbours\n",
      "[Open3D DEBUG] Done Precompute Neighbours\n",
      "[Open3D DEBUG] Compute Clusters\n",
      "[Open3D DEBUG] Done Compute Clusters: 28\n"
     ]
    },
    {
     "name": "stderr",
     "output_type": "stream",
     "text": [
      "  0%|                                                                                           | 0/28 [00:00<?, ?it/s]C:\\Users\\derek\\Documents\\GitHub\\ct-fiducial-tracking\\ct_tracking_library\\ct_tracking_functions.py:422: FutureWarning: `rcond` parameter will change to the default of machine precision times ``max(M, N)`` where M and N are the input matrix dimensions.\n",
      "To use the future default and silence this warning we advise to pass `rcond=None`, to keep using the old, explicitly pass `rcond=-1`.\n",
      "  C, residules, rank, singval = np.linalg.lstsq(A,f)\n",
      "100%|█████████████████████████████████████████████████████████████████████████████████| 28/28 [00:00<00:00, 259.12it/s]"
     ]
    },
    {
     "name": "stdout",
     "output_type": "stream",
     "text": [
      "[Open3D DEBUG] Precompute Neighbours\n",
      "[Open3D DEBUG] Done Precompute Neighbours\n",
      "[Open3D DEBUG] Compute Clusters\n",
      "[Open3D DEBUG] Done Compute Clusters: 3\n",
      "point cloud has 3 clusters\n",
      "Everything looks good!\n"
     ]
    },
    {
     "name": "stderr",
     "output_type": "stream",
     "text": [
      "\n"
     ]
    }
   ],
   "source": [
    "marker = np.load('./test_data/marker1.npy')\n",
    "marker = marker - marker.mean(axis=0) - np.array([2,0,0])\n",
    "crop_z = None\n",
    "convert_scan_to_mha(series_file_names[selected_series], crop_z = crop_z)\n",
    "convert_mha_to_mesh(output_mesh_file = 'temp_mesh.obj')\n",
    "_, marker_centroid_coordinates, pcd_selected, marker_mesh, _, good_centroid_clusters = find_candidate_centroids(marker = marker, debug=False)\n",
    "tracked_R, tracked_t, permuted_centroids, min_error = find_best_transform_from_candidate_marker_clusters(marker, good_centroid_clusters)\n",
    "permuted_centroids = permuted_centroids[:3,:].T\n",
    "transformed_marker = (tracked_R @ marker.T + tracked_t).T\n",
    "marker2 = SE3(t2T(tracked_R, tracked_t))"
   ]
  },
  {
   "cell_type": "markdown",
   "id": "ignored-rouge",
   "metadata": {},
   "source": [
    "## Get Detail Mesh"
   ]
  },
  {
   "cell_type": "code",
   "execution_count": 10,
   "id": "amber-asian",
   "metadata": {},
   "outputs": [
    {
     "name": "stdout",
     "output_type": "stream",
     "text": [
      "spacing:  [0.62500392 0.878906   0.878906  ]\n",
      " origin:  [-149.688 -225.    -225.   ]\n",
      "[Open3D INFO] Skipping non-triangle primitive geometry of type: 1\n",
      "[Open3D INFO] Skipping non-triangle primitive geometry of type: 2\n"
     ]
    }
   ],
   "source": [
    "convert_mha_to_mesh(output_mesh_file = 'temp_full_mesh.obj', threshold_value = 0)\n",
    "temp_full_mesh = o3d.io.read_triangle_mesh('temp_full_mesh.obj').paint_uniform_color([0.7, 0.7, 0.7]).compute_vertex_normals()"
   ]
  },
  {
   "cell_type": "markdown",
   "id": "simplified-animal",
   "metadata": {},
   "source": [
    "### Display"
   ]
  },
  {
   "cell_type": "code",
   "execution_count": 11,
   "id": "sixth-tuition",
   "metadata": {},
   "outputs": [
    {
     "name": "stdout",
     "output_type": "stream",
     "text": [
      "The det of the Transfrom is:  1.0\n",
      "True\n",
      "The det of the Transfrom is:  1.0\n",
      "True\n"
     ]
    }
   ],
   "source": [
    "from spatialmath.base import trnorm\n",
    "Target = np.array(([8.21e-3,9.98e-1,5.45e-2,2.39e-2],[1.38e-1,-5.50e-2,9.89e-1,-1.75e-1],[9.90e-1,-6.8e-4,-1.38e-1,8.9e-2],[0,0,0,1])).astype(np.longdouble(64))\n",
    "martix = np.array(([0,.04,-1,-0.21],[1,0.2,0,-1.87],[.02,-1,-.04,.98],[0,0,0,1]))\n",
    "Target = trnorm(Target)\n",
    "martix = trnorm(martix)\n",
    "check_det(martix)\n",
    "check_det(Target)\n",
    "rw_T = SE3(martix,check=False)*marker2.inv()*SE3(Target,check=False)\n",
    "# Display in open3d\n",
    "display_o3d(marker2,rw_T,temp_full_mesh)"
   ]
  },
  {
   "cell_type": "code",
   "execution_count": null,
   "id": "major-clear",
   "metadata": {},
   "outputs": [],
   "source": []
  }
 ],
 "metadata": {
  "kernelspec": {
   "display_name": "Python 3 (ipykernel)",
   "language": "python",
   "name": "python3"
  },
  "language_info": {
   "codemirror_mode": {
    "name": "ipython",
    "version": 3
   },
   "file_extension": ".py",
   "mimetype": "text/x-python",
   "name": "python",
   "nbconvert_exporter": "python",
   "pygments_lexer": "ipython3",
   "version": "3.8.13"
  }
 },
 "nbformat": 4,
 "nbformat_minor": 5
}
