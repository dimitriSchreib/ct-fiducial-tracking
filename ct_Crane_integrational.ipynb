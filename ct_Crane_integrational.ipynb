{
 "cells": [
  {
   "cell_type": "code",
   "execution_count": 1,
   "id": "industrial-links",
   "metadata": {},
   "outputs": [],
   "source": [
    "#Test notebook for tracking rigid body  marker consisting of multiple fiducials within a CT scan volume\n",
    "\n",
    "#3D data processing\n",
    "import open3d as o3d\n",
    "import ct_tracking_library # our helper functions\n",
    "import SimpleITK as sitk\n",
    "import numpy as np\n",
    "import matplotlib.pyplot as plt\n",
    "import os\n",
    "from ipywidgets import interact, fixed\n",
    "\n",
    "#our processing code\n",
    "from ct_tracking_library.ct_motor_functions import *\n",
    "from ct_tracking_library.ct_tracking_functions import *\n",
    "from ct_tracking_library.ct_processing_functions import *\n",
    "from ct_tracking_library.ct_display_functions import *\n",
    "from ct_tracking_library.ct_object_classes import *\n",
    "from ct_tracking_library.ct_fk_functions import *\n",
    "\n",
    "#used for GUI\n",
    "%matplotlib notebook\n",
    "\n",
    "#find transform\n",
    "import datetime\n",
    "import time\n",
    "import pickle\n",
    "from spatialmath import *\n",
    "from roboticstoolbox import ET as E\n",
    "import transforms3d as t3d\n",
    "import itertools\n",
    "from spatialmath.base import trnorm"
   ]
  },
  {
   "cell_type": "code",
   "execution_count": 2,
   "id": "compatible-assist",
   "metadata": {},
   "outputs": [],
   "source": [
    "def DICOM_series_dropdown_callback(series_to_load, series_dictionary):\n",
    "    \"\"\"\n",
    "    This function is a helper function that helps the drop dwon list for DICOM file in folder:\n",
    "\n",
    "    Args:\n",
    "        series_to_load(list): list of the DICOM serial number in the folder.\n",
    "        series_dictionary(dict): dict that holds the dicm files.\n",
    "\n",
    "    \"\"\"\n",
    "    global selected_series\n",
    "               # Print some information about the series from the meta-data dictionary\n",
    "               # DICOM standard part 6, Data Dictionary: http://medical.nema.org/medical/dicom/current/output/pdf/part06.pdf\n",
    "    file_reader.SetFileName(series_dictionary[series_to_load][0])\n",
    "    file_reader.ReadImageInformation()\n",
    "    tags_to_print = {'0010|0010': 'Patient name: ', \n",
    "                     '0008|0060' : 'Modality: ',\n",
    "                     '0008|0021' : 'Series date: ',\n",
    "                     '0008|0080' : 'Institution name: ',\n",
    "                     '0008|1050' : 'Performing physician\\'s name: '}\n",
    "    for tag in tags_to_print:\n",
    "        try:\n",
    "            print(tags_to_print[tag] + file_reader.GetMetaData(tag))\n",
    "        except: # Ignore if the tag isn't in the dictionary\n",
    "            pass\n",
    "    selected_series = series_to_load"
   ]
  },
  {
   "cell_type": "code",
   "execution_count": 13,
   "id": "sound-bhutan",
   "metadata": {},
   "outputs": [],
   "source": [
    "def get_marker(selected_series,time,v = False, debug = False):\n",
    "    \"\"\"\n",
    "    This function finds the marker from the user sleceted dicom file:\n",
    "\n",
    "    Args:\n",
    "        selected_series(string): the serial key for the slected DICOM.\n",
    "        time(Time): time intial when the function is called.\n",
    "        v(bool): to show visualization for the marker\n",
    "        debug(bool): wheather or not the user want to see debug info.\n",
    "\n",
    "    Returns:\n",
    "        M_list[0](Marker): the moveing marker object finded\n",
    "        M_list[1](Marker): the fixed marker object finded\n",
    "        v_mesh(Open3d mesh): the mesh used for finding the marker in form of open3d\n",
    "\n",
    "    \"\"\"\n",
    "    M_list = []\n",
    "    data_directory = \"./test_data/DICOM\"\n",
    "    file_reader = sitk.ImageFileReader()\n",
    "    series_file_names = {}\n",
    "    series_IDs = list(sitk.ImageSeriesReader_GetGDCMSeriesIDs(data_directory))\n",
    "    if series_IDs:\n",
    "        for series in series_IDs:\n",
    "            series_file_names[series] = sitk.ImageSeriesReader_GetGDCMSeriesFileNames(data_directory, series)\n",
    "    for S in range(2):\n",
    "        # pick marker\n",
    "        if S == 0:\n",
    "            target_marker_name = 'moving_marker_crane'\n",
    "            marker = np.load('./test_data/marker1.npy')\n",
    "            #marker = np.array([[-10,-5,0],[-10,5,0],[0,-5,0],[10,0,0]])\n",
    "            #R = np.eye(3)\n",
    "            #r_y = np.eye(3)\n",
    "            #r_y[0][0] = -1\n",
    "            #r_y[2][2] = -1\n",
    "            #marker = (r_y@marker.T).T\n",
    "            crop_z = None\n",
    "            color = [0.8, 0.2, 0.8]\n",
    "        else:\n",
    "            target_marker_name = 'fixed_marker_crane'\n",
    "            marker = np.load('./test_data/marker2.npy')\n",
    "            #marker = marker - marker.mean(axis=0) - np.array([2,0,0])\n",
    "            #R = np.eye(3)\n",
    "            #r_z = np.eye(3)\n",
    "            #r_z[0][0] = -1\n",
    "            #r_z[1][1] = -1\n",
    "            #marker = (r_z@marker.T).T\n",
    "            crop_z = None\n",
    "            color = [0.2, 0.2, 0.8]\n",
    "        #convert scan to mesh for finding markers via thresholding\n",
    "        scan_file = series_file_names[selected_series]\n",
    "        convert_scan_to_mha(scan_file, crop_z = crop_z)\n",
    "        convert_mha_to_mesh(output_mesh_file = 'temp_mesh.obj')\n",
    "\n",
    "        #find candidate fiducials within the scanner returning clustered centroids that could be rigid body markers\n",
    "        _, marker_centroid_coordinates, pcd_selected, marker_mesh, _, good_centroid_clusters = find_candidate_centroids(marker = marker, debug=debug)\n",
    "        if debug:\n",
    "            print('marker centroid coordinates from design: {}'.format(marker))\n",
    "            print('found centroid coordinates: {}'.format(marker_centroid_coordinates))\n",
    "\n",
    "        #display candidate fiducials\n",
    "        if v:\n",
    "            o3d.visualization.draw_geometries([pcd_selected, marker_mesh])\n",
    "\n",
    "        #find best transform and marker from candidate fiducials\n",
    "        tracked_R, tracked_t, permuted_centroids, min_error = find_best_transform_from_candidate_marker_clusters(marker, good_centroid_clusters)\n",
    "        #get rid of column of ones to make 3xN\n",
    "        permuted_centroids = permuted_centroids[:3,:].T\n",
    "\n",
    "        #transform marker geometry coordinates using found transform to tracked image coordinates\n",
    "        transformed_marker = (tracked_R @ marker.T + tracked_t).T\n",
    "        error = permuted_centroids-transformed_marker\n",
    "        \n",
    "        #tracking error from final transform\n",
    "        np.set_printoptions(2)\n",
    "        print(\"Error (mm): {}\".format(error))\n",
    "        print(\"Error norm (mm): {}\".format(np.linalg.norm(error)))\n",
    "        if v:\n",
    "            #create o3d visualizations\n",
    "            marker_3d_tracked = create_marker_visualization(fiducial_coordinates=permuted_centroids, color=[0.8, 0.2, 0.2])\n",
    "            marker_3d_base = create_marker_visualization(marker, [0.2, 0.8, 0.2])\n",
    "            marker_3d_base.append(create_coordinate_frame_visualization())\n",
    "            marker_3d_transformed = create_marker_visualization(marker, [0.2, 0.2, 0.8], tracked_R, tracked_t)\n",
    "            marker_3d_transformed.append(create_coordinate_frame_visualization(tracked_R, tracked_t))\n",
    "            #visualize tracked markers on top of mesh used for tracking\n",
    "            visualization_list2 = marker_3d_tracked+marker_3d_base+marker_3d_transformed + [marker_mesh]\n",
    "            visualization_list1 = copy.deepcopy(visualization_list2)\n",
    "            o3d.visualization.draw_geometries(visualization_list2)\n",
    "        if S == 0:\n",
    "            v_mesh= marker_mesh\n",
    "        #append marker\n",
    "        print(\"T find: \",tracked_t)\n",
    "        marker_3d = create_marker_visualization(marker, color, tracked_R, tracked_t)\n",
    "        marker_3d.append(create_coordinate_frame_visualization(tracked_R, tracked_t))\n",
    "        M_list.append(Marker(name=target_marker_name,d_key=selected_series,time =time,geometry=marker,T=SE3(t2T(tracked_R, tracked_t)),error=np.linalg.norm(error, axis=1)))\n",
    "        \n",
    "    return M_list[0],M_list[1],v_mesh"
   ]
  },
  {
   "cell_type": "code",
   "execution_count": 4,
   "id": "changed-potential",
   "metadata": {},
   "outputs": [],
   "source": [
    "def calc_DLS_controller_step(J, e, alpha = 1.0, lambd = 0.01):\n",
    "    '''\n",
    "    calculates new position step using dls jacobian\n",
    "    inputs: \n",
    "            J: [6xN] numpy array where N is the number of robot joints being controlled\n",
    "            e: [6x1] numpy array for position and orientation errors stacked\n",
    "            alpha: gain constant for position step\n",
    "            lambd: damping constant for inverse\n",
    "    return: \n",
    "        joint position setpoint delta\n",
    "    '''\n",
    "    J_inv = np.linalg.inv(J.T@J + lambd * np.eye(J.shape[1])) @ J.T\n",
    "    return alpha * J_inv @ e"
   ]
  },
  {
   "cell_type": "code",
   "execution_count": 5,
   "id": "rational-absolute",
   "metadata": {},
   "outputs": [],
   "source": [
    "def close_loop(m1,m2,fk,r_error=None,p_error=None,Dof=True):\n",
    "    if Dof:\n",
    "        Tfk = SE3(m2.T).inv()*fk\n",
    "        T2 = copy.deepcopy(Tfk)\n",
    "        q_current = (SE3(m2.T).inv()*SE3(m1.T)).t[2]\n",
    "        J = np.array([[0,0,1,0,0,0]]).T\n",
    "        e = np.hstack((p_error.T[0],r_error))\n",
    "        delta_q = calc_DLS_controller_step(J, e)\n",
    "        print('Joint step calculated: {}'.format(delta_q))\n",
    "        q_new = q_current + delta_q\n",
    "        T2.t = [Tfk.t[0],Tfk.t[1],q_new]\n",
    "        return T2,delta_q\n",
    "    else:\n",
    "        print(\"Crane bot\")\n",
    "        martix = np.array(([0,.04,-1,-0.21],[1,0.2,0,-1.87],[.02,-1,-.04,.98],[0,0,0,1]))\n",
    "        rw_T_rb = SE3(martix)\n",
    "        Base = SE3(m2)\n",
    "        Tracked = rw_T_rb*Base.inv()*SE3(m1)\n",
    "        Target = rw_T_rb*Base.inv()*SE3(fk)\n",
    "        p_error = calc_p_error(Target.t,Tracked.t)\n",
    "        r_error = t3d.euler.axangle2euler(calc_needle_ori_error(Target.R,Tracked.R))\n",
    "        print(\"P: \")\n",
    "        print(p_error)\n",
    "        print(\"R: \")\n",
    "        print(r_error)\n",
    "        return p_error,r_error\n",
    "    return True"
   ]
  },
  {
   "cell_type": "markdown",
   "id": "encouraging-integral",
   "metadata": {},
   "source": [
    "## Display"
   ]
  },
  {
   "cell_type": "markdown",
   "id": "joint-liberia",
   "metadata": {},
   "source": [
    "### user input in scaner base (change it to robot world base)\n",
    "### update Open3d in real time"
   ]
  },
  {
   "cell_type": "code",
   "execution_count": 84,
   "id": "earlier-december",
   "metadata": {},
   "outputs": [],
   "source": [
    "def display_o3d(m1,m2,mesh=None,tn=None):\n",
    "    p= m1.t.reshape((3,1))\n",
    "    r= m1.R\n",
    "    o_p = m2.t.reshape((3,1))\n",
    "    o_r = m2.R\n",
    "    marker = np.load('./test_data/marker2.npy')\n",
    "    marker_3d_transformed = create_marker_visualization(marker, [0.2, 0.2, 0.8], o_r, o_p)\n",
    "    marker_3d_transformed.append(create_coordinate_frame_visualization(o_r, o_p))\n",
    "    marker = np.load('./test_data/marker1.npy')\n",
    "    marker_3d_target = create_marker_visualization(marker, [0.8, 0.2, 0.8],r,p)\n",
    "    marker_3d_target.append(create_coordinate_frame_visualization(r, p))\n",
    "    if tn is not None:\n",
    "        p= tn.t.reshape((3,1))\n",
    "        r= tn.R\n",
    "        marker_tn = create_marker_visualization(marker, [0.8, 0.2, 0.2],r,p)\n",
    "        marker_tn.append(create_coordinate_frame_visualization(r, p))\n",
    "    else:\n",
    "        marker_tn = []\n",
    "    if mesh is not None:\n",
    "        o3d.visualization.draw_geometries(marker_3d_transformed + marker_3d_target + marker_tn + [mesh])\n",
    "    else:\n",
    "        o3d.visualization.draw_geometries(marker_3d_transformed + marker_3d_target + marker_tn)"
   ]
  },
  {
   "cell_type": "code",
   "execution_count": 102,
   "id": "impossible-above",
   "metadata": {},
   "outputs": [],
   "source": [
    "def display_o3d_all(data):\n",
    "    v_list = []\n",
    "    for i in data:\n",
    "        m1 = data[i][0].T\n",
    "        m2 = data[i][1].T\n",
    "        p= m1.t.reshape((3,1))\n",
    "        r= m1.R\n",
    "        o_p = m2.t.reshape((3,1))\n",
    "        o_r = m2.R\n",
    "        marker = np.load('./test_data/marker2.npy')\n",
    "        marker_3d_transformed = create_marker_visualization(marker, [0.2, 0.2, 0.8], o_r, o_p)\n",
    "        marker_3d_transformed.append(create_coordinate_frame_visualization(o_r, o_p))\n",
    "        marker = np.load('./test_data/marker1.npy')\n",
    "        marker_3d_target = create_marker_visualization(marker, [0.8, 0.2, 0.8],r,p)\n",
    "        marker_3d_target.append(create_coordinate_frame_visualization(r, p))\n",
    "        if i == 0:\n",
    "            v_list = marker_3d_transformed + marker_3d_target\n",
    "        else:\n",
    "            v_list += marker_3d_transformed + marker_3d_target\n",
    "    o3d.visualization.draw_geometries(v_list)"
   ]
  },
  {
   "cell_type": "code",
   "execution_count": 7,
   "id": "rural-alexandria",
   "metadata": {},
   "outputs": [],
   "source": [
    "def check_det(a):\n",
    "    print(\"The det of the Transfrom is: \", np.linalg.det(a[:3,:3]))\n",
    "    print(np.linalg.det(a[:3,:3]) == 1)"
   ]
  },
  {
   "cell_type": "markdown",
   "id": "responsible-being",
   "metadata": {},
   "source": [
    "## Pick DICOM files"
   ]
  },
  {
   "cell_type": "code",
   "execution_count": 123,
   "id": "rolled-segment",
   "metadata": {},
   "outputs": [],
   "source": [
    "data = {}\n",
    "s_num = 0\n",
    "cal_m1_list = []\n",
    "fk_list = []\n",
    "button = ['+x','-x','+y','-y','+z','-z','+r','-r','+θ','-θ','+φ','-φ']"
   ]
  },
  {
   "cell_type": "code",
   "execution_count": 137,
   "id": "neutral-observer",
   "metadata": {},
   "outputs": [
    {
     "data": {
      "application/vnd.jupyter.widget-view+json": {
       "model_id": "a5ab356955034b15b8da86113000063f",
       "version_major": 2,
       "version_minor": 0
      },
      "text/plain": [
       "interactive(children=(Dropdown(description='series_to_load', options=('1.2.840.113619.2.416.107981949962459061…"
      ]
     },
     "metadata": {},
     "output_type": "display_data"
    }
   ],
   "source": [
    "data_directory = \"./test_data/DICOM\" #******* Change data_directory for using differnt scans ***********\n",
    "# Global variable 'selected_series' is updated by the interact function\n",
    "selected_series = ''\n",
    "file_reader = sitk.ImageFileReader()\n",
    "# Directory contains multiple DICOM studies/series, store\n",
    "# in dictionary with key being the series ID\n",
    "series_file_names = {}\n",
    "series_IDs = sitk.ImageSeriesReader_GetGDCMSeriesIDs(data_directory)\n",
    "# Check that we have at least one series\n",
    "if series_IDs:\n",
    "    for series in series_IDs:\n",
    "        series_file_names[series] = sitk.ImageSeriesReader_GetGDCMSeriesFileNames(data_directory, series)\n",
    "\n",
    "    interact(DICOM_series_dropdown_callback, series_to_load=list(series_IDs), series_dictionary=fixed(series_file_names)); \n",
    "else:\n",
    "    print('Data directory does not contain any DICOM series.')"
   ]
  },
  {
   "cell_type": "markdown",
   "id": "obvious-equation",
   "metadata": {},
   "source": [
    "### Find End Efeector and Base Marker"
   ]
  },
  {
   "cell_type": "code",
   "execution_count": 138,
   "id": "fifth-engineering",
   "metadata": {
    "scrolled": true
   },
   "outputs": [
    {
     "name": "stdout",
     "output_type": "stream",
     "text": [
      "spacing:  [0.62 0.98 0.98]\n",
      "image shape in sitk (x,y,z): width 512 then height 512 then depth 48\n",
      " origin:  [ -19.69 -250.   -250.  ]\n",
      "numpy version shape: (z,y,x) (48, 512, 512)\n",
      "locations of different pixels in image [(-250.0, -250.0, -19.687), (250.00025599999998, 250.00025599999998, 10.312999999999999)]\n",
      "there math https://discourse.itk.org/t/solved-transformindextophysicalpoint-manually/1031/10\n",
      "perhpas mcubes mirrors?\n",
      "extreme simple itk pixels: [-992, -1006]\n",
      "extreme simple itk pixels: [-992, -1006]\n",
      "verts shape: (13358, 3)\n",
      "verts type: <class 'numpy.ndarray'>\n",
      "[Open3D INFO] Skipping non-triangle primitive geometry of type: 1\n",
      "[Open3D INFO] Skipping non-triangle primitive geometry of type: 2\n",
      "[Open3D DEBUG] [ClusterConnectedTriangles] Compute triangle adjacency\n",
      "[Open3D DEBUG] [ClusterConnectedTriangles] Done computing triangle adjacency\n",
      "[Open3D DEBUG] [ClusterConnectedTriangles] Done clustering, #clusters=3\n",
      "[Open3D WARNING] [KDTreeFlann::SetRawData] Failed due to no data.\n",
      "[Open3D WARNING] [KDTreeFlann::SetRawData] Failed due to no data.\n",
      "[Open3D DEBUG] Precompute Neighbours\n",
      "[Open3D DEBUG] Done Precompute Neighbours\n",
      "[Open3D DEBUG] Compute Clusters\n",
      "[Open3D DEBUG] Done Compute Clusters: 0\n"
     ]
    },
    {
     "ename": "ValueError",
     "evalue": "zero-size array to reduction operation maximum which has no identity",
     "output_type": "error",
     "traceback": [
      "\u001b[1;31m---------------------------------------------------------------------------\u001b[0m",
      "\u001b[1;31mValueError\u001b[0m                                Traceback (most recent call last)",
      "Input \u001b[1;32mIn [138]\u001b[0m, in \u001b[0;36m<cell line: 3>\u001b[1;34m()\u001b[0m\n\u001b[0;32m      1\u001b[0m time \u001b[38;5;241m=\u001b[39m datetime\u001b[38;5;241m.\u001b[39mdatetime\u001b[38;5;241m.\u001b[39mnow()\n\u001b[0;32m      2\u001b[0m time \u001b[38;5;241m=\u001b[39m time\u001b[38;5;241m.\u001b[39mstrftime(\u001b[38;5;124m\"\u001b[39m\u001b[38;5;124m%\u001b[39m\u001b[38;5;124mm/\u001b[39m\u001b[38;5;132;01m%d\u001b[39;00m\u001b[38;5;124m/\u001b[39m\u001b[38;5;124m%\u001b[39m\u001b[38;5;124my \u001b[39m\u001b[38;5;124m%\u001b[39m\u001b[38;5;124mI:\u001b[39m\u001b[38;5;124m%\u001b[39m\u001b[38;5;124mM\u001b[39m\u001b[38;5;124m%\u001b[39m\u001b[38;5;124mp\u001b[39m\u001b[38;5;124m\"\u001b[39m)\n\u001b[1;32m----> 3\u001b[0m marker1,marker2,mesh \u001b[38;5;241m=\u001b[39m \u001b[43mget_marker\u001b[49m\u001b[43m(\u001b[49m\u001b[43mselected_series\u001b[49m\u001b[43m,\u001b[49m\u001b[43mtime\u001b[49m\u001b[43m)\u001b[49m\n",
      "Input \u001b[1;32mIn [13]\u001b[0m, in \u001b[0;36mget_marker\u001b[1;34m(selected_series, time, v, debug)\u001b[0m\n\u001b[0;32m     52\u001b[0m convert_mha_to_mesh(output_mesh_file \u001b[38;5;241m=\u001b[39m \u001b[38;5;124m'\u001b[39m\u001b[38;5;124mtemp_mesh.obj\u001b[39m\u001b[38;5;124m'\u001b[39m)\n\u001b[0;32m     54\u001b[0m \u001b[38;5;66;03m#find candidate fiducials within the scanner returning clustered centroids that could be rigid body markers\u001b[39;00m\n\u001b[1;32m---> 55\u001b[0m _, marker_centroid_coordinates, pcd_selected, marker_mesh, _, good_centroid_clusters \u001b[38;5;241m=\u001b[39m \u001b[43mfind_candidate_centroids\u001b[49m\u001b[43m(\u001b[49m\u001b[43mmarker\u001b[49m\u001b[43m \u001b[49m\u001b[38;5;241;43m=\u001b[39;49m\u001b[43m \u001b[49m\u001b[43mmarker\u001b[49m\u001b[43m,\u001b[49m\u001b[43m \u001b[49m\u001b[43mdebug\u001b[49m\u001b[38;5;241;43m=\u001b[39;49m\u001b[43mdebug\u001b[49m\u001b[43m)\u001b[49m\n\u001b[0;32m     56\u001b[0m \u001b[38;5;28;01mif\u001b[39;00m debug:\n\u001b[0;32m     57\u001b[0m     \u001b[38;5;28mprint\u001b[39m(\u001b[38;5;124m'\u001b[39m\u001b[38;5;124mmarker centroid coordinates from design: \u001b[39m\u001b[38;5;132;01m{}\u001b[39;00m\u001b[38;5;124m'\u001b[39m\u001b[38;5;241m.\u001b[39mformat(marker))\n",
      "File \u001b[1;32m~\\Documents\\GitHub\\ct-fiducial-tracking\\ct_tracking_library\\ct_tracking_functions.py:264\u001b[0m, in \u001b[0;36mfind_candidate_centroids\u001b[1;34m(marker, input_mesh_file, debug, diameter_tolerance, sphere_fit_rmse_tolerance, r_target, min_sphere_cluster_points)\u001b[0m\n\u001b[0;32m    261\u001b[0m \u001b[38;5;28;01mif\u001b[39;00m debug:\n\u001b[0;32m    262\u001b[0m     \u001b[38;5;28mprint\u001b[39m(labels\u001b[38;5;241m.\u001b[39mmax() )\n\u001b[1;32m--> 264\u001b[0m max_label \u001b[38;5;241m=\u001b[39m \u001b[43mlabels\u001b[49m\u001b[38;5;241;43m.\u001b[39;49m\u001b[43mmax\u001b[49m\u001b[43m(\u001b[49m\u001b[43m)\u001b[49m  \n\u001b[0;32m    266\u001b[0m colors \u001b[38;5;241m=\u001b[39m plt\u001b[38;5;241m.\u001b[39mget_cmap(\u001b[38;5;124m\"\u001b[39m\u001b[38;5;124mtab20\u001b[39m\u001b[38;5;124m\"\u001b[39m)(labels \u001b[38;5;241m/\u001b[39m (max_label \u001b[38;5;28;01mif\u001b[39;00m max_label \u001b[38;5;241m>\u001b[39m \u001b[38;5;241m0\u001b[39m \u001b[38;5;28;01melse\u001b[39;00m \u001b[38;5;241m1\u001b[39m))\n\u001b[0;32m    267\u001b[0m colors[labels \u001b[38;5;241m<\u001b[39m \u001b[38;5;241m0\u001b[39m] \u001b[38;5;241m=\u001b[39m \u001b[38;5;241m0\u001b[39m\n",
      "File \u001b[1;32mC:\\ProgramData\\Anaconda3\\lib\\site-packages\\numpy\\core\\_methods.py:40\u001b[0m, in \u001b[0;36m_amax\u001b[1;34m(a, axis, out, keepdims, initial, where)\u001b[0m\n\u001b[0;32m     38\u001b[0m \u001b[38;5;28;01mdef\u001b[39;00m \u001b[38;5;21m_amax\u001b[39m(a, axis\u001b[38;5;241m=\u001b[39m\u001b[38;5;28;01mNone\u001b[39;00m, out\u001b[38;5;241m=\u001b[39m\u001b[38;5;28;01mNone\u001b[39;00m, keepdims\u001b[38;5;241m=\u001b[39m\u001b[38;5;28;01mFalse\u001b[39;00m,\n\u001b[0;32m     39\u001b[0m           initial\u001b[38;5;241m=\u001b[39m_NoValue, where\u001b[38;5;241m=\u001b[39m\u001b[38;5;28;01mTrue\u001b[39;00m):\n\u001b[1;32m---> 40\u001b[0m     \u001b[38;5;28;01mreturn\u001b[39;00m \u001b[43mumr_maximum\u001b[49m\u001b[43m(\u001b[49m\u001b[43ma\u001b[49m\u001b[43m,\u001b[49m\u001b[43m \u001b[49m\u001b[43maxis\u001b[49m\u001b[43m,\u001b[49m\u001b[43m \u001b[49m\u001b[38;5;28;43;01mNone\u001b[39;49;00m\u001b[43m,\u001b[49m\u001b[43m \u001b[49m\u001b[43mout\u001b[49m\u001b[43m,\u001b[49m\u001b[43m \u001b[49m\u001b[43mkeepdims\u001b[49m\u001b[43m,\u001b[49m\u001b[43m \u001b[49m\u001b[43minitial\u001b[49m\u001b[43m,\u001b[49m\u001b[43m \u001b[49m\u001b[43mwhere\u001b[49m\u001b[43m)\u001b[49m\n",
      "\u001b[1;31mValueError\u001b[0m: zero-size array to reduction operation maximum which has no identity"
     ]
    }
   ],
   "source": [
    "time = datetime.datetime.now()\n",
    "time = time.strftime(\"%m/%d/%y %I:%M%p\")\n",
    "marker1,marker2,mesh = get_marker(selected_series,time)"
   ]
  },
  {
   "cell_type": "markdown",
   "id": "simplified-animal",
   "metadata": {},
   "source": [
    "### Display"
   ]
  },
  {
   "cell_type": "code",
   "execution_count": 92,
   "id": "official-minority",
   "metadata": {},
   "outputs": [],
   "source": [
    "display_o3d(marker1.T,marker2.T,mesh)"
   ]
  },
  {
   "cell_type": "code",
   "execution_count": 77,
   "id": "spoken-service",
   "metadata": {},
   "outputs": [],
   "source": [
    "FK_robot_tip = np.array(([-1,0.1,0,-.3],[.01,1,.07,-1.81],[0,0.07,-1,1.18],[0,0,0,1]))"
   ]
  },
  {
   "cell_type": "code",
   "execution_count": 99,
   "id": "promising-folder",
   "metadata": {},
   "outputs": [
    {
     "ename": "NameError",
     "evalue": "name 'FK_robot_tip' is not defined",
     "output_type": "error",
     "traceback": [
      "\u001b[1;31m---------------------------------------------------------------------------\u001b[0m",
      "\u001b[1;31mNameError\u001b[0m                                 Traceback (most recent call last)",
      "Input \u001b[1;32mIn [99]\u001b[0m, in \u001b[0;36m<cell line: 3>\u001b[1;34m()\u001b[0m\n\u001b[0;32m      1\u001b[0m \u001b[38;5;66;03m#Target = np.array(([8.21e-3,9.98e-1,5.45e-2,2.39e-2],[1.38e-1,-5.50e-2,9.89e-1,-1.75e-1],[9.90e-1,-6.8e-4,-1.38e-1,8.9e-2],[0,0,0,1]))\u001b[39;00m\n\u001b[0;32m      2\u001b[0m rbot_wrold_to_robot_base \u001b[38;5;241m=\u001b[39m np\u001b[38;5;241m.\u001b[39marray(([\u001b[38;5;241m0\u001b[39m,\u001b[38;5;241m.\u001b[39m\u001b[38;5;241m04\u001b[39m,\u001b[38;5;241m-\u001b[39m\u001b[38;5;241m1\u001b[39m,\u001b[38;5;241m-\u001b[39m\u001b[38;5;241m0.21\u001b[39m],[\u001b[38;5;241m1\u001b[39m,\u001b[38;5;241m0.2\u001b[39m,\u001b[38;5;241m0\u001b[39m,\u001b[38;5;241m-\u001b[39m\u001b[38;5;241m1.87\u001b[39m],[\u001b[38;5;241m.\u001b[39m\u001b[38;5;241m02\u001b[39m,\u001b[38;5;241m-\u001b[39m\u001b[38;5;241m1\u001b[39m,\u001b[38;5;241m-\u001b[39m\u001b[38;5;241m.\u001b[39m\u001b[38;5;241m04\u001b[39m,\u001b[38;5;241m.\u001b[39m\u001b[38;5;241m98\u001b[39m],[\u001b[38;5;241m0\u001b[39m,\u001b[38;5;241m0\u001b[39m,\u001b[38;5;241m0\u001b[39m,\u001b[38;5;241m1\u001b[39m]))\n\u001b[1;32m----> 3\u001b[0m FK_robot_tip \u001b[38;5;241m=\u001b[39m trnorm(\u001b[43mFK_robot_tip\u001b[49m)\n\u001b[0;32m      4\u001b[0m rbot_wrold_to_robot_base \u001b[38;5;241m=\u001b[39m trnorm(rbot_wrold_to_robot_base)\n\u001b[0;32m      5\u001b[0m t2 \u001b[38;5;241m=\u001b[39m SE3(martix)\n",
      "\u001b[1;31mNameError\u001b[0m: name 'FK_robot_tip' is not defined"
     ]
    }
   ],
   "source": [
    "#Target = np.array(([8.21e-3,9.98e-1,5.45e-2,2.39e-2],[1.38e-1,-5.50e-2,9.89e-1,-1.75e-1],[9.90e-1,-6.8e-4,-1.38e-1,8.9e-2],[0,0,0,1]))\n",
    "rbot_wrold_to_robot_base = np.array(([0,.04,-1,-0.21],[1,0.2,0,-1.87],[.02,-1,-.04,.98],[0,0,0,1]))\n",
    "FK_robot_tip = trnorm(FK_robot_tip)\n",
    "rbot_wrold_to_robot_base = trnorm(rbot_wrold_to_robot_base)\n",
    "t2 = SE3(martix)\n",
    "t2.t= t2.t*1000\n",
    "t1 = SE3(FK_robot_tip)\n",
    "t1.t= t1.t*1000"
   ]
  },
  {
   "cell_type": "code",
   "execution_count": 59,
   "id": "center-amber",
   "metadata": {},
   "outputs": [
    {
     "name": "stdout",
     "output_type": "stream",
     "text": [
      "  -0.007832  0.03919  -0.9992   -0.21      \n",
      "   0.9806    0.196     0        -1.87      \n",
      "   0.1958   -0.9798   -0.03997   0.98      \n",
      "   0         0         0         1         \n",
      "\n",
      "  -0.9951    0.09926   0        -0.3       \n",
      "   0.09902   0.9926    0.06983  -1.81      \n",
      "   0.006931  0.06948  -0.9976    1.18      \n",
      "   0         0         0         1         \n",
      "\n",
      "   0.1063    0.9862   -0.1269    0.0987    \n",
      "  -0.02639   0.1303    0.9911   -0.1877    \n",
      "   0.994    -0.102     0.03987   0.08193   \n",
      "   0         0         0         1         \n",
      "\n"
     ]
    }
   ],
   "source": [
    "cal_m1 = t2.inv()*t1\n",
    "display_o3d(t1,t2)"
   ]
  },
  {
   "cell_type": "code",
   "execution_count": null,
   "id": "shaped-omega",
   "metadata": {},
   "outputs": [],
   "source": [
    "cal_m1_list.append(cal_m1)\n",
    "fk_list.append(FK_robot_tip)"
   ]
  },
  {
   "cell_type": "code",
   "execution_count": 140,
   "id": "welcome-developer",
   "metadata": {},
   "outputs": [],
   "source": [
    "append_value(data, \"scan\"+str(s_num), marker1)\n",
    "append_value(data, \"scan\"+str(s_num), marker2)\n",
    "d_name = 'crane_data_rotaion_test'+str(s_num)+'.pkl'\n",
    "with open(d_name, 'wb') as f:\n",
    "    pickle.dump(data, f)\n",
    "s_num += 1"
   ]
  },
  {
   "cell_type": "code",
   "execution_count": 141,
   "id": "bright-russian",
   "metadata": {},
   "outputs": [],
   "source": [
    "display_o3d_all(data)"
   ]
  },
  {
   "cell_type": "code",
   "execution_count": null,
   "id": "revolutionary-schedule",
   "metadata": {},
   "outputs": [],
   "source": [
    "with open('./test_data/cal_m1.pkl', 'wb') as f:\n",
    "    pickle.dump(cal_m1_list, f)"
   ]
  },
  {
   "cell_type": "markdown",
   "id": "geographic-skirt",
   "metadata": {},
   "source": [
    "## Get Detail Mesh"
   ]
  },
  {
   "cell_type": "code",
   "execution_count": 16,
   "id": "thousand-briefs",
   "metadata": {},
   "outputs": [
    {
     "name": "stdout",
     "output_type": "stream",
     "text": [
      "spacing:  [0.62 0.98 0.98]\n",
      "image shape in sitk (x,y,z): width 512 then height 512 then depth 256\n",
      " origin:  [-149.69 -250.   -250.  ]\n",
      "numpy version shape: (z,y,x) (256, 512, 512)\n",
      "locations of different pixels in image [(-250.0, -250.0, -149.687), (250.00025599999998, 250.00025599999998, 10.312999999999988)]\n",
      "there math https://discourse.itk.org/t/solved-transformindextophysicalpoint-manually/1031/10\n",
      "perhpas mcubes mirrors?\n",
      "extreme simple itk pixels: [-195, -974]\n",
      "extreme simple itk pixels: [-195, -974]\n",
      "verts shape: (1559071, 3)\n",
      "verts type: <class 'numpy.ndarray'>\n",
      "[Open3D INFO] Skipping non-triangle primitive geometry of type: 1\n",
      "[Open3D INFO] Skipping non-triangle primitive geometry of type: 2\n"
     ]
    }
   ],
   "source": [
    "convert_mha_to_mesh(output_mesh_file = 'temp_full_mesh.obj', threshold_value = 0)\n",
    "temp_full_mesh = o3d.io.read_triangle_mesh('temp_full_mesh.obj').paint_uniform_color([0.7, 0.7, 0.7]).compute_vertex_normals()"
   ]
  },
  {
   "cell_type": "markdown",
   "id": "asian-chuck",
   "metadata": {},
   "source": [
    "# find Base maarker"
   ]
  },
  {
   "cell_type": "code",
   "execution_count": null,
   "id": "choice-sound",
   "metadata": {},
   "outputs": [],
   "source": [
    "marker = np.load('./test_data/marker1.npy')\n",
    "marker = marker - marker.mean(axis=0) - np.array([2,0,0])\n",
    "crop_z = None\n",
    "convert_scan_to_mha(series_file_names[selected_series], crop_z = crop_z)\n",
    "convert_mha_to_mesh(output_mesh_file = 'temp_mesh.obj')\n",
    "_, marker_centroid_coordinates, pcd_selected, marker_mesh, _, good_centroid_clusters = find_candidate_centroids(marker = marker, debug=False)\n",
    "tracked_R, tracked_t, permuted_centroids, min_error = find_best_transform_from_candidate_marker_clusters(marker, good_centroid_clusters)\n",
    "permuted_centroids = permuted_centroids[:3,:].T\n",
    "transformed_marker = (tracked_R @ marker.T + tracked_t).T\n",
    "marker2 = SE3(t2T(tracked_R, tracked_t))"
   ]
  },
  {
   "cell_type": "code",
   "execution_count": null,
   "id": "renewable-innocent",
   "metadata": {},
   "outputs": [],
   "source": [
    "Target = np.array(([8.21e-3,9.98e-1,5.45e-2,2.39e-2],[1.38e-1,-5.50e-2,9.89e-1,-1.75e-1],[9.90e-1,-6.8e-4,-1.38e-1,8.9e-2],[0,0,0,1]))\n",
    "martix = np.array(([0,.04,-1,-0.21],[1,0.2,0,-1.87],[.02,-1,-.04,.98],[0,0,0,1]))\n",
    "Target = trnorm(Target)\n",
    "martix = trnorm(martix)\n",
    "check_det(martix)\n",
    "check_det(Target)\n",
    "rw_T = SE3(martix,check=False)*marker2.inv()*SE3(Target,check=False)\n",
    "# Display in open3d\n",
    "display_o3d(marker2,rw_T,temp_full_mesh)"
   ]
  }
 ],
 "metadata": {
  "kernelspec": {
   "display_name": "Python 3 (ipykernel)",
   "language": "python",
   "name": "python3"
  },
  "language_info": {
   "codemirror_mode": {
    "name": "ipython",
    "version": 3
   },
   "file_extension": ".py",
   "mimetype": "text/x-python",
   "name": "python",
   "nbconvert_exporter": "python",
   "pygments_lexer": "ipython3",
   "version": "3.8.13"
  }
 },
 "nbformat": 4,
 "nbformat_minor": 5
}
